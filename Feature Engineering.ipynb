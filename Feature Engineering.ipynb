{
 "cells": [
  {
   "cell_type": "code",
   "execution_count": 1,
   "id": "6699cc65-eb3a-4394-8399-059a57f88782",
   "metadata": {},
   "outputs": [],
   "source": [
    "import seaborn as sns\n",
    "from matplotlib import pyplot as plt\n",
    "import matplotlib.pyplot as plt\n",
    "import numpy as np\n",
    "import pandas as pd\n",
    "import requests\n",
    "import re\n",
    "from sklearn.preprocessing import OneHotEncoder, LabelEncoder\n"
   ]
  },
  {
   "cell_type": "markdown",
   "id": "8d4e0d24-6e13-4261-b06a-f235c938352d",
   "metadata": {},
   "source": [
    "# Loading the dataset"
   ]
  },
  {
   "cell_type": "code",
   "execution_count": 3,
   "id": "b02da203-9518-4a9e-9a1d-32353a5db43d",
   "metadata": {},
   "outputs": [],
   "source": [
    "df = pd.read_csv('/Users/wairimunganga/Downloads/cars.csv',on_bad_lines='skip',low_memory=False)"
   ]
  },
  {
   "cell_type": "markdown",
   "id": "42d92ac5-1254-4dec-8611-c7c5fa454a36",
   "metadata": {},
   "source": [
    "# Exploratory Data Analysis on our DataFrame"
   ]
  },
  {
   "cell_type": "code",
   "execution_count": 5,
   "id": "bba76502-de89-4d1d-aa43-6d5d77c322eb",
   "metadata": {},
   "outputs": [
    {
     "name": "stdout",
     "output_type": "stream",
     "text": [
      "Initial data shape: (34236, 26)\n",
      "           id                                                url  \\\n",
      "0  7222695916  https://prescott.craigslist.org/cto/d/prescott...   \n",
      "1  7218891961  https://fayar.craigslist.org/ctd/d/bentonville...   \n",
      "2  7221797935  https://keys.craigslist.org/cto/d/summerland-k...   \n",
      "3  7222270760  https://worcester.craigslist.org/cto/d/west-br...   \n",
      "4  7210384030  https://greensboro.craigslist.org/cto/d/trinit...   \n",
      "\n",
      "                     region                         region_url  price year  \\\n",
      "0                  prescott    https://prescott.craigslist.org   6000    ?   \n",
      "1              fayetteville       https://fayar.craigslist.org  11900    ?   \n",
      "2            'florida keys'        https://keys.craigslist.org  21000    ?   \n",
      "3  'worcester / central MA'   https://worcester.craigslist.org   1500    ?   \n",
      "4                greensboro  https://greensboro.craigslist.org   4900    ?   \n",
      "\n",
      "  manufacturer model condition cylinders  ... size type paint_color image_url  \\\n",
      "0            ?     ?         ?         ?  ...    ?    ?           ?         ?   \n",
      "1            ?     ?         ?         ?  ...    ?    ?           ?         ?   \n",
      "2            ?     ?         ?         ?  ...    ?    ?           ?         ?   \n",
      "3            ?     ?         ?         ?  ...    ?    ?           ?         ?   \n",
      "4            ?     ?         ?         ?  ...    ?    ?           ?         ?   \n",
      "\n",
      "  description county state lat long posting_date  \n",
      "0           ?      ?    az   ?    ?            ?  \n",
      "1           ?      ?    ar   ?    ?            ?  \n",
      "2           ?      ?    fl   ?    ?            ?  \n",
      "3           ?      ?    ma   ?    ?            ?  \n",
      "4           ?      ?    nc   ?    ?            ?  \n",
      "\n",
      "[5 rows x 26 columns]\n"
     ]
    }
   ],
   "source": [
    "print(\"Initial data shape:\", df.shape)\n",
    "print(df.head())"
   ]
  },
  {
   "cell_type": "markdown",
   "id": "6cf225f1-4565-419d-8847-6d7ac8b415eb",
   "metadata": {},
   "source": [
    "###  Summary of statistical measures (count, mean, standard deviation, minimum,  maximum, and percentiles) for each numerical column in the DataFrame"
   ]
  },
  {
   "cell_type": "code",
   "execution_count": 7,
   "id": "8c5db172-baa5-4673-9ee6-ba0420d428b6",
   "metadata": {},
   "outputs": [
    {
     "data": {
      "text/html": [
       "<div>\n",
       "<style scoped>\n",
       "    .dataframe tbody tr th:only-of-type {\n",
       "        vertical-align: middle;\n",
       "    }\n",
       "\n",
       "    .dataframe tbody tr th {\n",
       "        vertical-align: top;\n",
       "    }\n",
       "\n",
       "    .dataframe thead th {\n",
       "        text-align: right;\n",
       "    }\n",
       "</style>\n",
       "<table border=\"1\" class=\"dataframe\">\n",
       "  <thead>\n",
       "    <tr style=\"text-align: right;\">\n",
       "      <th></th>\n",
       "      <th>id</th>\n",
       "      <th>price</th>\n",
       "    </tr>\n",
       "  </thead>\n",
       "  <tbody>\n",
       "    <tr>\n",
       "      <th>count</th>\n",
       "      <td>3.423600e+04</td>\n",
       "      <td>3.423600e+04</td>\n",
       "    </tr>\n",
       "    <tr>\n",
       "      <th>mean</th>\n",
       "      <td>7.311948e+09</td>\n",
       "      <td>2.472189e+05</td>\n",
       "    </tr>\n",
       "    <tr>\n",
       "      <th>std</th>\n",
       "      <td>5.354992e+06</td>\n",
       "      <td>2.663387e+07</td>\n",
       "    </tr>\n",
       "    <tr>\n",
       "      <th>min</th>\n",
       "      <td>7.207408e+09</td>\n",
       "      <td>0.000000e+00</td>\n",
       "    </tr>\n",
       "    <tr>\n",
       "      <th>25%</th>\n",
       "      <td>7.309093e+09</td>\n",
       "      <td>3.499000e+03</td>\n",
       "    </tr>\n",
       "    <tr>\n",
       "      <th>50%</th>\n",
       "      <td>7.313492e+09</td>\n",
       "      <td>6.000000e+03</td>\n",
       "    </tr>\n",
       "    <tr>\n",
       "      <th>75%</th>\n",
       "      <td>7.315583e+09</td>\n",
       "      <td>1.100000e+04</td>\n",
       "    </tr>\n",
       "    <tr>\n",
       "      <th>max</th>\n",
       "      <td>7.317095e+09</td>\n",
       "      <td>3.736929e+09</td>\n",
       "    </tr>\n",
       "  </tbody>\n",
       "</table>\n",
       "</div>"
      ],
      "text/plain": [
       "                 id         price\n",
       "count  3.423600e+04  3.423600e+04\n",
       "mean   7.311948e+09  2.472189e+05\n",
       "std    5.354992e+06  2.663387e+07\n",
       "min    7.207408e+09  0.000000e+00\n",
       "25%    7.309093e+09  3.499000e+03\n",
       "50%    7.313492e+09  6.000000e+03\n",
       "75%    7.315583e+09  1.100000e+04\n",
       "max    7.317095e+09  3.736929e+09"
      ]
     },
     "execution_count": 7,
     "metadata": {},
     "output_type": "execute_result"
    }
   ],
   "source": [
    "df.describe()"
   ]
  },
  {
   "cell_type": "markdown",
   "id": "076967e5-70cb-4f40-9401-41b595bbcf5b",
   "metadata": {},
   "source": [
    "### Number of missing (null) values in each column of our DataFrame"
   ]
  },
  {
   "cell_type": "code",
   "execution_count": 9,
   "id": "ca064924-5a1d-4da1-a5bb-f76a837203b6",
   "metadata": {
    "scrolled": true
   },
   "outputs": [
    {
     "data": {
      "text/plain": [
       "id              0\n",
       "url             0\n",
       "region          0\n",
       "region_url      0\n",
       "price           0\n",
       "year            0\n",
       "manufacturer    0\n",
       "model           0\n",
       "condition       0\n",
       "cylinders       0\n",
       "fuel            0\n",
       "odometer        0\n",
       "title_status    0\n",
       "transmission    0\n",
       "VIN             0\n",
       "drive           0\n",
       "size            0\n",
       "type            0\n",
       "paint_color     0\n",
       "image_url       0\n",
       "description     0\n",
       "county          0\n",
       "state           0\n",
       "lat             0\n",
       "long            0\n",
       "posting_date    0\n",
       "dtype: int64"
      ]
     },
     "execution_count": 9,
     "metadata": {},
     "output_type": "execute_result"
    }
   ],
   "source": [
    "df.isnull().sum()"
   ]
  },
  {
   "cell_type": "markdown",
   "id": "bf26ee6b-b0f4-4174-9710-0fab339522b6",
   "metadata": {},
   "source": [
    "###  Replacing all occurrences of the string '?' in the DataFrame `df`  with NaN (Not a Number) values."
   ]
  },
  {
   "cell_type": "code",
   "execution_count": 11,
   "id": "5122cc21-9fac-4b26-b910-d33e84bed9fb",
   "metadata": {},
   "outputs": [],
   "source": [
    "pd.set_option('future.no_silent_downcasting', True)"
   ]
  },
  {
   "cell_type": "code",
   "execution_count": 12,
   "id": "55aa56e0-ef40-47a0-8e2d-d5b3b958173d",
   "metadata": {},
   "outputs": [
    {
     "data": {
      "text/html": [
       "<div>\n",
       "<style scoped>\n",
       "    .dataframe tbody tr th:only-of-type {\n",
       "        vertical-align: middle;\n",
       "    }\n",
       "\n",
       "    .dataframe tbody tr th {\n",
       "        vertical-align: top;\n",
       "    }\n",
       "\n",
       "    .dataframe thead th {\n",
       "        text-align: right;\n",
       "    }\n",
       "</style>\n",
       "<table border=\"1\" class=\"dataframe\">\n",
       "  <thead>\n",
       "    <tr style=\"text-align: right;\">\n",
       "      <th></th>\n",
       "      <th>id</th>\n",
       "      <th>url</th>\n",
       "      <th>region</th>\n",
       "      <th>region_url</th>\n",
       "      <th>price</th>\n",
       "      <th>year</th>\n",
       "      <th>manufacturer</th>\n",
       "      <th>model</th>\n",
       "      <th>condition</th>\n",
       "      <th>cylinders</th>\n",
       "      <th>...</th>\n",
       "      <th>size</th>\n",
       "      <th>type</th>\n",
       "      <th>paint_color</th>\n",
       "      <th>image_url</th>\n",
       "      <th>description</th>\n",
       "      <th>county</th>\n",
       "      <th>state</th>\n",
       "      <th>lat</th>\n",
       "      <th>long</th>\n",
       "      <th>posting_date</th>\n",
       "    </tr>\n",
       "  </thead>\n",
       "  <tbody>\n",
       "    <tr>\n",
       "      <th>0</th>\n",
       "      <td>7222695916</td>\n",
       "      <td>https://prescott.craigslist.org/cto/d/prescott...</td>\n",
       "      <td>prescott</td>\n",
       "      <td>https://prescott.craigslist.org</td>\n",
       "      <td>6000</td>\n",
       "      <td>NaN</td>\n",
       "      <td>NaN</td>\n",
       "      <td>NaN</td>\n",
       "      <td>NaN</td>\n",
       "      <td>NaN</td>\n",
       "      <td>...</td>\n",
       "      <td>NaN</td>\n",
       "      <td>NaN</td>\n",
       "      <td>NaN</td>\n",
       "      <td>NaN</td>\n",
       "      <td>NaN</td>\n",
       "      <td>NaN</td>\n",
       "      <td>az</td>\n",
       "      <td>NaN</td>\n",
       "      <td>NaN</td>\n",
       "      <td>NaN</td>\n",
       "    </tr>\n",
       "    <tr>\n",
       "      <th>1</th>\n",
       "      <td>7218891961</td>\n",
       "      <td>https://fayar.craigslist.org/ctd/d/bentonville...</td>\n",
       "      <td>fayetteville</td>\n",
       "      <td>https://fayar.craigslist.org</td>\n",
       "      <td>11900</td>\n",
       "      <td>NaN</td>\n",
       "      <td>NaN</td>\n",
       "      <td>NaN</td>\n",
       "      <td>NaN</td>\n",
       "      <td>NaN</td>\n",
       "      <td>...</td>\n",
       "      <td>NaN</td>\n",
       "      <td>NaN</td>\n",
       "      <td>NaN</td>\n",
       "      <td>NaN</td>\n",
       "      <td>NaN</td>\n",
       "      <td>NaN</td>\n",
       "      <td>ar</td>\n",
       "      <td>NaN</td>\n",
       "      <td>NaN</td>\n",
       "      <td>NaN</td>\n",
       "    </tr>\n",
       "    <tr>\n",
       "      <th>2</th>\n",
       "      <td>7221797935</td>\n",
       "      <td>https://keys.craigslist.org/cto/d/summerland-k...</td>\n",
       "      <td>'florida keys'</td>\n",
       "      <td>https://keys.craigslist.org</td>\n",
       "      <td>21000</td>\n",
       "      <td>NaN</td>\n",
       "      <td>NaN</td>\n",
       "      <td>NaN</td>\n",
       "      <td>NaN</td>\n",
       "      <td>NaN</td>\n",
       "      <td>...</td>\n",
       "      <td>NaN</td>\n",
       "      <td>NaN</td>\n",
       "      <td>NaN</td>\n",
       "      <td>NaN</td>\n",
       "      <td>NaN</td>\n",
       "      <td>NaN</td>\n",
       "      <td>fl</td>\n",
       "      <td>NaN</td>\n",
       "      <td>NaN</td>\n",
       "      <td>NaN</td>\n",
       "    </tr>\n",
       "    <tr>\n",
       "      <th>3</th>\n",
       "      <td>7222270760</td>\n",
       "      <td>https://worcester.craigslist.org/cto/d/west-br...</td>\n",
       "      <td>'worcester / central MA'</td>\n",
       "      <td>https://worcester.craigslist.org</td>\n",
       "      <td>1500</td>\n",
       "      <td>NaN</td>\n",
       "      <td>NaN</td>\n",
       "      <td>NaN</td>\n",
       "      <td>NaN</td>\n",
       "      <td>NaN</td>\n",
       "      <td>...</td>\n",
       "      <td>NaN</td>\n",
       "      <td>NaN</td>\n",
       "      <td>NaN</td>\n",
       "      <td>NaN</td>\n",
       "      <td>NaN</td>\n",
       "      <td>NaN</td>\n",
       "      <td>ma</td>\n",
       "      <td>NaN</td>\n",
       "      <td>NaN</td>\n",
       "      <td>NaN</td>\n",
       "    </tr>\n",
       "    <tr>\n",
       "      <th>4</th>\n",
       "      <td>7210384030</td>\n",
       "      <td>https://greensboro.craigslist.org/cto/d/trinit...</td>\n",
       "      <td>greensboro</td>\n",
       "      <td>https://greensboro.craigslist.org</td>\n",
       "      <td>4900</td>\n",
       "      <td>NaN</td>\n",
       "      <td>NaN</td>\n",
       "      <td>NaN</td>\n",
       "      <td>NaN</td>\n",
       "      <td>NaN</td>\n",
       "      <td>...</td>\n",
       "      <td>NaN</td>\n",
       "      <td>NaN</td>\n",
       "      <td>NaN</td>\n",
       "      <td>NaN</td>\n",
       "      <td>NaN</td>\n",
       "      <td>NaN</td>\n",
       "      <td>nc</td>\n",
       "      <td>NaN</td>\n",
       "      <td>NaN</td>\n",
       "      <td>NaN</td>\n",
       "    </tr>\n",
       "    <tr>\n",
       "      <th>...</th>\n",
       "      <td>...</td>\n",
       "      <td>...</td>\n",
       "      <td>...</td>\n",
       "      <td>...</td>\n",
       "      <td>...</td>\n",
       "      <td>...</td>\n",
       "      <td>...</td>\n",
       "      <td>...</td>\n",
       "      <td>...</td>\n",
       "      <td>...</td>\n",
       "      <td>...</td>\n",
       "      <td>...</td>\n",
       "      <td>...</td>\n",
       "      <td>...</td>\n",
       "      <td>...</td>\n",
       "      <td>...</td>\n",
       "      <td>...</td>\n",
       "      <td>...</td>\n",
       "      <td>...</td>\n",
       "      <td>...</td>\n",
       "      <td>...</td>\n",
       "    </tr>\n",
       "    <tr>\n",
       "      <th>34231</th>\n",
       "      <td>7305718110</td>\n",
       "      <td>https://wyoming.craigslist.org/cto/d/thermopol...</td>\n",
       "      <td>wyoming</td>\n",
       "      <td>https://wyoming.craigslist.org</td>\n",
       "      <td>6500</td>\n",
       "      <td>2002.0</td>\n",
       "      <td>ford</td>\n",
       "      <td>'f 350'</td>\n",
       "      <td>NaN</td>\n",
       "      <td>NaN</td>\n",
       "      <td>...</td>\n",
       "      <td>NaN</td>\n",
       "      <td>NaN</td>\n",
       "      <td>NaN</td>\n",
       "      <td>https://images.craigslist.org/00404_8EkKcC6XuW...</td>\n",
       "      <td>'2002 Ford f 350 ext cab  295000 miles Power s...</td>\n",
       "      <td>NaN</td>\n",
       "      <td>wy</td>\n",
       "      <td>43.72509</td>\n",
       "      <td>-108.471457</td>\n",
       "      <td>2021-04-12T11:26:07-0600</td>\n",
       "    </tr>\n",
       "    <tr>\n",
       "      <th>34232</th>\n",
       "      <td>7305596553</td>\n",
       "      <td>https://wyoming.craigslist.org/cto/d/cheyenne-...</td>\n",
       "      <td>wyoming</td>\n",
       "      <td>https://wyoming.craigslist.org</td>\n",
       "      <td>2800</td>\n",
       "      <td>2000.0</td>\n",
       "      <td>chevrolet</td>\n",
       "      <td>'s10 pickup'</td>\n",
       "      <td>NaN</td>\n",
       "      <td>NaN</td>\n",
       "      <td>...</td>\n",
       "      <td>NaN</td>\n",
       "      <td>NaN</td>\n",
       "      <td>NaN</td>\n",
       "      <td>https://images.craigslist.org/00j0j_3i2W0MmbkI...</td>\n",
       "      <td>'2000 Chevy S 10 pick up runs great 142000 mil...</td>\n",
       "      <td>NaN</td>\n",
       "      <td>wy</td>\n",
       "      <td>41.1084</td>\n",
       "      <td>-104.8107</td>\n",
       "      <td>2021-04-12T08:24:13-0600</td>\n",
       "    </tr>\n",
       "    <tr>\n",
       "      <th>34233</th>\n",
       "      <td>7305590558</td>\n",
       "      <td>https://wyoming.craigslist.org/cto/d/rawlins-2...</td>\n",
       "      <td>wyoming</td>\n",
       "      <td>https://wyoming.craigslist.org</td>\n",
       "      <td>9000</td>\n",
       "      <td>2015.0</td>\n",
       "      <td>jeep</td>\n",
       "      <td>'wrangler unlimited'</td>\n",
       "      <td>salvage</td>\n",
       "      <td>'6 cylinders'</td>\n",
       "      <td>...</td>\n",
       "      <td>NaN</td>\n",
       "      <td>SUV</td>\n",
       "      <td>black</td>\n",
       "      <td>https://images.craigslist.org/00909_iyoc54RPpy...</td>\n",
       "      <td>'Salvage title from previous owner Engine dama...</td>\n",
       "      <td>NaN</td>\n",
       "      <td>wy</td>\n",
       "      <td>41.888456</td>\n",
       "      <td>-107.49508300000001</td>\n",
       "      <td>2021-04-12T08:13:21-0600</td>\n",
       "    </tr>\n",
       "    <tr>\n",
       "      <th>34234</th>\n",
       "      <td>7305379796</td>\n",
       "      <td>https://wyoming.craigslist.org/cto/d/arapahoe-...</td>\n",
       "      <td>wyoming</td>\n",
       "      <td>https://wyoming.craigslist.org</td>\n",
       "      <td>6500</td>\n",
       "      <td>2011.0</td>\n",
       "      <td>subaru</td>\n",
       "      <td>forester</td>\n",
       "      <td>good</td>\n",
       "      <td>'4 cylinders'</td>\n",
       "      <td>...</td>\n",
       "      <td>NaN</td>\n",
       "      <td>NaN</td>\n",
       "      <td>NaN</td>\n",
       "      <td>https://images.craigslist.org/00g0g_lUE50arLcV...</td>\n",
       "      <td>'This vehicle is in great shape! It\\'s mechani...</td>\n",
       "      <td>NaN</td>\n",
       "      <td>wy</td>\n",
       "      <td>42.9208</td>\n",
       "      <td>-108.5913</td>\n",
       "      <td>2021-04-11T16:25:00-0600</td>\n",
       "    </tr>\n",
       "    <tr>\n",
       "      <th>34235</th>\n",
       "      <td>7303806527</td>\n",
       "      <td>https://wyoming.craigslist.org/cto/d/laramie-2...</td>\n",
       "      <td>wyoming</td>\n",
       "      <td>https://wyoming.craigslist.org</td>\n",
       "      <td>800</td>\n",
       "      <td>2000.0</td>\n",
       "      <td>cadillac</td>\n",
       "      <td>deville</td>\n",
       "      <td>excellent</td>\n",
       "      <td>'8 cylinders'</td>\n",
       "      <td>...</td>\n",
       "      <td>full-size</td>\n",
       "      <td>coupe</td>\n",
       "      <td>white</td>\n",
       "      <td>https://images.craigslist.org/00f0f_1kOqCs4Ddv...</td>\n",
       "      <td>'2000 Cadillac Deville Needs thermostats New t...</td>\n",
       "      <td>NaN</td>\n",
       "      <td>wy</td>\n",
       "      <td>41.43899999999999</td>\n",
       "      <td>-105.801</td>\n",
       "      <td>2021-04-08T13:26:14-0600</td>\n",
       "    </tr>\n",
       "  </tbody>\n",
       "</table>\n",
       "<p>34236 rows × 26 columns</p>\n",
       "</div>"
      ],
      "text/plain": [
       "               id                                                url  \\\n",
       "0      7222695916  https://prescott.craigslist.org/cto/d/prescott...   \n",
       "1      7218891961  https://fayar.craigslist.org/ctd/d/bentonville...   \n",
       "2      7221797935  https://keys.craigslist.org/cto/d/summerland-k...   \n",
       "3      7222270760  https://worcester.craigslist.org/cto/d/west-br...   \n",
       "4      7210384030  https://greensboro.craigslist.org/cto/d/trinit...   \n",
       "...           ...                                                ...   \n",
       "34231  7305718110  https://wyoming.craigslist.org/cto/d/thermopol...   \n",
       "34232  7305596553  https://wyoming.craigslist.org/cto/d/cheyenne-...   \n",
       "34233  7305590558  https://wyoming.craigslist.org/cto/d/rawlins-2...   \n",
       "34234  7305379796  https://wyoming.craigslist.org/cto/d/arapahoe-...   \n",
       "34235  7303806527  https://wyoming.craigslist.org/cto/d/laramie-2...   \n",
       "\n",
       "                         region                         region_url  price  \\\n",
       "0                      prescott    https://prescott.craigslist.org   6000   \n",
       "1                  fayetteville       https://fayar.craigslist.org  11900   \n",
       "2                'florida keys'        https://keys.craigslist.org  21000   \n",
       "3      'worcester / central MA'   https://worcester.craigslist.org   1500   \n",
       "4                    greensboro  https://greensboro.craigslist.org   4900   \n",
       "...                         ...                                ...    ...   \n",
       "34231                   wyoming     https://wyoming.craigslist.org   6500   \n",
       "34232                   wyoming     https://wyoming.craigslist.org   2800   \n",
       "34233                   wyoming     https://wyoming.craigslist.org   9000   \n",
       "34234                   wyoming     https://wyoming.craigslist.org   6500   \n",
       "34235                   wyoming     https://wyoming.craigslist.org    800   \n",
       "\n",
       "         year manufacturer                 model  condition      cylinders  \\\n",
       "0         NaN          NaN                   NaN        NaN            NaN   \n",
       "1         NaN          NaN                   NaN        NaN            NaN   \n",
       "2         NaN          NaN                   NaN        NaN            NaN   \n",
       "3         NaN          NaN                   NaN        NaN            NaN   \n",
       "4         NaN          NaN                   NaN        NaN            NaN   \n",
       "...       ...          ...                   ...        ...            ...   \n",
       "34231  2002.0         ford               'f 350'        NaN            NaN   \n",
       "34232  2000.0    chevrolet          's10 pickup'        NaN            NaN   \n",
       "34233  2015.0         jeep  'wrangler unlimited'    salvage  '6 cylinders'   \n",
       "34234  2011.0       subaru              forester       good  '4 cylinders'   \n",
       "34235  2000.0     cadillac               deville  excellent  '8 cylinders'   \n",
       "\n",
       "       ...       size   type paint_color  \\\n",
       "0      ...        NaN    NaN         NaN   \n",
       "1      ...        NaN    NaN         NaN   \n",
       "2      ...        NaN    NaN         NaN   \n",
       "3      ...        NaN    NaN         NaN   \n",
       "4      ...        NaN    NaN         NaN   \n",
       "...    ...        ...    ...         ...   \n",
       "34231  ...        NaN    NaN         NaN   \n",
       "34232  ...        NaN    NaN         NaN   \n",
       "34233  ...        NaN    SUV       black   \n",
       "34234  ...        NaN    NaN         NaN   \n",
       "34235  ...  full-size  coupe       white   \n",
       "\n",
       "                                               image_url  \\\n",
       "0                                                    NaN   \n",
       "1                                                    NaN   \n",
       "2                                                    NaN   \n",
       "3                                                    NaN   \n",
       "4                                                    NaN   \n",
       "...                                                  ...   \n",
       "34231  https://images.craigslist.org/00404_8EkKcC6XuW...   \n",
       "34232  https://images.craigslist.org/00j0j_3i2W0MmbkI...   \n",
       "34233  https://images.craigslist.org/00909_iyoc54RPpy...   \n",
       "34234  https://images.craigslist.org/00g0g_lUE50arLcV...   \n",
       "34235  https://images.craigslist.org/00f0f_1kOqCs4Ddv...   \n",
       "\n",
       "                                             description county state  \\\n",
       "0                                                    NaN    NaN    az   \n",
       "1                                                    NaN    NaN    ar   \n",
       "2                                                    NaN    NaN    fl   \n",
       "3                                                    NaN    NaN    ma   \n",
       "4                                                    NaN    NaN    nc   \n",
       "...                                                  ...    ...   ...   \n",
       "34231  '2002 Ford f 350 ext cab  295000 miles Power s...    NaN    wy   \n",
       "34232  '2000 Chevy S 10 pick up runs great 142000 mil...    NaN    wy   \n",
       "34233  'Salvage title from previous owner Engine dama...    NaN    wy   \n",
       "34234  'This vehicle is in great shape! It\\'s mechani...    NaN    wy   \n",
       "34235  '2000 Cadillac Deville Needs thermostats New t...    NaN    wy   \n",
       "\n",
       "                     lat                 long              posting_date  \n",
       "0                    NaN                  NaN                       NaN  \n",
       "1                    NaN                  NaN                       NaN  \n",
       "2                    NaN                  NaN                       NaN  \n",
       "3                    NaN                  NaN                       NaN  \n",
       "4                    NaN                  NaN                       NaN  \n",
       "...                  ...                  ...                       ...  \n",
       "34231           43.72509          -108.471457  2021-04-12T11:26:07-0600  \n",
       "34232            41.1084            -104.8107  2021-04-12T08:24:13-0600  \n",
       "34233          41.888456  -107.49508300000001  2021-04-12T08:13:21-0600  \n",
       "34234            42.9208            -108.5913  2021-04-11T16:25:00-0600  \n",
       "34235  41.43899999999999             -105.801  2021-04-08T13:26:14-0600  \n",
       "\n",
       "[34236 rows x 26 columns]"
      ]
     },
     "execution_count": 12,
     "metadata": {},
     "output_type": "execute_result"
    }
   ],
   "source": [
    "df.replace('?', np.nan, inplace=True)\n",
    "df.infer_objects(copy=False)"
   ]
  },
  {
   "cell_type": "markdown",
   "id": "1fb02ec3-2e58-4190-a464-f5a7976da247",
   "metadata": {},
   "source": [
    "### New number of missing (null) values in each column of our DataFrame."
   ]
  },
  {
   "cell_type": "code",
   "execution_count": 14,
   "id": "d98ed959-e5cf-4e3e-8c20-2a5cad549602",
   "metadata": {
    "scrolled": true
   },
   "outputs": [
    {
     "data": {
      "text/plain": [
       "id                  0\n",
       "url                 0\n",
       "region              0\n",
       "region_url          0\n",
       "price               0\n",
       "year               67\n",
       "manufacturer     2432\n",
       "model            1147\n",
       "condition        9118\n",
       "cylinders       11094\n",
       "fuel              319\n",
       "odometer          293\n",
       "title_status      293\n",
       "transmission      293\n",
       "VIN             28770\n",
       "drive           12893\n",
       "size            18453\n",
       "type            14125\n",
       "paint_color     12619\n",
       "image_url          67\n",
       "description        69\n",
       "county          34236\n",
       "state               0\n",
       "lat               124\n",
       "long              124\n",
       "posting_date       67\n",
       "dtype: int64"
      ]
     },
     "execution_count": 14,
     "metadata": {},
     "output_type": "execute_result"
    }
   ],
   "source": [
    "df.isnull().sum()"
   ]
  },
  {
   "cell_type": "code",
   "execution_count": 15,
   "id": "f0cd9c09-f99b-49ae-8fe0-5c2c678e1d9c",
   "metadata": {
    "scrolled": true
   },
   "outputs": [
    {
     "data": {
      "text/plain": [
       "0               NaN\n",
       "1               NaN\n",
       "2               NaN\n",
       "3               NaN\n",
       "4               NaN\n",
       "5               NaN\n",
       "6               NaN\n",
       "7               NaN\n",
       "8               NaN\n",
       "9               NaN\n",
       "10              NaN\n",
       "11              NaN\n",
       "12              NaN\n",
       "13              NaN\n",
       "14              NaN\n",
       "15              NaN\n",
       "16              NaN\n",
       "17              NaN\n",
       "18              NaN\n",
       "19              NaN\n",
       "20              NaN\n",
       "21              NaN\n",
       "22              NaN\n",
       "23              NaN\n",
       "24              NaN\n",
       "25              NaN\n",
       "26              NaN\n",
       "27             ford\n",
       "28           toyota\n",
       "29              NaN\n",
       "30            acura\n",
       "31             ford\n",
       "32             ford\n",
       "33        chevrolet\n",
       "34           toyota\n",
       "35    mercedes-benz\n",
       "36        chevrolet\n",
       "37             ford\n",
       "38             ford\n",
       "39        chevrolet\n",
       "40        chevrolet\n",
       "41           nissan\n",
       "42              ram\n",
       "43            honda\n",
       "44             ford\n",
       "45              ram\n",
       "46           nissan\n",
       "47            rover\n",
       "48           toyota\n",
       "49        chevrolet\n",
       "Name: manufacturer, dtype: object"
      ]
     },
     "execution_count": 15,
     "metadata": {},
     "output_type": "execute_result"
    }
   ],
   "source": [
    "df['manufacturer'].head(50)"
   ]
  },
  {
   "cell_type": "code",
   "execution_count": 16,
   "id": "65c7e7f2-c7ce-44b6-aaa6-458fb395b3e7",
   "metadata": {},
   "outputs": [
    {
     "data": {
      "text/plain": [
       "0                                                                                                                                                                                                                                                                                                                                                                                                                                                                                                                                                                                                                                                                                                                                                                                                                                                                                                                                                                                                                                                                                                                                                            NaN\n",
       "1                                                                                                                                                                                                                                                                                                                                                                                                                                                                                                                                                                                                                                                                                                                                                                                                                                                                                                                                                                                                                                                                                                                                                            NaN\n",
       "2                                                                                                                                                                                                                                                                                                                                                                                                                                                                                                                                                                                                                                                                                                                                                                                                                                                                                                                                                                                                                                                                                                                                                            NaN\n",
       "3                                                                                                                                                                                                                                                                                                                                                                                                                                                                                                                                                                                                                                                                                                                                                                                                                                                                                                                                                                                                                                                                                                                                                            NaN\n",
       "4                                                                                                                                                                                                                                                                                                                                                                                                                                                                                                                                                                                                                                                                                                                                                                                                                                                                                                                                                                                                                                                                                                                                                            NaN\n",
       "5                                                                                                                                                                                                                                                                                                                                                                                                                                                                                                                                                                                                                                                                                                                                                                                                                                                                                                                                                                                                                                                                                                                                                            NaN\n",
       "6                                                                                                                                                                                                                                                                                                                                                                                                                                                                                                                                                                                                                                                                                                                                                                                                                                                                                                                                                                                                                                                                                                                                                            NaN\n",
       "7                                                                                                                                                                                                                                                                                                                                                                                                                                                                                                                                                                                                                                                                                                                                                                                                                                                                                                                                                                                                                                                                                                                                                            NaN\n",
       "8                                                                                                                                                                                                                                                                                                                                                                                                                                                                                                                                                                                                                                                                                                                                                                                                                                                                                                                                                                                                                                                                                                                                                            NaN\n",
       "9                                                                                                                                                                                                                                                                                                                                                                                                                                                                                                                                                                                                                                                                                                                                                                                                                                                                                                                                                                                                                                                                                                                                                            NaN\n",
       "10                                                                                                                                                                                                                                                                                                                                                                                                                                                                                                                                                                                                                                                                                                                                                                                                                                                                                                                                                                                                                                                                                                                                                           NaN\n",
       "11                                                                                                                                                                                                                                                                                                                                                                                                                                                                                                                                                                                                                                                                                                                                                                                                                                                                                                                                                                                                                                                                                                                                                           NaN\n",
       "12                                                                                                                                                                                                                                                                                                                                                                                                                                                                                                                                                                                                                                                                                                                                                                                                                                                                                                                                                                                                                                                                                                                                                           NaN\n",
       "13                                                                                                                                                                                                                                                                                                                                                                                                                                                                                                                                                                                                                                                                                                                                                                                                                                                                                                                                                                                                                                                                                                                                                           NaN\n",
       "14                                                                                                                                                                                                                                                                                                                                                                                                                                                                                                                                                                                                                                                                                                                                                                                                                                                                                                                                                                                                                                                                                                                                                           NaN\n",
       "15                                                                                                                                                                                                                                                                                                                                                                                                                                                                                                                                                                                                                                                                                                                                                                                                                                                                                                                                                                                                                                                                                                                                                           NaN\n",
       "16                                                                                                                                                                                                                                                                                                                                                                                                                                                                                                                                                                                                                                                                                                                                                                                                                                                                                                                                                                                                                                                                                                                                                           NaN\n",
       "17                                                                                                                                                                                                                                                                                                                                                                                                                                                                                                                                                                                                                                                                                                                                                                                                                                                                                                                                                                                                                                                                                                                                                           NaN\n",
       "18                                                                                                                                                                                                                                                                                                                                                                                                                                                                                                                                                                                                                                                                                                                                                                                                                                                                                                                                                                                                                                                                                                                                                           NaN\n",
       "19                                                                                                                                                                                                                                                                                                                                                                                                                                                                                                                                                                                                                                                                                                                                                                                                                                                                                                                                                                                                                                                                                                                                                           NaN\n",
       "20                                                                                                                                                                                                                                                                                                                                                                                                                                                                                                                                                                                                                                                                                                                                                                                                                                                                                                                                                                                                                                                                                                                                                           NaN\n",
       "21                                                                                                                                                                                                                                                                                                                                                                                                                                                                                                                                                                                                                                                                                                                                                                                                                                                                                                                                                                                                                                                                                                                                                           NaN\n",
       "22                                                                                                                                                                                                                                                                                                                                                                                                                                                                                                                                                                                                                                                                                                                                                                                                                                                                                                                                                                                                                                                                                                                                                           NaN\n",
       "23                                                                                                                                                                                                                                                                                                                                                                                                                                                                                                                                                                                                                                                                                                                                                                                                                                                                                                                                                                                                                                                                                                                                                           NaN\n",
       "24                                                                                                                                                                                                                                                                                                                                                                                                                                                                                                                                                                                                                                                                                                                                                                                                                                                                                                                                                                                                                                                                                                                                                           NaN\n",
       "25                                                                                                                                                                                                                                                                                                                                                                                                                                                                                                                                                                                                                                                                                                                                                                                                                                                                                                                                                                                                                                                                                                                                                           NaN\n",
       "26                                                                                                                                                                                                                                                                                                                                                                                                                                                                                                                                                                                                                                                                                                                                                                                                                                                                                                                                                                                                                                                                                                                                                           NaN\n",
       "27                                                                                                                                                                                                                                                                                                                                                                                                                                                                                                                                                                                                                                                                                                                                                                                                                                                                                                                                                                                                                                                                                          '2013 F-150 XLT V6 4 Door. Good condition. Leveling kit. New Tires.'\n",
       "28                                                                                                                                                                                                                                                                                                                                                                                                                                                                                                                                                                                                                                                                                                                                                                                                                                                                                                                                                                                                                                             'Aspects: -Goodyear Wrangler Tires: 33’s  -Cattle Guard  -New Summit Racing control arms  -New clutch  -Lift Kit'\n",
       "29                                                                                                                                                                                                                                                                                                                                                                                                                                                                                                                                                                                                                                                                                                                                                                                    'Great Chevy Barn Find  Great candidate for restoration.  Complete with all original drivetrain. Truck has been stored for a long period of time . It will need to be serviced . It ran prior to being stored away. Will deliver for fuel and expenses. Southern Truck  Will make and outstanding restoration project. Email for questions or further details . Thank you'\n",
       "30                                                                                                                                                                                                                                                                                                                                                                                                                                                                                                                                                                                                                                                                                              'bought from King Acura in Birmingham certified! has all new brakes and tires. there is one cosmetic flaw but wouldn’t be hard to get out! no trades or monthly payments! theres everything you need in a car in this one. i’m only trying to sale to get an SUV! only serious inquiries please!  •leather heated seats  •sunroof  •push start •lane departure warning •front crash warning  •blind spot monitors  •navigation •back up camera  •tinted windows'\n",
       "31                                                                                                                                                                                                                                                                                                                                 '2002 FORD THUNDERBIRD DELUXE IN INSPIRATION YELLOW WITH VERY LOW MILEAGE IN INSIRATION YELLOW.  THE CAR WAS PURCHASED FROM A MUSEUM THIS PAST MARCH. IT HAS BEEN GARAGE KEPT AND COVERED. IT IS FULLY LOADED WITH EVERY AVAILABLE OPTION.  I RECENTLY INSTALLED A SONY AV RECEIVER WITH SATELLITE AND BLUE TOOTH CAPABILITIES.  THE ORIGINAL FACTORY INSTALLED RADIO IS INCLUDED> IT COMES WITH A STORM PROOF CUSTOM COVERING CAR COVER. THERE ARE SEVERAL SMALL SCRATCHES ON ON THE ALUMINUM CONSOLE SURFACE ADJACENT TO THE GEAR SHIFT> THIS CAN BE EASILY REPLACED WITH A KIT FROM CARID. IT COMES WITH BOTH A CONVERTIBLE AND HARD PORTHOLE TOP ALONG WITH A COVER AND FOLDABLE STORAGE ROLLER. IN THE PAST I HAVE USED A REPUTABLE TRANSPORT COMPANY MULTIPLE TIMES AND WILL BE GLAD TO SHARE THE NUMBER IF REQUESTED.'\n",
       "32                                                                                                                                                                                                                                                                                                                                                                                                                                                                                                                                                                                                                                                                                                                                                                                                                                                                                                                                           'Great work truck  No lowballers  Clean and clear Alabama title  Brand new brakes all the way around 3 DOOR EXTENDED CAB PICKUP 5.4L V8 F SOHC 16V GASOLINE REAR WHEEL DRIVE RUNS GREAT ! $3800 no bs or scammers.'\n",
       "33                                                                                                                                                                                                                                                                                                                                                                                                                                                                                                                                                                                                                                                                                                                                                                                                                                                                                                                                                                                                                                    'Car is complete with a 350 V8. A/C and automatic transmission. Clean title in hand. Call or text me  show contact info .'\n",
       "34                                                                                                                                                                                                                                                                                                                                                                                                                                                                                                                                                                                                                                                                                                                                                                                                                                                                                                                                                                                                                                'Nice vehicle with sunroof and 4 cylinder engine.  237k and it runs great. Clean title.  Call or text me  show contact info .'\n",
       "35                                                                                                                                                                                                                                                                                                                                                                                                                                                                                                                                                                                                                                                                                                                                                                                                                                                                                                                                                           'Car has been sitting and everything is still original. Motor condition is not known. Carburetors are missing on the vehicle. Interior is in good condition.  Call or text me  show contact info .'\n",
       "36                                                                                                                                                                                                                                                                                                                                                                                                                                                                                                                                                                                                                                                                                                                                                                                                                                                                                                                             '2004 S10 blazer has 131500 miles rebuilt transmission with 200 miles on it new tires and new front rotors and brake pads. It runs and drives good but does have check engine light and abs light on. It does have a/c and heat.'\n",
       "37                                                                                                                                                                                                                                                                                                                                                                                                                                                                                                                                                                                                                                                                                                                                                                                                                                                                                                                                                                                                                                                                                        '1978 Ford F150.  Good condition.  Way too many new parts to mention.'\n",
       "38                                                                                                                                                                                                                                                                                                                                                                                                                                                                                                                                                                                                       '2017 Ford F150 4x4 Crew Cab FX4   Fleet F150 truck for sale! 151 miles   2017 Ford F150 4x4 Crew Cab FX4 6.5ft bed  This truck is powered by the V8 5.0L engine paired with a smooth shifting transmission -Crew Cab -Easy to clean interior -Running boards -Bed liner -Healthy tires  And much more…  Equipped with tow package  Free Carfax | Clean title  *Financing Options with Tax ID or Social Security *Financiamiento disponible con seguro o tax id  Contact Joe Text or Call 404-495-5393 (SERVICIO EN ESPAñOL)   LOCATED IN JONESBORO GA'\n",
       "39                                                                                                                                                                                                                                                                                                                                                                                                                                                                                                                                                                                                                                                                                                                                                                                                                                                                                                                                                                                            'SELLJNG THIS AWESOME CHEVY 2500 Z71 4x4 DURAMAX DEISEL FULLY LOADED LOW MILES NEW TIRES LOOKS AND RUNS GREAT!! WE HAVE THE TRUCKS TRUCKCOUNTRYAUTOS 256 734 3362'\n",
       "40                                                                                                                                                                                                                                                                                                                                                                                                                                                                                                                                                                                                                                                          'SCAM! I am paying $5 to post this to inform buyers of a scam. The person listing this vehicle stole pictures of the vehicle owner\\'s driver license and title. They also have a fake cash app account and they scammed me out of several hundred dollars in deposit money. They will attempt to send you the picture of the Driver License and Title to reassure you in order to get you to send them money.   A POLICE REPORT HAS BEEN FILED ON THIS AND THE POLICE HAVE OPENED AN INVESTIGATION.'\n",
       "41                                                                                                                                                                                                                                                                                                                                                                                                                                                                                                                                                                                                                                                                                                                                                                                                                                                      '2011 Nissan Altima for sale. Runs & drives great! Strong motor & smooth shifting transmission. The driver side window will need a new regulator in order for it to work. The window motor is fine & all other windows work. It\\'s a nice car with 155k miles. $3800   *This car is located in Georgia.'\n",
       "42                                                                                                                                                                                                                                                                                                                                                                                                                                                                                                                                                                                                       '2018 Ram 2500 4x4 Crew Cab Cummins Short bed  Diesel truck for sale! 211K miles  2018 Ram 2500 4x4 Crew Cab Cummins Short bed  This truck is powered by the powerful 6.7L Diesel Cummins engine paired with a smooth shifting transmission! No codes or leaks present!!! -4x4 -Chrome package -Clean interior -Full tow package -Gooseneck And much more...  Free Carfax | Clean title  *Financing Options with Tax ID or Social Security *Financiamiento disponible con seguro o tax id  Contact Joe Text or Call 404-495-5393 (SERVICIO EN ESPAñOL)'\n",
       "43                                                                                                                                                                                                                                                                                                                                                                                                                                                                                                                                                                                                                                                                                                                                                                                                                                                                                                                                                                                                                                                                                  '92K miles in good condition with minor cosmetic damage  Text with interest'\n",
       "44                                                                                                                                                                                                                                                                                                                                                                                                                                                                                                                                                                                                                       '2015 Ford F350 XLT Diesel 4x4 Crew Cab Short bed Single wheel  Single wheel F350 diesel truck for sale! 247K miles  2015 Ford F350 XLT Diesel 4x4 CC SB Single wheel FX4  This truck is powered by the 6.7L diesel engine w/automatic transmission -4x4 -power -Tow Package -New tires -reverse camera And more….  Free Carfax | Clean title  *Financing Options with Tax ID or Social Security *Financiamiento disponible con seguro o tax id  Contact Joe Text or Call 404-495-5393 (SERVICIO EN ESPAñOL)   LOCATED IN JONESBORO GA'\n",
       "45                                                                                                                                                                                                                                                                                                                                                                                                                                                                                                                                                   '2018 Ram 1500 Hemi 5.7L Crew Cab Laramie RWD  Luxury truck for sale! 104k miles  2018 Ram 1500 Hemi 5.7L CC Laramie RWD   This truck is powered by the 5.7L Hemi engine paired with a smooth shifting transmission!  Truck has no codes or leaks and is loaded with options!!! -Leather Interior -Navigation and backup camera -Running boards  -Fog lights -bed liner _heated and cooled seats And much more….  Free Carfax | Clean title  *Financing Options with Tax ID or Social Security *Financiamiento disponible con seguro o tax id  Contact Joe Text or Call 404-495-5393 (SERVICIO EN ESPAñOL)'\n",
       "46                                                                                                                                                                                                                                                                                                                                                                                                                                                                                                                                                                                                                                                                                                                                                                                                                                                                                                                                                                                                                                                                                                     'Runs and drive flawlessly Car is in excellent condition'\n",
       "47                                                                                                                                                                                                                                                                                                                                                                                                                                                                                                                                                                                                                                                                                                                                                                                                                                                                                                                                                                                                                                                                                                                              '2006 Range Rover  Supercharged'\n",
       "48    'For sale by owner  2019 Toyota Tundra TRD Sport 4X4  Crewmax Cab  SR5 Upgrade package  TRD Sport Convenience package  Hard to find - white exterior with sand beige interior  One owner  No accidents  Meticulously kept  All service performed by Toyota  All service records available   Upgrades  Line X spray in bedliner  Rough country 3 inch lift kit (Toyota dealer installed)  Nitto Terra grapplers 275/65/20 (Toyota dealer installed)  Amp research power running boards WeatherTech floor mats matching interior color front and rear  Driver\\'s side A-post grab handle (see photos - these don\\'t come on the Tundra\\'s from the factory)  Craftsman toolbox - carpet lined  Tinted front windows and strip to match factory tint   This is the last year model before Toyota began using push button start. So this truck still has the reliability of a keyed ignition.   Driven very little but is a daily driver so miles will increase. I bought this truck new and truly hate to sell it. I do not have to and I do not require help selling it. Price is firm - serious buyers only please - thanks for looking.  TJ (2O5)2I2-864O'\n",
       "49                                                                                                                                                                                                                                                                                                                                                                                                                                                                                                                                                                                                                                                                                                                                                                                                                                                                                                                                                                                                                                                                                                                                        'Needs a transmission'\n",
       "50                                                                                                                                                                                                                                                                                                                                                                                                                                                                                                                                                                                                                                                                                                                                                                    'CALL GARY @ 205-862-8003 . NICE TRADE IN. MATURE ADULT OWNED AND SUPER MAINTAINED. IT WILL BE SOLD AS IS. NICE RIDE  AND FULLY SERVICED SEDAN.. CALL AND MAKE OFFER$$$$!!!!$$$$ 205-862-8003 OR 205-280-1101 Coral Sand Clearcoat Metallic 2005 Nissan Altima 3.5 SE FWD 5-Speed Automatic with Overdrive 3.5L V6 SMPI DOHC  Recent Arrival! 20/30 City/Highway MPG ▼ OPEN SEARCH RESULT'\n",
       "51                                                                                                                                                                                                                                                                                                                                                                                                                                                                                                                                                                                                                                                                                                                                                                                                    'Selling a very nice extra clean F250 it has 6.2 gas engine 4inch lift 35x12.50x20 tire with les then 5000 miles truck is very clean runs and drives perfect with no issues always maintained on time and garage kept must see to appreciate. Bought a new F250 gas burner no longer need this one for more info Text or call 205-3five2-8 to test drive.'\n",
       "52                                                                                                                                                                                                                                                                                                                                                                                                                                                                                                                                                                                                                                                                                                                                                                                                                                                                                                                                                                                       'This is a one owner car that my 90 year old Mother bought brand new at long lewis in Hoover. Rides and drives great. Located in Sylvan Springs. Contact Mark.     OBO'\n",
       "53                                                                                                                                                                                                                                                                                                                                                                                                                                                                                                                                                                                                                                                                                                                                                                                                                                                                                                                                                                                                                        'Beautiful pearl white with tan leather interior clear title in hand please call Wayne  show contact info  or Jeff  show contact info'\n",
       "54                                                                                                                                                                                                                                                                                                                                                                                                                                                                                                                                                                                                                                                                                                                                                                                                                                                                           'SELLING THIS AWESOME CHEVROLET 2500 HD 4x4 Z71 4x4 GREAT LOW MILES AND DURAMAX DEISEL ALLISON TRANSMISSION. NEW TIRES AND WHEELS. RUNS AND DRIVES GREAT. WE HAVE GREAT ON THE SPOT FINANCING WAC!! TRADES WELCOME DAILY!! TRUCKCOUNTRYAUTOS. WE HAVE THE TRUCKS!!!!! 256 734 3362'\n",
       "55                                                                                                                                                                                                                                                                                                                                                                                                                                                                                                                                                                                                               '2017 Dodge Charger 21737 miles. 1 owner and Clean Carfax.    We also have a Huge inventory to Choose from.    Our payments start at 199 a month.    Bad Credit APPROVED and ZERO DOWN Programs!   If you have a job we can APPROVE you!      Text \\\"APPROVE ME\\\" to 67076  *Texting is FREE    and we\\'ll message you within    minutes on how to get Approved     today!     MINIMUM REQUIREMENTS    ◆◆ 2 Weeks on you current job.    ◆◆ 7.25 an hour income or more.    ◆◆ 2 Weeks at current address.    ◆◆ Have a Valid Drivers License.'\n",
       "56                                                                                                                                                                                                                                                                                                                                                                                                                                                                                                                                                                                                                                                               'Must See! 2008 Nissan Altima 2.5 SL! 150K! 4 cylinder automatic! Great gas saver! Strong engine and very smooth transmission! Good tires and brakes! Runs and drives like new! Loaded! Power everything! Heated leather seats! Sunroof! Premium CD stereo with aux! Strong heat and ice cold a/c! Everything works! Clean and clear title! Hurry! Priced to sell immediately!  Call or text  show contact info   Keywords: Honda Acura Lexus Nissan Infiniti Mazda Chrysler Volkswagen Toyota'\n",
       "57                                                                                                                                                                                                                                                                                                                                                                                                                                                                                                                                                                                                                                                                                                                                                                                                                                                                                     '2005 Toyota Solara One owner 221k miles Runs and drives very well New cabin and air filters No large dents  Cold AC Good basic transportation     Has been wrecked lightly in front back in 2014.   Contact me with any further questions.   2oh5-two8seven-3one8three.'\n",
       "58                                                                                                                                                                                                                                                                                                                                                                                                                                                     '2016 Chevrolet Silverado 1500 LTZ 4x4 Z71 Crew Cab Leather interior  Clean pickup truck for sale! 115k miles  2016 Chevrolet 1500 LTZ 4x4 Z71 Crew Cab SB  This truck is powered by the 5.3L V8 engine paired with a smooth shifting transmission -LTZ package Z71 -Leather interior -Running boards -LED Lighting -Cooled and heated seats -Bose entertainment system with touch screen -Reverse camera -Bed liner -Rubber floor mats -Chrome package -Factory lift And much more…  Free Carfax | Clean title  *Financing Options with Tax ID or Social Security *Financiamiento disponible con seguro o tax id  Contact Joe Text or Call 404-495-5393 (SERVICIO EN ESPAñOL)   LOCATED IN JONESBORO GA'\n",
       "59                                                                                                                                                                                                                                                                                                                                                                                                                                                                                                                                                                                                                                                                                                                                                                                                                                                                                                                                                                'beautiful 2015 Lincoln MKS personal limousine 51 actual miles yes 51 ACTUAL MILES  like new inside and out ordered Government Diplomatic use but never used clean title in hand call or text'\n",
       "Name: description, dtype: object"
      ]
     },
     "execution_count": 16,
     "metadata": {},
     "output_type": "execute_result"
    }
   ],
   "source": [
    "pd.set_option('display.max_colwidth', None)\n",
    "df['description'].head(60)"
   ]
  },
  {
   "cell_type": "code",
   "execution_count": 17,
   "id": "0a55f072-dd01-4faa-8339-1390f2f13680",
   "metadata": {
    "scrolled": true
   },
   "outputs": [
    {
     "data": {
      "text/plain": [
       "0        NaN\n",
       "1        NaN\n",
       "2        NaN\n",
       "3        NaN\n",
       "4        NaN\n",
       "5        NaN\n",
       "6        NaN\n",
       "7        NaN\n",
       "8        NaN\n",
       "9        NaN\n",
       "10       NaN\n",
       "11       NaN\n",
       "12       NaN\n",
       "13       NaN\n",
       "14       NaN\n",
       "15       NaN\n",
       "16       NaN\n",
       "17       NaN\n",
       "18       NaN\n",
       "19       NaN\n",
       "20       NaN\n",
       "21       NaN\n",
       "22       NaN\n",
       "23       NaN\n",
       "24       NaN\n",
       "25       NaN\n",
       "26       NaN\n",
       "27       gas\n",
       "28       gas\n",
       "29       gas\n",
       "30       gas\n",
       "31       gas\n",
       "32       gas\n",
       "33       gas\n",
       "34       gas\n",
       "35       gas\n",
       "36       gas\n",
       "37       gas\n",
       "38       gas\n",
       "39    diesel\n",
       "40       gas\n",
       "41       gas\n",
       "42    diesel\n",
       "43       gas\n",
       "44    diesel\n",
       "45       gas\n",
       "46       gas\n",
       "47       gas\n",
       "48       gas\n",
       "49       gas\n",
       "50       gas\n",
       "51       gas\n",
       "52       gas\n",
       "53       gas\n",
       "54    diesel\n",
       "55       gas\n",
       "56       gas\n",
       "57       gas\n",
       "58       gas\n",
       "59       gas\n",
       "Name: fuel, dtype: object"
      ]
     },
     "execution_count": 17,
     "metadata": {},
     "output_type": "execute_result"
    }
   ],
   "source": [
    "pd.set_option('display.max_colwidth', None)\n",
    "df['fuel'].head(60)"
   ]
  },
  {
   "cell_type": "code",
   "execution_count": 18,
   "id": "c8013a7a-e383-438c-b4c4-87ae688a93f1",
   "metadata": {
    "scrolled": true
   },
   "outputs": [
    {
     "data": {
      "text/plain": [
       "0         NaN\n",
       "1         NaN\n",
       "2         NaN\n",
       "3         NaN\n",
       "4         NaN\n",
       "5         NaN\n",
       "6         NaN\n",
       "7         NaN\n",
       "8         NaN\n",
       "9         NaN\n",
       "10        NaN\n",
       "11        NaN\n",
       "12        NaN\n",
       "13        NaN\n",
       "14        NaN\n",
       "15        NaN\n",
       "16        NaN\n",
       "17        NaN\n",
       "18        NaN\n",
       "19        NaN\n",
       "20        NaN\n",
       "21        NaN\n",
       "22        NaN\n",
       "23        NaN\n",
       "24        NaN\n",
       "25        NaN\n",
       "26        NaN\n",
       "27      clean\n",
       "28      clean\n",
       "29      clean\n",
       "30      clean\n",
       "31      clean\n",
       "32      clean\n",
       "33      clean\n",
       "34      clean\n",
       "35      clean\n",
       "36      clean\n",
       "37      clean\n",
       "38      clean\n",
       "39      clean\n",
       "40      clean\n",
       "41    rebuilt\n",
       "42      clean\n",
       "43      clean\n",
       "44      clean\n",
       "45      clean\n",
       "46      clean\n",
       "47      clean\n",
       "48      clean\n",
       "49      clean\n",
       "50      clean\n",
       "51      clean\n",
       "52      clean\n",
       "53      clean\n",
       "54      clean\n",
       "55      clean\n",
       "56      clean\n",
       "57      clean\n",
       "58      clean\n",
       "59      clean\n",
       "Name: title_status, dtype: object"
      ]
     },
     "execution_count": 18,
     "metadata": {},
     "output_type": "execute_result"
    }
   ],
   "source": [
    "pd.set_option('display.max_colwidth', None)\n",
    "df['title_status'].head(60)"
   ]
  },
  {
   "cell_type": "code",
   "execution_count": 19,
   "id": "fc13d5b0-50fd-4c28-810b-750236adea18",
   "metadata": {
    "scrolled": true
   },
   "outputs": [
    {
     "data": {
      "text/plain": [
       "0          NaN\n",
       "1          NaN\n",
       "2          NaN\n",
       "3          NaN\n",
       "4          NaN\n",
       "5          NaN\n",
       "6          NaN\n",
       "7          NaN\n",
       "8          NaN\n",
       "9          NaN\n",
       "10         NaN\n",
       "11         NaN\n",
       "12         NaN\n",
       "13         NaN\n",
       "14         NaN\n",
       "15         NaN\n",
       "16         NaN\n",
       "17         NaN\n",
       "18         NaN\n",
       "19         NaN\n",
       "20         NaN\n",
       "21         NaN\n",
       "22         NaN\n",
       "23         NaN\n",
       "24         NaN\n",
       "25         NaN\n",
       "26         NaN\n",
       "27    128000.0\n",
       "28    201300.0\n",
       "29     47000.0\n",
       "30     55000.0\n",
       "31     15996.0\n",
       "32    150000.0\n",
       "33       100.0\n",
       "34    237000.0\n",
       "35     12774.0\n",
       "36    131500.0\n",
       "37    239000.0\n",
       "38    101000.0\n",
       "39    102000.0\n",
       "40    237000.0\n",
       "41    155000.0\n",
       "42    211000.0\n",
       "43     92000.0\n",
       "44    247000.0\n",
       "45    104000.0\n",
       "46    184000.0\n",
       "47    139445.0\n",
       "48     20010.0\n",
       "49    256806.0\n",
       "50     53320.0\n",
       "51    201766.0\n",
       "52    105000.0\n",
       "53    152400.0\n",
       "54    102000.0\n",
       "55     21737.0\n",
       "56    150000.0\n",
       "57    222100.0\n",
       "58    115000.0\n",
       "59        51.0\n",
       "Name: odometer, dtype: object"
      ]
     },
     "execution_count": 19,
     "metadata": {},
     "output_type": "execute_result"
    }
   ],
   "source": [
    "pd.set_option('display.max_colwidth', None)\n",
    "df['odometer'].head(60)"
   ]
  },
  {
   "cell_type": "code",
   "execution_count": 20,
   "id": "4a17d0fb-4b98-4c94-8bf4-a00ef8997a80",
   "metadata": {
    "scrolled": true
   },
   "outputs": [
    {
     "data": {
      "text/plain": [
       "0               NaN\n",
       "1               NaN\n",
       "2               NaN\n",
       "3               NaN\n",
       "4               NaN\n",
       "5               NaN\n",
       "6               NaN\n",
       "7               NaN\n",
       "8               NaN\n",
       "9               NaN\n",
       "10              NaN\n",
       "11              NaN\n",
       "12              NaN\n",
       "13              NaN\n",
       "14              NaN\n",
       "15              NaN\n",
       "16              NaN\n",
       "17              NaN\n",
       "18              NaN\n",
       "19              NaN\n",
       "20              NaN\n",
       "21              NaN\n",
       "22              NaN\n",
       "23              NaN\n",
       "24              NaN\n",
       "25              NaN\n",
       "26              NaN\n",
       "27    '6 cylinders'\n",
       "28    '6 cylinders'\n",
       "29    '6 cylinders'\n",
       "30              NaN\n",
       "31    '8 cylinders'\n",
       "32              NaN\n",
       "33              NaN\n",
       "34    '4 cylinders'\n",
       "35              NaN\n",
       "36    '6 cylinders'\n",
       "37    '8 cylinders'\n",
       "38              NaN\n",
       "39    '8 cylinders'\n",
       "40    '8 cylinders'\n",
       "41              NaN\n",
       "42              NaN\n",
       "43              NaN\n",
       "44              NaN\n",
       "45              NaN\n",
       "46    '6 cylinders'\n",
       "47    '8 cylinders'\n",
       "48    '8 cylinders'\n",
       "49    '4 cylinders'\n",
       "50    '6 cylinders'\n",
       "51    '8 cylinders'\n",
       "52              NaN\n",
       "53    '6 cylinders'\n",
       "54    '8 cylinders'\n",
       "55              NaN\n",
       "56    '4 cylinders'\n",
       "57    '4 cylinders'\n",
       "58              NaN\n",
       "59              NaN\n",
       "Name: cylinders, dtype: object"
      ]
     },
     "execution_count": 20,
     "metadata": {},
     "output_type": "execute_result"
    }
   ],
   "source": [
    "pd.set_option('display.max_colwidth', None)\n",
    "df['cylinders'].head(60)"
   ]
  },
  {
   "cell_type": "code",
   "execution_count": 21,
   "id": "d03904ba-6588-4dca-a0a5-7ff58ed3a016",
   "metadata": {
    "scrolled": true
   },
   "outputs": [
    {
     "name": "stdout",
     "output_type": "stream",
     "text": [
      "<class 'pandas.core.frame.DataFrame'>\n",
      "RangeIndex: 34236 entries, 0 to 34235\n",
      "Data columns (total 26 columns):\n",
      " #   Column        Non-Null Count  Dtype \n",
      "---  ------        --------------  ----- \n",
      " 0   id            34236 non-null  int64 \n",
      " 1   url           34236 non-null  object\n",
      " 2   region        34236 non-null  object\n",
      " 3   region_url    34236 non-null  object\n",
      " 4   price         34236 non-null  int64 \n",
      " 5   year          34169 non-null  object\n",
      " 6   manufacturer  31804 non-null  object\n",
      " 7   model         33089 non-null  object\n",
      " 8   condition     25118 non-null  object\n",
      " 9   cylinders     23142 non-null  object\n",
      " 10  fuel          33917 non-null  object\n",
      " 11  odometer      33943 non-null  object\n",
      " 12  title_status  33943 non-null  object\n",
      " 13  transmission  33943 non-null  object\n",
      " 14  VIN           5466 non-null   object\n",
      " 15  drive         21343 non-null  object\n",
      " 16  size          15783 non-null  object\n",
      " 17  type          20111 non-null  object\n",
      " 18  paint_color   21617 non-null  object\n",
      " 19  image_url     34169 non-null  object\n",
      " 20  description   34167 non-null  object\n",
      " 21  county        0 non-null      object\n",
      " 22  state         34236 non-null  object\n",
      " 23  lat           34112 non-null  object\n",
      " 24  long          34112 non-null  object\n",
      " 25  posting_date  34169 non-null  object\n",
      "dtypes: int64(2), object(24)\n",
      "memory usage: 6.8+ MB\n"
     ]
    }
   ],
   "source": [
    "df.info()"
   ]
  },
  {
   "cell_type": "markdown",
   "id": "589e440e-3770-44e1-bceb-bd7c5ac05ccb",
   "metadata": {},
   "source": [
    "# Handling Missing Values\n",
    "## We are going to use the description column to extract and update data for the different columns:\n",
    "## # 1. Manufacturer"
   ]
  },
  {
   "cell_type": "markdown",
   "id": "d4928f05-a7d6-452a-be68-04014736a18d",
   "metadata": {},
   "source": [
    "### Number of 'NaN' in the \"manufacturer' column"
   ]
  },
  {
   "cell_type": "code",
   "execution_count": 24,
   "id": "38b9935a-05e6-4829-a288-83e0343f8689",
   "metadata": {},
   "outputs": [
    {
     "name": "stdout",
     "output_type": "stream",
     "text": [
      "Current nulls in manufacturer column : 2432\n"
     ]
    }
   ],
   "source": [
    "print(\"Current nulls in manufacturer column :\", df['manufacturer'].isna().sum())"
   ]
  },
  {
   "cell_type": "markdown",
   "id": "4e921206-a3db-4a32-a5f2-936da82a8ac2",
   "metadata": {},
   "source": [
    "### Extracting and updating the 'manufacturer' NaN values"
   ]
  },
  {
   "cell_type": "code",
   "execution_count": 26,
   "id": "39144c2c-1023-4de4-9778-2dc317d3d4ce",
   "metadata": {},
   "outputs": [],
   "source": [
    "def extract_manufacturer(description):\n",
    "    if not isinstance(description, str):\n",
    "        return None\n",
    "\n",
    "    manufacturers = [\n",
    " # American Brands\n",
    "'Ford', 'Chevy', 'Chevrolet', 'Dodge', 'Chrysler', 'Jeep', 'Cadillac', 'Buick', \n",
    "'GMC', 'Ram', 'Lincoln', 'Tesla', 'Pontiac', 'Saturn', 'Hummer', 'Oldsmobile',\n",
    "'Rivian', 'Lucid', 'Polestar', 'Faraday Future', 'Karma',\n",
    "\n",
    "# European Brands\n",
    "'BMW', 'Audi', 'Mercedes', 'Volkswagen', 'Porsche', 'Land Rover', 'Jaguar', \n",
    "'Rolls-Royce', 'Bentley', 'Aston Martin', 'Ferrari', 'Lamborghini', 'McLaren', \n",
    "'Alfa Romeo', 'Fiat', 'Mini', 'Opel', 'Peugeot', 'Renault', 'Citroën', \n",
    "'Skoda', 'Seat', 'Pagani', 'Daimler', 'Smart', 'Iveco', 'MAN', 'Scania',\n",
    "'Bugatti', 'Zagato', 'Wiesmann', 'Morgan', 'Lancia', 'Saab', 'Pininfarina',\n",
    "'Bristol', 'DeLorean', 'Donkervoort', 'Ginetta', 'Gordon-Keeble', 'Hispano-Suiza',\n",
    "'Isotta Fraschini', 'Lagonda', 'Maserati', 'Maybach', 'Monteverdi', 'Rover',\n",
    "'Sbarro', 'SPYKER', 'TVR', 'Zenvo', 'Alpina', 'Quattroporte',\n",
    "\n",
    "# Asian Brands\n",
    "'Toyota', 'Honda', 'Nissan', 'Hyundai', 'Kia', 'Subaru', 'Mazda', 'Infiniti', \n",
    "'Acura', 'Lexus', 'Genesis', 'Mitsubishi', 'Suzuki', 'Daihatsu', 'Isuzu', \n",
    "'Hino', 'Proton', 'Perodua', 'Tata', 'Mahindra', 'Maruti Suzuki', 'SAIC', \n",
    "'Geely', 'Great Wall', 'Changan', 'Hongqi', 'Zotye', 'BYD', 'NIO', 'XPeng', \n",
    "'Dongfeng', 'Haval', 'GAC', 'JAC', 'JMC', 'Baojun', 'Brilliance', 'Chery',\n",
    "'Jiangling', 'Lifan', 'Qiantu', 'SAIC-GM', 'Soda', 'Weichai', 'Wuling', \n",
    "'Yulon', 'Hubei', 'Daewoo', 'Seongdong', 'SSangYong', 'Eicher'\n",
    "]\n",
    "    description = description.lower()\n",
    "    for manufacturer in manufacturers:\n",
    "        if manufacturer.lower() in description:\n",
    "            return manufacturer\n",
    "    return None\n",
    "\n",
    "# Initialize an empty list to track identified manufacturers\n",
    "identified_manufacturers = []\n",
    "\n",
    "def update_manufacturer(description):\n",
    "    manufacturer = extract_manufacturer(description)\n",
    "    if manufacturer and manufacturer not in identified_manufacturers:\n",
    "        identified_manufacturers.append(manufacturer)\n",
    "    return manufacturer\n",
    "\n",
    "df.loc[df['manufacturer'].isna(), 'manufacturer'] = df.loc[df['manufacturer'].isna(), 'description'].apply(update_manufacturer)\n",
    "\n",
    "# List of identified manufacturers\n",
    "# print(\"Identified Manufacturers:\", identified_manufacturers)"
   ]
  },
  {
   "cell_type": "markdown",
   "id": "7549a89c-402d-4b0c-af1c-daaf88a7a7e9",
   "metadata": {},
   "source": [
    "### Number of 'NaN' in the \"manufacturer' column after cleaning"
   ]
  },
  {
   "cell_type": "code",
   "execution_count": 28,
   "id": "7e343232-f3ba-4197-a016-90478611f59e",
   "metadata": {},
   "outputs": [
    {
     "name": "stdout",
     "output_type": "stream",
     "text": [
      "Current nulls in manufacturer column after cleaning : 1396\n"
     ]
    }
   ],
   "source": [
    "print(\"Current nulls in manufacturer column after cleaning :\", df['manufacturer'].isna().sum())"
   ]
  },
  {
   "cell_type": "code",
   "execution_count": 29,
   "id": "08c59166-14ed-40a6-bb46-e575f7409090",
   "metadata": {
    "scrolled": true
   },
   "outputs": [
    {
     "data": {
      "text/plain": [
       "0              None\n",
       "1              None\n",
       "2              None\n",
       "3              None\n",
       "4              None\n",
       "5              None\n",
       "6              None\n",
       "7              None\n",
       "8              None\n",
       "9              None\n",
       "10             None\n",
       "11             None\n",
       "12             None\n",
       "13             None\n",
       "14             None\n",
       "15             None\n",
       "16             None\n",
       "17             None\n",
       "18             None\n",
       "19             None\n",
       "20             None\n",
       "21             None\n",
       "22             None\n",
       "23             None\n",
       "24             None\n",
       "25             None\n",
       "26             None\n",
       "27             ford\n",
       "28           toyota\n",
       "29            Chevy\n",
       "30            acura\n",
       "31             ford\n",
       "32             ford\n",
       "33        chevrolet\n",
       "34           toyota\n",
       "35    mercedes-benz\n",
       "36        chevrolet\n",
       "37             ford\n",
       "38             ford\n",
       "39        chevrolet\n",
       "40        chevrolet\n",
       "41           nissan\n",
       "42              ram\n",
       "43            honda\n",
       "44             ford\n",
       "45              ram\n",
       "46           nissan\n",
       "47            rover\n",
       "48           toyota\n",
       "49        chevrolet\n",
       "Name: manufacturer, dtype: object"
      ]
     },
     "execution_count": 29,
     "metadata": {},
     "output_type": "execute_result"
    }
   ],
   "source": [
    "df['manufacturer'].head(50)"
   ]
  },
  {
   "cell_type": "markdown",
   "id": "715ebc51-dc29-4d54-90f9-1c0a5ed3ca90",
   "metadata": {},
   "source": [
    "## # 2. Model"
   ]
  },
  {
   "cell_type": "markdown",
   "id": "4a6b6f6d-2393-432e-a0b0-58a2dda05c47",
   "metadata": {},
   "source": [
    "### Number of 'NaN' in the \"model' column"
   ]
  },
  {
   "cell_type": "code",
   "execution_count": 32,
   "id": "326f7ac4-c513-4ccb-80b5-7e3a4cd63ca3",
   "metadata": {},
   "outputs": [
    {
     "name": "stdout",
     "output_type": "stream",
     "text": [
      "Current nulls in model column : 1147\n"
     ]
    }
   ],
   "source": [
    "print(\"Current nulls in model column :\", df['model'].isna().sum())"
   ]
  },
  {
   "cell_type": "markdown",
   "id": "be6daaf2-dacd-4f85-98a1-e077cc18d9dc",
   "metadata": {},
   "source": [
    "### Extracting and updating the 'model' NaN values"
   ]
  },
  {
   "cell_type": "code",
   "execution_count": 34,
   "id": "18fea8c1-19b4-48f1-a5d4-1415d44ebefb",
   "metadata": {},
   "outputs": [],
   "source": [
    "def extract_model(description):\n",
    "    models = [\n",
    "        # American Brands\n",
    "        'F-150', 'Tacoma', 'Civic', 'Camry', 'Altima', 'Corolla', 'Mustang', 'Impala', \n",
    "        'Challenger', 'Cherokee', 'Silverado', 'Ram 1500', 'Explorer', 'Fusion', \n",
    "        'Equinox', 'Escalade', 'GTO', 'Grand Cherokee', 'CTS', 'Buick Enclave', \n",
    "        'Traverse', 'Ranger', 'Journey', 'Durango', 'Wrangler', 'Sierra', '300', \n",
    "        'Fusion', 'Edge', 'Focus', 'Grand Am', 'Mondeo', 'F-250', 'Malibu', \n",
    "        'Navigator', 'V6 Mustang', 'Mustang GT', 'G8', 'S2000', 'Sonata', 'Tundra',\n",
    "        \n",
    "        # European Brands\n",
    "        '3 Series', 'C-Class', 'A4', 'X5', 'Q5', 'E-Class', 'Golf', 'A3', 'Passat', \n",
    "        'S-Class', 'M3', 'A6', '911', 'Macan', 'Panamera', 'F-Type', 'Range Rover', \n",
    "        'Continental', 'Vantage', 'Aston Martin DB11', 'DB9', '458 Italia', 'Huracan', \n",
    "        'A8', 'TT', 'S4', 'X3', 'Z4', 'Boxster', 'M5', 'M4', '458 Spider', \n",
    "        'Bentayga', 'V12 Vantage', 'Mulsanne', 'Cayman', 'Macan Turbo', 'Cayenne', \n",
    "        '458 Speciale', 'Evoque', 'Tiguan', 'Maserati Ghibli', 'Fiat 500', \n",
    "        'Renault Clio', 'Jaguar XE', 'DBX', 'GT3', 'Coupe', 'SLK', 'G-Class', \n",
    "        'GTR', 'Q7', 'S5', 'GTS', 'X4', 'Wraith', 'V8 Vantage', 'Ghost',\n",
    "\n",
    "        # Asian Brands\n",
    "        'Accord', 'Altima', 'Camry', 'Civic', 'Corolla', 'CR-V', 'Forester', 'Mazda3',\n",
    "        'Mazda6', 'Outback', 'RAV4', 'Sorento', 'Soul', 'Tucson', 'Santa Fe', \n",
    "        'Kona', 'Pathfinder', 'Murano', 'Juke', 'Qashqai', 'X-Trail', 'Hatchback',\n",
    "        'CX-5', 'RX', 'NX', 'IS', 'GS', 'ES', 'LX', 'Pilot', 'Odyssey', 'Fit',\n",
    "        'Venza', 'Avalon', 'Sienna', 'Soul', '350Z', '370Z', 'Versa', 'Maxima', \n",
    "        'Optima', 'K5', 'Forte', 'Tucson', 'Palisade', 'Sportage', 'Kona', \n",
    "        'Impreza', 'Legacy', 'Ascent', 'Tribeca', 'Outback', 'Legacy',\n",
    "        \n",
    "        # Additional Models\n",
    "        'X1', 'X2', 'X4', 'X6', 'Q3', 'Q4', 'Q8', 'R8', 'S7', 'S8', 'Tiguan', \n",
    "        'Jetta', 'Polo', 'Yaris', 'Land Cruiser', 'Hilux', 'Fortuner', 'Celerio', \n",
    "        'Swift', 'Kizashi', 'SX4', 'Brio', 'City', 'Lancer', 'ASX', 'RVR', \n",
    "        'Astra', 'Juke', 'Micra', 'Frontier', 'Rogue', 'GT-R', 'Aventador', \n",
    "        'DBS', 'Z4', 'M6', 'RCF', 'G70', 'Stinger', 'K900', 'Ioniq', 'EV6',\n",
    "    ]\n",
    "    \n",
    "    if isinstance(description, str):\n",
    "        description = description.lower()\n",
    "        for model in models:\n",
    "            if model.lower() in description:\n",
    "                return model\n",
    "    return None"
   ]
  },
  {
   "cell_type": "code",
   "execution_count": 35,
   "id": "d4bd3c78-6075-41fe-8139-28420d4c488a",
   "metadata": {},
   "outputs": [],
   "source": [
    "# Initialize an empty list to track identified models\n",
    "identified_models = []\n",
    "\n",
    "def update_model(description):\n",
    "    model = extract_model(description)\n",
    "    if model and model not in identified_models:\n",
    "        identified_models.append(model)\n",
    "    return model\n",
    "\n",
    "df.loc[df['model'].isna(), 'model'] = df.loc[df['model'].isna(), 'description'].apply(update_model)\n",
    "\n",
    "# Print or use the list of identified models\n",
    "# print(\"Identified Models:\", identified_models)"
   ]
  },
  {
   "cell_type": "markdown",
   "id": "34463e01-8b5a-44d3-af48-f1c3d42f3d63",
   "metadata": {},
   "source": [
    "### Number of 'NaN' in the \"model' column after cleaning"
   ]
  },
  {
   "cell_type": "code",
   "execution_count": 37,
   "id": "958fb301-53bc-4bff-8b4d-9b7bdea4371b",
   "metadata": {},
   "outputs": [
    {
     "name": "stdout",
     "output_type": "stream",
     "text": [
      "Current nulls in model column after cleaning : 199\n"
     ]
    }
   ],
   "source": [
    "print(\"Current nulls in model column after cleaning :\", df['model'].isna().sum())"
   ]
  },
  {
   "cell_type": "markdown",
   "id": "caec9291-74f5-48be-811f-5cef9e8019ab",
   "metadata": {},
   "source": [
    "### Identifying whether the 'model' column can be used to fill in the empty 'manufacturers' column"
   ]
  },
  {
   "cell_type": "markdown",
   "id": "902e6444-d0b4-4b35-9977-01ab1158baff",
   "metadata": {},
   "source": [
    "#### Number of rows where 'model' is NaN and 'description' is not NaN"
   ]
  },
  {
   "cell_type": "code",
   "execution_count": 40,
   "id": "97317550-7efa-47e1-b5ed-6580d20b744a",
   "metadata": {},
   "outputs": [
    {
     "name": "stdout",
     "output_type": "stream",
     "text": [
      "Number of rows where 'model' is NaN and 'description' is not NaN: 132\n"
     ]
    }
   ],
   "source": [
    "count = df[df['model'].isna() & df['description'].notna()].shape[0]\n",
    "print(\"Number of rows where 'model' is NaN and 'description' is not NaN:\", count)"
   ]
  },
  {
   "cell_type": "markdown",
   "id": "bd34ff22-934c-45f5-9d8a-af3438c45c44",
   "metadata": {},
   "source": [
    "#### Number of rows where 'manufacturer' is NaN and 'description' is not NaN"
   ]
  },
  {
   "cell_type": "code",
   "execution_count": 42,
   "id": "39d3aab2-9265-42e9-b925-3e0144363944",
   "metadata": {},
   "outputs": [
    {
     "name": "stdout",
     "output_type": "stream",
     "text": [
      "Number of rows where 'manufacturer' is NaN and 'description' is not NaN: 1329\n"
     ]
    }
   ],
   "source": [
    "count = df[df['manufacturer'].isna() & df['description'].notna()].shape[0]\n",
    "print(\"Number of rows where 'manufacturer' is NaN and 'description' is not NaN:\", count)"
   ]
  },
  {
   "cell_type": "markdown",
   "id": "bc00cd96-5d50-4627-8c73-fad4e33c3790",
   "metadata": {},
   "source": [
    "#### Mapping each unique car model to its corresponding manufacturer"
   ]
  },
  {
   "cell_type": "code",
   "execution_count": 44,
   "id": "ac8a2471-627a-41ed-a90d-36055e493200",
   "metadata": {},
   "outputs": [],
   "source": [
    "model_to_manufacturer = df[['model', 'manufacturer']].dropna().drop_duplicates().set_index('model')['manufacturer'].to_dict()"
   ]
  },
  {
   "cell_type": "markdown",
   "id": "5334167e-e65d-4be4-a222-a29fedb48daa",
   "metadata": {},
   "source": [
    "#### Updating the 'manufacturer' column in `df` by using a lambda function"
   ]
  },
  {
   "cell_type": "code",
   "execution_count": 46,
   "id": "80d8dffb-c741-40d0-98ba-ecc4ba03a7c9",
   "metadata": {},
   "outputs": [],
   "source": [
    "df['manufacturer'] = df.apply(\n",
    "    lambda row: model_to_manufacturer.get(row['model'], row['manufacturer']),\n",
    "    axis=1\n",
    ")"
   ]
  },
  {
   "cell_type": "markdown",
   "id": "acad566c-4b93-4174-b67e-55ffbeec6525",
   "metadata": {},
   "source": [
    "### Number of 'NaN' in the \"manufacturer' column after clean up"
   ]
  },
  {
   "cell_type": "code",
   "execution_count": 48,
   "id": "b6886cee-902b-4d50-8b09-080f0191c80f",
   "metadata": {},
   "outputs": [
    {
     "name": "stdout",
     "output_type": "stream",
     "text": [
      "Current nulls in manufacturer column after cleaning : 1026\n"
     ]
    }
   ],
   "source": [
    "print(\"Current nulls in manufacturer column after cleaning :\", df['manufacturer'].isna().sum())"
   ]
  },
  {
   "cell_type": "markdown",
   "id": "f9ecb82d-c44d-4709-91dc-f4bebcffebf0",
   "metadata": {},
   "source": [
    "## # 3. Fuel"
   ]
  },
  {
   "cell_type": "code",
   "execution_count": 50,
   "id": "a49f725d-dabb-43d7-a89f-367c31a31c50",
   "metadata": {
    "scrolled": true
   },
   "outputs": [
    {
     "name": "stdout",
     "output_type": "stream",
     "text": [
      "0        NaN\n",
      "1        NaN\n",
      "2        NaN\n",
      "3        NaN\n",
      "4        NaN\n",
      "5        NaN\n",
      "6        NaN\n",
      "7        NaN\n",
      "8        NaN\n",
      "9        NaN\n",
      "10       NaN\n",
      "11       NaN\n",
      "12       NaN\n",
      "13       NaN\n",
      "14       NaN\n",
      "15       NaN\n",
      "16       NaN\n",
      "17       NaN\n",
      "18       NaN\n",
      "19       NaN\n",
      "20       NaN\n",
      "21       NaN\n",
      "22       NaN\n",
      "23       NaN\n",
      "24       NaN\n",
      "25       NaN\n",
      "26       NaN\n",
      "27       gas\n",
      "28       gas\n",
      "29       gas\n",
      "30       gas\n",
      "31       gas\n",
      "32       gas\n",
      "33       gas\n",
      "34       gas\n",
      "35       gas\n",
      "36       gas\n",
      "37       gas\n",
      "38       gas\n",
      "39    diesel\n",
      "40       gas\n",
      "41       gas\n",
      "42    diesel\n",
      "43       gas\n",
      "44    diesel\n",
      "45       gas\n",
      "46       gas\n",
      "47       gas\n",
      "48       gas\n",
      "49       gas\n",
      "Name: fuel, dtype: object\n"
     ]
    }
   ],
   "source": [
    "print(df['fuel'].head(50))"
   ]
  },
  {
   "cell_type": "code",
   "execution_count": 51,
   "id": "2559ca77-25ef-4b4d-b892-fa401e4b008e",
   "metadata": {},
   "outputs": [
    {
     "name": "stdout",
     "output_type": "stream",
     "text": [
      "Current nulls in fuel column : 319\n"
     ]
    }
   ],
   "source": [
    "print(\"Current nulls in fuel column :\", df['fuel'].isna().sum())"
   ]
  },
  {
   "cell_type": "markdown",
   "id": "65585e21-f38f-409d-a206-559448cabf7c",
   "metadata": {},
   "source": [
    "### Displaying the different fuel types"
   ]
  },
  {
   "cell_type": "code",
   "execution_count": 53,
   "id": "efa47400-fd7e-4ee2-821c-0b8d4923c7bf",
   "metadata": {},
   "outputs": [
    {
     "name": "stdout",
     "output_type": "stream",
     "text": [
      "[nan 'gas' 'diesel' 'hybrid' 'other' 'electric']\n"
     ]
    }
   ],
   "source": [
    "unique_fuel_values = df['fuel'].unique()\n",
    "print(unique_fuel_values)"
   ]
  },
  {
   "cell_type": "markdown",
   "id": "71c0e5ec-bf9f-49b8-9db3-cb4b4ecdf2ba",
   "metadata": {},
   "source": [
    "### Number of rows with 'Other' in the fuel column"
   ]
  },
  {
   "cell_type": "code",
   "execution_count": 55,
   "id": "f5593028-49d8-4e76-8b16-a7e4be5c23bb",
   "metadata": {},
   "outputs": [
    {
     "name": "stdout",
     "output_type": "stream",
     "text": [
      "Number of rows with 'Other' in the fuel column: 341\n"
     ]
    }
   ],
   "source": [
    "count_other = len(df[df['fuel'] == 'other'])\n",
    "print(f\"Number of rows with 'Other' in the fuel column: {count_other}\")"
   ]
  },
  {
   "cell_type": "markdown",
   "id": "6dd02cd8-67c1-459e-824c-34797f3f88c8",
   "metadata": {},
   "source": [
    "### Finding fuel type from the description column and updating the null rows"
   ]
  },
  {
   "cell_type": "code",
   "execution_count": 57,
   "id": "affa9f5e-52a9-4c10-9469-9bd3230a9b63",
   "metadata": {},
   "outputs": [],
   "source": [
    "fuel_types = [\n",
    "    \"Gasoline\",\n",
    "    \"Diesel\",\n",
    "    \"Electric\",\n",
    "    \"Hybrid\",\n",
    "    \"Plug-in Hybrid\",\n",
    "    \"Ethanol\",\n",
    "    \"Propane\",\n",
    "    \"Natural Gas\",\n",
    "    \"Hydrogen\",\n",
    "    \"Biodiesel\",\n",
    "    \"CNG (Compressed Natural Gas)\",\n",
    "    \"LPG (Liquefied Petroleum Gas)\"\n",
    "]\n",
    "\n",
    "# Function to find fuel type in description\n",
    "def find_fuel_type(description):\n",
    "    if pd.isna(description):\n",
    "        return np.nan\n",
    "    for fuel in fuel_types:\n",
    "        if fuel.lower() in description.lower():\n",
    "            return fuel\n",
    "    return np.nan\n",
    "\n",
    "# Function to update fuel if it is NaN or 'Other' and the description contains a fuel type\n",
    "def update_fuel(row):\n",
    "    if pd.isna(row['fuel']) or row['fuel'] == 'Other':\n",
    "        found_fuel = find_fuel_type(row['description'])\n",
    "        return found_fuel if pd.notna(found_fuel) else row['fuel']\n",
    "    return row['fuel']\n",
    "\n",
    "# Apply the function to update 'fuel' column\n",
    "df['fuel'] = df.apply(update_fuel, axis=1)"
   ]
  },
  {
   "cell_type": "markdown",
   "id": "e34b3cd2-1dd0-4769-8165-712e032c5f5a",
   "metadata": {},
   "source": [
    "### New number of rows with 'NaN' in the fuel column"
   ]
  },
  {
   "cell_type": "code",
   "execution_count": 59,
   "id": "42066404-172d-4ba1-ab3b-618a100ce299",
   "metadata": {},
   "outputs": [
    {
     "name": "stdout",
     "output_type": "stream",
     "text": [
      "Current nulls in fuel column : 132\n"
     ]
    }
   ],
   "source": [
    "print(\"Current nulls in fuel column :\", df['fuel'].isna().sum())"
   ]
  },
  {
   "cell_type": "markdown",
   "id": "a76dacc2-499d-4a30-afc6-3a4ec165ad03",
   "metadata": {},
   "source": [
    "### New fuel types after updating the NaN rows"
   ]
  },
  {
   "cell_type": "code",
   "execution_count": 61,
   "id": "1c91aafc-3d88-4c5f-8483-7f3ae2cda40d",
   "metadata": {},
   "outputs": [
    {
     "name": "stdout",
     "output_type": "stream",
     "text": [
      "[nan 'gas' 'diesel' 'hybrid' 'other' 'electric' 'gasoline']\n"
     ]
    }
   ],
   "source": [
    "df['fuel'] = df['fuel'].str.lower()\n",
    "unique_fuel_values = df['fuel'].unique()\n",
    "print(unique_fuel_values)"
   ]
  },
  {
   "cell_type": "markdown",
   "id": "82207a3c-7a4c-41cb-a5f2-59307d8fce02",
   "metadata": {},
   "source": [
    "### New number of rows with 'Other' in the fuel column(Unchanged)"
   ]
  },
  {
   "cell_type": "code",
   "execution_count": 63,
   "id": "2f37a063-9a7e-4bb0-a948-c401462ac9f9",
   "metadata": {},
   "outputs": [
    {
     "name": "stdout",
     "output_type": "stream",
     "text": [
      "Number of rows with 'Other' in the fuel column: 341\n"
     ]
    }
   ],
   "source": [
    "count_other = len(df[df['fuel'] == 'other'])\n",
    "print(f\"Number of rows with 'Other' in the fuel column: {count_other}\")"
   ]
  },
  {
   "cell_type": "markdown",
   "id": "a91f80dd-230e-4dab-af12-5432febacde5",
   "metadata": {},
   "source": [
    "### Mapping car model to fuel type using a dictionary"
   ]
  },
  {
   "cell_type": "code",
   "execution_count": 65,
   "id": "97a899d7-dd0f-4a3a-8b43-bb4b7de1a508",
   "metadata": {},
   "outputs": [],
   "source": [
    "# Filter out rows where 'fuel' is 'Other' or NaN\n",
    "filtered_df = df[df['fuel'].notna() & (df['fuel'] != 'Other')]\n",
    "\n",
    "# Create dictionary mapping car model to fuel type\n",
    "model_to_fuel = dict(zip(filtered_df['model'], filtered_df['fuel']))"
   ]
  },
  {
   "cell_type": "markdown",
   "id": "a2bb7dbd-228f-4cf8-b140-e2beaa89454a",
   "metadata": {},
   "source": [
    "### Function to fill in NaN or 'Other' in the 'fuel' column based on the model_to_fuel dictionary"
   ]
  },
  {
   "cell_type": "code",
   "execution_count": 67,
   "id": "d5907a43-d6df-466d-bf97-c3189f184d0e",
   "metadata": {},
   "outputs": [],
   "source": [
    "def fill_fuel(row):\n",
    "    if pd.isna(row['fuel']) or row['fuel'] == 'Other':\n",
    "        return model_to_fuel.get(row['model'], row['fuel'])\n",
    "    return row['fuel']\n",
    "\n",
    "# Apply the function to fill in the 'fuel' column\n",
    "df['fuel'] = df.apply(fill_fuel, axis=1)"
   ]
  },
  {
   "cell_type": "markdown",
   "id": "7d7df220-3666-40a8-902d-aceb7f2faf60",
   "metadata": {},
   "source": [
    "### Number of rows with 'Other' in the fuel column after the cleaning above"
   ]
  },
  {
   "cell_type": "code",
   "execution_count": 69,
   "id": "91e5f407-5146-4d70-a07f-9f6049a40577",
   "metadata": {},
   "outputs": [
    {
     "name": "stdout",
     "output_type": "stream",
     "text": [
      "Number of rows with 'Other' in the fuel column: 341\n"
     ]
    }
   ],
   "source": [
    "count_other = len(df[df['fuel'] == 'other'])\n",
    "print(f\"Number of rows with 'Other' in the fuel column: {count_other}\")"
   ]
  },
  {
   "cell_type": "markdown",
   "id": "cc891e71-2cd7-44c5-9d05-a672963a3f39",
   "metadata": {},
   "source": [
    "### Number of rows with 'NaN' in the fuel column after the cleaning above"
   ]
  },
  {
   "cell_type": "code",
   "execution_count": 71,
   "id": "f74bca83-87ad-42d4-909f-da6f9c6b800f",
   "metadata": {},
   "outputs": [
    {
     "name": "stdout",
     "output_type": "stream",
     "text": [
      "Current nulls in fuel column : 8\n"
     ]
    }
   ],
   "source": [
    "print(\"Current nulls in fuel column :\", df['fuel'].isna().sum())"
   ]
  },
  {
   "cell_type": "markdown",
   "id": "f2fc08b5-e9c2-4476-a942-f19f035032eb",
   "metadata": {},
   "source": [
    "## # 4. Odometer "
   ]
  },
  {
   "cell_type": "code",
   "execution_count": 73,
   "id": "238cd12f-8420-409e-ab3a-16a1ba7fe979",
   "metadata": {
    "scrolled": true
   },
   "outputs": [
    {
     "name": "stdout",
     "output_type": "stream",
     "text": [
      "id                                                                                                                              7316644188\n",
      "url                                             https://bham.craigslist.org/cto/d/birmingham-1976-chevrolet-malibu-classic/7316644188.html\n",
      "region                                                                                                                          birmingham\n",
      "region_url                                                                                                     https://bham.craigslist.org\n",
      "price                                                                                                                                 2500\n",
      "year                                                                                                                                1976.0\n",
      "manufacturer                                                                                                                     chevrolet\n",
      "model                                                                                                                     'malibu classic'\n",
      "condition                                                                                                                              NaN\n",
      "cylinders                                                                                                                              NaN\n",
      "fuel                                                                                                                                   gas\n",
      "odometer                                                                                                                             100.0\n",
      "title_status                                                                                                                         clean\n",
      "transmission                                                                                                                     automatic\n",
      "VIN                                                                                                                                    NaN\n",
      "drive                                                                                                                                  NaN\n",
      "size                                                                                                                                   NaN\n",
      "type                                                                                                                                   NaN\n",
      "paint_color                                                                                                                            NaN\n",
      "image_url                                                               https://images.craigslist.org/00B0B_NcrT4hLRRdz_0CI0lM_600x450.jpg\n",
      "description     'Car is complete with a 350 V8. A/C and automatic transmission. Clean title in hand. Call or text me  show contact info .'\n",
      "county                                                                                                                                 NaN\n",
      "state                                                                                                                                   al\n",
      "lat                                                                                                                                33.5179\n",
      "long                                                                                                                              -86.8372\n",
      "posting_date                                                                                                      2021-05-04T07:11:30-0500\n",
      "Name: 33, dtype: object\n"
     ]
    }
   ],
   "source": [
    "print(df.iloc[33])"
   ]
  },
  {
   "cell_type": "markdown",
   "id": "dc08b205-2427-48a5-9430-ebfad5d9add5",
   "metadata": {},
   "source": [
    "### Number of rows with 'NaN' in the 'odometer' column "
   ]
  },
  {
   "cell_type": "code",
   "execution_count": 75,
   "id": "3c89f406-d7c5-415f-b214-adfb987c210c",
   "metadata": {},
   "outputs": [
    {
     "name": "stdout",
     "output_type": "stream",
     "text": [
      "Current nulls in odometer column : 293\n"
     ]
    }
   ],
   "source": [
    "print(\"Current nulls in odometer column :\", df['odometer'].isna().sum())"
   ]
  },
  {
   "cell_type": "markdown",
   "id": "1d872b69-b772-4e90-a6bc-72ed3944e177",
   "metadata": {},
   "source": [
    "### Function to extract and fill in 'NaN' or 'Other' in the 'odometer' columns"
   ]
  },
  {
   "cell_type": "code",
   "execution_count": 77,
   "id": "d3351bda-c77c-4445-9cd5-12280980845e",
   "metadata": {},
   "outputs": [],
   "source": [
    "df['description'] = df['description'].astype(str)"
   ]
  },
  {
   "cell_type": "code",
   "execution_count": 78,
   "id": "66dafd41-c8f0-4ac2-8cdf-6a6d911d457c",
   "metadata": {},
   "outputs": [
    {
     "name": "stdout",
     "output_type": "stream",
     "text": [
      "Current nulls in odometer column: 67\n"
     ]
    }
   ],
   "source": [
    "def extract_odometer(description):\n",
    "    # Define a combined regular expression pattern to match various odometer formats\n",
    "    pattern = re.compile(r'''\n",
    "        (\\d+(?:,\\d{3})*|\\d+(?:\\.\\d{3})*|\\d+)(?:\\s*(?:miles?|mi))?\\b  # Handles \"100,000 miles\", \"100000 mi\", \"100.000 miles\", etc.\n",
    "        | (\\d+(?:\\.\\d+)?)(?:\\s*(?:k|K))? # Handles \"100k\" and floating-point numbers\n",
    "    ''', re.VERBOSE)\n",
    "    \n",
    "    match = pattern.search(description)\n",
    "    \n",
    "    if match:\n",
    "        # Check which group has a match\n",
    "        odometer_reading = match.group(1) or match.group(2)\n",
    "        \n",
    "        # Handle cases where the value ends with 'k' (e.g., \"100k\")\n",
    "        if description.lower().endswith('k'):\n",
    "            odometer_reading = float(odometer_reading.replace(',', '').replace('.', '')) * 1000\n",
    "        else:\n",
    "            # Remove commas for consistency and handle decimals\n",
    "            odometer_reading = float(odometer_reading.replace(',', '').replace('.', ''))\n",
    "        \n",
    "        return odometer_reading\n",
    "    return None\n",
    "    \n",
    "# Apply the extraction function and update NaN values in 'Odometer' column\n",
    "df['Extracted Odometer'] = df['description'].apply(extract_odometer)\n",
    "\n",
    "# Update NaN values in 'Odometer' column with the extracted values\n",
    "df['odometer'] = df['odometer'].combine_first(df['Extracted Odometer'])\n",
    "\n",
    "# Drop the temporary 'Extracted Odometer' column\n",
    "df = df.drop(columns=['Extracted Odometer'])\n",
    "# Check the number of nulls after the operation\n",
    "nulls_after = df['odometer'].isna().sum()\n",
    "print(f\"Current nulls in odometer column: {nulls_after}\")"
   ]
  },
  {
   "cell_type": "markdown",
   "id": "d730055b-a3e5-43d9-878a-89a6bf5bab63",
   "metadata": {},
   "source": [
    "### Printing the row at index 60 of the DataFrame `df` to the console "
   ]
  },
  {
   "cell_type": "code",
   "execution_count": 80,
   "id": "47910100-46bc-4d19-9ce9-1c11f8e3b823",
   "metadata": {
    "scrolled": true
   },
   "outputs": [
    {
     "name": "stdout",
     "output_type": "stream",
     "text": [
      "id                                                                                                                                                                                                                                                                                                                                                                                                                                                                                                                                                                                                     7314348351\n",
      "url                                                                                                                                                                                                                                                                                                                                                                                                                                                                                                                     https://bham.craigslist.org/ctd/d/birmingham-2015-ford-f350-dully-67l-4x4/7314348351.html\n",
      "region                                                                                                                                                                                                                                                                                                                                                                                                                                                                                                                                                                                                 birmingham\n",
      "region_url                                                                                                                                                                                                                                                                                                                                                                                                                                                                                                                                                                            https://bham.craigslist.org\n",
      "price                                                                                                                                                                                                                                                                                                                                                                                                                                                                                                                                                                                                       26995\n",
      "year                                                                                                                                                                                                                                                                                                                                                                                                                                                                                                                                                                                                       2015.0\n",
      "manufacturer                                                                                                                                                                                                                                                                                                                                                                                                                                                                                                                                                                                                 ford\n",
      "model                                                                                                                                                                                                                                                                                                                                                                                                                                                                                                                                                                                                       f-350\n",
      "condition                                                                                                                                                                                                                                                                                                                                                                                                                                                                                                                                                                                                     NaN\n",
      "cylinders                                                                                                                                                                                                                                                                                                                                                                                                                                                                                                                                                                                                     NaN\n",
      "fuel                                                                                                                                                                                                                                                                                                                                                                                                                                                                                                                                                                                                       diesel\n",
      "odometer                                                                                                                                                                                                                                                                                                                                                                                                                                                                                                                                                                                                 232000.0\n",
      "title_status                                                                                                                                                                                                                                                                                                                                                                                                                                                                                                                                                                                                clean\n",
      "transmission                                                                                                                                                                                                                                                                                                                                                                                                                                                                                                                                                                                            automatic\n",
      "VIN                                                                                                                                                                                                                                                                                                                                                                                                                                                                                                                                                                                                           NaN\n",
      "drive                                                                                                                                                                                                                                                                                                                                                                                                                                                                                                                                                                                                         4wd\n",
      "size                                                                                                                                                                                                                                                                                                                                                                                                                                                                                                                                                                                                          NaN\n",
      "type                                                                                                                                                                                                                                                                                                                                                                                                                                                                                                                                                                                                          NaN\n",
      "paint_color                                                                                                                                                                                                                                                                                                                                                                                                                                                                                                                                                                                                   NaN\n",
      "image_url                                                                                                                                                                                                                                                                                                                                                                                                                                                                                                                                     https://images.craigslist.org/00Q0Q_bdvYmYYkqV3z_0uv0j8_600x450.jpg\n",
      "description     '2015 Ford F350 Dully 6.7L 4x4 Crew Cab with gooseneck  Hotshot truck for sale! 232K miles  2015 Ford F350 Diesel Dully 4x4 Crew Cab with gooseneck  Truck is running amazing! Deleted!   Truck is powered by the 6.7L diesel engine paired with a smooth shifting transmission -XLT Package -Tuned and deleted -Healthy tires -gooseneck hitch -Tow package And much more….  Free Carfax | Clean title  *Financing Options with Tax ID or Social Security *Financiamiento disponible con seguro o tax id  Contact Joe Text or Call 404-495-5393 (SERVICIO EN ESPAñOL)   LOCATED IN JONESBORO GA'\n",
      "county                                                                                                                                                                                                                                                                                                                                                                                                                                                                                                                                                                                                        NaN\n",
      "state                                                                                                                                                                                                                                                                                                                                                                                                                                                                                                                                                                                                          al\n",
      "lat                                                                                                                                                                                                                                                                                                                                                                                                                                                                                                                                                                                                        33.521\n",
      "long                                                                                                                                                                                                                                                                                                                                                                                                                                                                                                                                                                                                     -86.8066\n",
      "posting_date                                                                                                                                                                                                                                                                                                                                                                                                                                                                                                                                                                             2021-04-29T11:03:09-0500\n",
      "Name: 60, dtype: object\n"
     ]
    }
   ],
   "source": [
    "print(df.iloc[60])"
   ]
  },
  {
   "cell_type": "markdown",
   "id": "72188145-2ee9-428a-b2e0-f6ca561cfe13",
   "metadata": {},
   "source": [
    "## # 5. Title Status  "
   ]
  },
  {
   "cell_type": "markdown",
   "id": "bf120800-534b-4fd8-a3bd-0ed731a9e9f4",
   "metadata": {},
   "source": [
    "### Displaying the different Title Status"
   ]
  },
  {
   "cell_type": "code",
   "execution_count": 83,
   "id": "7ac45fe0-1c22-4a4d-942d-01ebfb264bb4",
   "metadata": {},
   "outputs": [
    {
     "name": "stdout",
     "output_type": "stream",
     "text": [
      "[nan 'clean' 'rebuilt' 'missing' 'lien' 'salvage' \"'parts only'\"]\n"
     ]
    }
   ],
   "source": [
    "df['title_status'] = df['title_status'].str.lower()\n",
    "unique_title_status_values = df['title_status'].unique()\n",
    "print(unique_title_status_values)"
   ]
  },
  {
   "cell_type": "markdown",
   "id": "3526a43b-6bb7-4b0f-8340-b50ad6d9ba2e",
   "metadata": {},
   "source": [
    "### Number of rows with 'NaN' in the 'title_status' column "
   ]
  },
  {
   "cell_type": "code",
   "execution_count": 85,
   "id": "a62aa87a-4910-4786-a183-5e03fc120fe6",
   "metadata": {},
   "outputs": [
    {
     "name": "stdout",
     "output_type": "stream",
     "text": [
      "Current nulls in title_status column : 293\n"
     ]
    }
   ],
   "source": [
    "print(\"Current nulls in title_status column :\", df['title_status'].isna().sum())"
   ]
  },
  {
   "cell_type": "markdown",
   "id": "ccf5de98-a65e-45d9-b55c-405a515f9ecf",
   "metadata": {},
   "source": [
    "### Function to extract and fill in 'NaN' in the 'title_status' columns "
   ]
  },
  {
   "cell_type": "code",
   "execution_count": 87,
   "id": "52802de2-da5b-4d6c-9873-2782dbbac9a9",
   "metadata": {},
   "outputs": [
    {
     "name": "stdout",
     "output_type": "stream",
     "text": [
      "               id  \\\n",
      "0      7222695916   \n",
      "1      7218891961   \n",
      "2      7221797935   \n",
      "3      7222270760   \n",
      "4      7210384030   \n",
      "...           ...   \n",
      "34231  7305718110   \n",
      "34232  7305596553   \n",
      "34233  7305590558   \n",
      "34234  7305379796   \n",
      "34235  7303806527   \n",
      "\n",
      "                                                                                                url  \\\n",
      "0                   https://prescott.craigslist.org/cto/d/prescott-2010-ford-ranger/7222695916.html   \n",
      "1            https://fayar.craigslist.org/ctd/d/bentonville-2017-hyundai-elantra-se/7218891961.html   \n",
      "2                   https://keys.craigslist.org/cto/d/summerland-key-2005-excursion/7221797935.html   \n",
      "3      https://worcester.craigslist.org/cto/d/west-brookfield-2002-honda-odyssey-ex/7222270760.html   \n",
      "4              https://greensboro.craigslist.org/cto/d/trinity-1965-chevrolet-truck/7210384030.html   \n",
      "...                                                                                             ...   \n",
      "34231            https://wyoming.craigslist.org/cto/d/thermopolis-2002-ford-350-4x4/7305718110.html   \n",
      "34232           https://wyoming.craigslist.org/cto/d/cheyenne-2000-chevy-10-pick-up/7305596553.html   \n",
      "34233     https://wyoming.craigslist.org/cto/d/rawlins-2015-jeep-wrangler-unlimited/7305590558.html   \n",
      "34234     https://wyoming.craigslist.org/cto/d/arapahoe-subaru-forester-2011-manual/7305379796.html   \n",
      "34235           https://wyoming.craigslist.org/cto/d/laramie-2000-cadillac-de-ville/7303806527.html   \n",
      "\n",
      "                         region                         region_url  price  \\\n",
      "0                      prescott    https://prescott.craigslist.org   6000   \n",
      "1                  fayetteville       https://fayar.craigslist.org  11900   \n",
      "2                'florida keys'        https://keys.craigslist.org  21000   \n",
      "3      'worcester / central MA'   https://worcester.craigslist.org   1500   \n",
      "4                    greensboro  https://greensboro.craigslist.org   4900   \n",
      "...                         ...                                ...    ...   \n",
      "34231                   wyoming     https://wyoming.craigslist.org   6500   \n",
      "34232                   wyoming     https://wyoming.craigslist.org   2800   \n",
      "34233                   wyoming     https://wyoming.craigslist.org   9000   \n",
      "34234                   wyoming     https://wyoming.craigslist.org   6500   \n",
      "34235                   wyoming     https://wyoming.craigslist.org    800   \n",
      "\n",
      "         year manufacturer                 model  condition      cylinders  \\\n",
      "0         NaN         None                  None        NaN            NaN   \n",
      "1         NaN         None                  None        NaN            NaN   \n",
      "2         NaN         None                  None        NaN            NaN   \n",
      "3         NaN         None                  None        NaN            NaN   \n",
      "4         NaN         None                  None        NaN            NaN   \n",
      "...       ...          ...                   ...        ...            ...   \n",
      "34231  2002.0         ford               'f 350'        NaN            NaN   \n",
      "34232  2000.0    chevrolet          's10 pickup'        NaN            NaN   \n",
      "34233  2015.0         jeep  'wrangler unlimited'    salvage  '6 cylinders'   \n",
      "34234  2011.0       subaru              forester       good  '4 cylinders'   \n",
      "34235  2000.0     cadillac               deville  excellent  '8 cylinders'   \n",
      "\n",
      "       ...       size   type paint_color  \\\n",
      "0      ...        NaN    NaN         NaN   \n",
      "1      ...        NaN    NaN         NaN   \n",
      "2      ...        NaN    NaN         NaN   \n",
      "3      ...        NaN    NaN         NaN   \n",
      "4      ...        NaN    NaN         NaN   \n",
      "...    ...        ...    ...         ...   \n",
      "34231  ...        NaN    NaN         NaN   \n",
      "34232  ...        NaN    NaN         NaN   \n",
      "34233  ...        NaN    SUV       black   \n",
      "34234  ...        NaN    NaN         NaN   \n",
      "34235  ...  full-size  coupe       white   \n",
      "\n",
      "                                                                 image_url  \\\n",
      "0                                                                      NaN   \n",
      "1                                                                      NaN   \n",
      "2                                                                      NaN   \n",
      "3                                                                      NaN   \n",
      "4                                                                      NaN   \n",
      "...                                                                    ...   \n",
      "34231  https://images.craigslist.org/00404_8EkKcC6XuWdz_0t20CI_600x450.jpg   \n",
      "34232  https://images.craigslist.org/00j0j_3i2W0MmbkIRz_0lM0t2_600x450.jpg   \n",
      "34233  https://images.craigslist.org/00909_iyoc54RPpygz_0CI0iP_600x450.jpg   \n",
      "34234  https://images.craigslist.org/00g0g_lUE50arLcV1z_0CI0t2_600x450.jpg   \n",
      "34235  https://images.craigslist.org/00f0f_1kOqCs4Ddv0z_0lM0t2_600x450.jpg   \n",
      "\n",
      "                                                                                                                                                                                                                                                                                                                                                                                                                                                                                                                                                                                                                                                                                                                                                                           description  \\\n",
      "0                                                                                                                                                                                                                                                                                                                                                                                                                                                                                                                                                                                                                                                                                                                                                                                  nan   \n",
      "1                                                                                                                                                                                                                                                                                                                                                                                                                                                                                                                                                                                                                                                                                                                                                                                  nan   \n",
      "2                                                                                                                                                                                                                                                                                                                                                                                                                                                                                                                                                                                                                                                                                                                                                                                  nan   \n",
      "3                                                                                                                                                                                                                                                                                                                                                                                                                                                                                                                                                                                                                                                                                                                                                                                  nan   \n",
      "4                                                                                                                                                                                                                                                                                                                                                                                                                                                                                                                                                                                                                                                                                                                                                                                  nan   \n",
      "...                                                                                                                                                                                                                                                                                                                                                                                                                                                                                                                                                                                                                                                                                                                                                                                ...   \n",
      "34231                                                                                                                                                                                                                                                                                                                                                                                                                                                                                                                                                                                 '2002 Ford f 350 ext cab  295000 miles Power stroke Diesal  6 speed manual 4x4 Flatbed  Located thermopolis Wy   show contact info  call or text Serious buyers only Or call  show contact info'   \n",
      "34232                                                                                                                                                                                                                                                                                                                                                                                                                                                                                                                                                                                                                                                  '2000 Chevy S 10 pick up runs great 142000 miles manual transmission call for more info 2 Wheel Dr. High Country truck & auto￼'   \n",
      "34233                                                                                                                                                                                                                                                                                                                                                                                                                                                                                                                                                                                                                                                          'Salvage title from previous owner Engine damage from oil leak Upgraded led lights New fender flares available with it'   \n",
      "34234  'This vehicle is in great shape! It\\'s mechanically sound and the interior is clean.   I am the second owner of this Subaru and have only had this vehicle for 4 months.   I\\'ve been working in Washington State and needed something reliable and with decent fuel economy to get me there and back to Wyoming. This Forester has been a great car.   This vehicle is AWD and handles great in the snow. I never changed over to snow tires this winter and it handled fine on snowpack highways and interstate. It would be extremely maneuverable with snow tires.   This car has a manual transmission and is a whole lot of fun to drive around!  I really need to sell this vehicle asap. Heading back to work and won\\'t need it around. Price is somewhat negotiable.'   \n",
      "34235                                                                                                                                                                                                                                                                                                                                                                                                                                                                                                                                                                                                                                                                           '2000 Cadillac Deville Needs thermostats New tires brakes Runs great 800 Cale alan  show contact info'   \n",
      "\n",
      "      county state                lat                 long  \\\n",
      "0        NaN    az                NaN                  NaN   \n",
      "1        NaN    ar                NaN                  NaN   \n",
      "2        NaN    fl                NaN                  NaN   \n",
      "3        NaN    ma                NaN                  NaN   \n",
      "4        NaN    nc                NaN                  NaN   \n",
      "...      ...   ...                ...                  ...   \n",
      "34231    NaN    wy           43.72509          -108.471457   \n",
      "34232    NaN    wy            41.1084            -104.8107   \n",
      "34233    NaN    wy          41.888456  -107.49508300000001   \n",
      "34234    NaN    wy            42.9208            -108.5913   \n",
      "34235    NaN    wy  41.43899999999999             -105.801   \n",
      "\n",
      "                   posting_date  \n",
      "0                           NaN  \n",
      "1                           NaN  \n",
      "2                           NaN  \n",
      "3                           NaN  \n",
      "4                           NaN  \n",
      "...                         ...  \n",
      "34231  2021-04-12T11:26:07-0600  \n",
      "34232  2021-04-12T08:24:13-0600  \n",
      "34233  2021-04-12T08:13:21-0600  \n",
      "34234  2021-04-11T16:25:00-0600  \n",
      "34235  2021-04-08T13:26:14-0600  \n",
      "\n",
      "[34236 rows x 26 columns]\n"
     ]
    }
   ],
   "source": [
    "# Define the list of car title statuses\n",
    "car_title_statuses = [\n",
    "    \"Clean\", \"Salvage\", \"Rebuilt\", \"Junk\", \"Flood\", \"Theft\", \"Auction\", \"Lease\", \"Rental\", \"Historical\",\n",
    "    \"Certified Pre-Owned\", \"Non-Repairable\", \"Hail Damage\", \"Insured\", \"Warranty\", \"Repossession\", \"Accident\",\n",
    "    \"Damaged\", \"Repairable\", \"Recovered Theft\", \"State Owned\", \"Police Car\", \"Government Vehicle\", \"Emergency Vehicle\",\n",
    "    \"Taxi\", \"Limousine\", \"Service Vehicle\", \"Rental Fleet\", \"Pre-Owned\", \"Highway Use\", \"Custom Build\", \"Missing\",\n",
    "    \"Parts Only\", \"Lien\", \"Flood Damage\", \"Under Repair\", \"Insurance Claim\", \"Ex-Taxi\", \"Ex-Government\", \"Repossessed\",\n",
    "    \"Overseas Delivery\", \"Driver Training\", \"Special Edition\", \"Conversion\", \"Limited Edition\", \"Show Car\", \"Used Car\",\n",
    "    \"Demo Car\", \"Out-of-State\", \"Farm Vehicle\", \"Military Vehicle\", \"Collector Car\", \"Racing Vehicle\", \"Prototype\",\n",
    "    \"Project Car\", \"Restored\", \"Recreational\", \"Off-Road\"\n",
    "]\n",
    "\n",
    "# Create a regex pattern for each car title status\n",
    "title_status_patterns = {status: re.compile(r'\\b' + re.escape(status) + r'\\b', re.IGNORECASE) for status in car_title_statuses}\n",
    "\n",
    "def extract_title_status(description):\n",
    "    for status, pattern in title_status_patterns.items():\n",
    "        if pattern.search(description):\n",
    "            return status\n",
    "    return None  # Return None if no match is found\n",
    "\n",
    "# Update NaN values in 'title_status' column with extracted values from 'description'\n",
    "df['title_status'] = df.apply(\n",
    "    lambda row: extract_title_status(row['description']) if pd.isna(row['title_status']) else row['title_status'],\n",
    "    axis=1\n",
    ")\n",
    "\n",
    "print(df)"
   ]
  },
  {
   "cell_type": "markdown",
   "id": "7a42cd71-10cc-4a6e-9574-cfed9ead6e8b",
   "metadata": {},
   "source": [
    "### Number of rows with 'NaN' in the 'title_status' column after clean up"
   ]
  },
  {
   "cell_type": "code",
   "execution_count": 89,
   "id": "3d54fd51-39d0-4484-8f98-204bf7433f98",
   "metadata": {},
   "outputs": [
    {
     "name": "stdout",
     "output_type": "stream",
     "text": [
      "Current nulls in title_status column : 121\n"
     ]
    }
   ],
   "source": [
    "print(\"Current nulls in title_status column :\", df['title_status'].isna().sum())"
   ]
  },
  {
   "cell_type": "markdown",
   "id": "25e083d6-5a3e-4af3-9e76-2e814e06766b",
   "metadata": {},
   "source": [
    "### Displaying the different 'title_status' values after clean up"
   ]
  },
  {
   "cell_type": "code",
   "execution_count": 91,
   "id": "5e0caa15-9ee0-41c0-9aeb-d862fa954ed6",
   "metadata": {},
   "outputs": [
    {
     "name": "stdout",
     "output_type": "stream",
     "text": [
      "[None 'clean' 'rebuilt' 'missing' 'lien' 'salvage' \"'parts only'\" 'theft']\n"
     ]
    }
   ],
   "source": [
    "df['title_status'] = df['title_status'].str.lower()\n",
    "unique_title_status_values = df['title_status'].unique()\n",
    "print(unique_title_status_values)"
   ]
  },
  {
   "cell_type": "markdown",
   "id": "cc0d20b1-68fa-4b7f-9439-eb0c0aa86c4a",
   "metadata": {},
   "source": [
    "## # 6. Transmission      "
   ]
  },
  {
   "cell_type": "markdown",
   "id": "c8a05598-39a1-4167-8d8e-106641675673",
   "metadata": {},
   "source": [
    "### Displaying the first 60 entries of the 'transmission' column from the DataFrame `df`"
   ]
  },
  {
   "cell_type": "code",
   "execution_count": 94,
   "id": "03fc50e8-232f-457e-86a5-1e1289d04614",
   "metadata": {
    "scrolled": true
   },
   "outputs": [
    {
     "data": {
      "text/plain": [
       "0           NaN\n",
       "1           NaN\n",
       "2           NaN\n",
       "3           NaN\n",
       "4           NaN\n",
       "5           NaN\n",
       "6           NaN\n",
       "7           NaN\n",
       "8           NaN\n",
       "9           NaN\n",
       "10          NaN\n",
       "11          NaN\n",
       "12          NaN\n",
       "13          NaN\n",
       "14          NaN\n",
       "15          NaN\n",
       "16          NaN\n",
       "17          NaN\n",
       "18          NaN\n",
       "19          NaN\n",
       "20          NaN\n",
       "21          NaN\n",
       "22          NaN\n",
       "23          NaN\n",
       "24          NaN\n",
       "25          NaN\n",
       "26          NaN\n",
       "27    automatic\n",
       "28       manual\n",
       "29       manual\n",
       "30    automatic\n",
       "31    automatic\n",
       "32    automatic\n",
       "33    automatic\n",
       "34    automatic\n",
       "35    automatic\n",
       "36    automatic\n",
       "37    automatic\n",
       "38    automatic\n",
       "39    automatic\n",
       "40    automatic\n",
       "41    automatic\n",
       "42    automatic\n",
       "43    automatic\n",
       "44    automatic\n",
       "45    automatic\n",
       "46    automatic\n",
       "47    automatic\n",
       "48    automatic\n",
       "49    automatic\n",
       "50    automatic\n",
       "51    automatic\n",
       "52    automatic\n",
       "53    automatic\n",
       "54    automatic\n",
       "55    automatic\n",
       "56    automatic\n",
       "57    automatic\n",
       "58    automatic\n",
       "59    automatic\n",
       "Name: transmission, dtype: object"
      ]
     },
     "execution_count": 94,
     "metadata": {},
     "output_type": "execute_result"
    }
   ],
   "source": [
    "pd.set_option('display.max_colwidth', None)\n",
    "df['transmission'].head(60)"
   ]
  },
  {
   "cell_type": "markdown",
   "id": "5a93bbf3-c31b-4c4a-9a30-295c4cca5249",
   "metadata": {},
   "source": [
    "### Displaying the different 'transmission' values before clean up"
   ]
  },
  {
   "cell_type": "code",
   "execution_count": 96,
   "id": "9cdabd93-194f-443a-8054-011c6689e6a6",
   "metadata": {},
   "outputs": [
    {
     "name": "stdout",
     "output_type": "stream",
     "text": [
      "[nan 'automatic' 'manual' 'other']\n"
     ]
    }
   ],
   "source": [
    "df['transmission'] = df['transmission'].str.lower()\n",
    "unique_transmission_values = df['transmission'].unique()\n",
    "print(unique_transmission_values)"
   ]
  },
  {
   "cell_type": "markdown",
   "id": "6186ad2d-7ec4-46ec-b868-f8b758ba268c",
   "metadata": {},
   "source": [
    "### Number of rows with 'NaN' in the 'transmission' column "
   ]
  },
  {
   "cell_type": "code",
   "execution_count": 98,
   "id": "abbe019e-383c-416b-8df7-bc2f75bb0f3e",
   "metadata": {},
   "outputs": [
    {
     "name": "stdout",
     "output_type": "stream",
     "text": [
      "Current nulls in 'transmission' column : 293\n"
     ]
    }
   ],
   "source": [
    "print(\"Current nulls in 'transmission' column :\", df['transmission'].isna().sum())"
   ]
  },
  {
   "cell_type": "markdown",
   "id": "9d15c1b1-90a1-4277-98d3-3fc7437d7aa9",
   "metadata": {},
   "source": [
    "### A car transmission's list to help with extracting"
   ]
  },
  {
   "cell_type": "code",
   "execution_count": 100,
   "id": "a92317fa-1423-4b4d-9b57-c015c679a140",
   "metadata": {},
   "outputs": [],
   "source": [
    "car_transmissions = [\n",
    "    \"Turbo-Hydramatic\", \"Twin Clutch Transmission\", \"Centrifugal Clutch\", \"Sportmatic\", \"Steermatic\",\n",
    "    \"I-Shift Dual Clutch\", \"Shiftable Manual\", \"TipShift\", \"Direct Drive\", \"Autostick\",\n",
    "    \"Torsionmatic\", \"Three on the Tree\", \"Four on the Floor\", \"Five-Speed Manual\", \"Six-Speed Manual\",\n",
    "    \"Seven-Speed Manual\", \"Eight-Speed Manual\", \"Nine-Speed Manual\", \"Electric Drive\", \"Hydraulic Drive\",\n",
    "    \"Magnetic Drive\", \"TorqueFlite\", \"UltraMatic\", \"Twin-Shaft Transmission\", \"Multi-Speed Transmission\",\n",
    "    \"Belt-Driven Transmission\", \"Chain-Driven Transmission\", \"Synchromesh Transmission\", \"Dog Box\", \"Racing Transmission\",\n",
    "    \"Off-Road Transmission\", \"Heavy Duty Transmission\", \"Roto Hydramatic\", \"Super Roto\", \"Super Turbine\",\n",
    "    \"Cruise-O-Matic\", \"C4 Transmission\", \"C6 Transmission\", \"FMX Transmission\", \"SuperDrive\",\n",
    "    \"Overdrive Transmission\", \"Planetary Gearbox\", \"Electronic Gearbox\", \"AutoStick Transmission\", \"Selectronic\",\n",
    "    \"PowerFlite\", \"Easytronic\", \"Variomatic\", \"Fluid Coupling\", \"Torque Converter Transmission\",\n",
    "    \"Split-Path Transmission\", \"Direct Shift Gearbox\", \"Electronically Controlled Variable Transmission\", \"Hydraulic Continuously Variable Transmission\", \"Hydrodynamic Transmission\",\n",
    "    \"Flex Drive\", \"Glide Shift\", \"PowerDirect\", \"PowerGuide\", \"Controlmatic\",\n",
    "    \"SmartDrive\", \"iDrive\", \"ActiveDrive\", \"Adaptive Drive\", \"SportDrive\",\n",
    "    \"Cruise Shift\", \"PowerShift Automatic\", \"Auto Gear Shift\", \"TurboDrive\", \"JetDrive\",\n",
    "    \"HyperDrive\", \"Powertrain Automatic\", \"Transaxle Automatic\", \"Transmatic\", \"Clutchless Transmission\",\n",
    "    \"Active Transmission\", \"AdvanceTronic\", \"AutoClutch\", \"Clutch-By-Wire\", \"Shift-By-Wire\",\n",
    "    \"Gearless Transmission\", \"AutoPilot Transmission\", \"SmartTronic\", \"SpeedTronic\", \"SuperDrive Transmission\",\n",
    "    \"V-Matic\", \"MultiTronic\", \"Dynamic Gearbox\", \"SpeedShift Automatic\", \"Synchromatic\",\n",
    "    \"SuperSync\", \"UltraShift\", \"Super CVT\", \"Hyper CVT\", \"Digital Transmission\",\n",
    "    \"MagnaShift\", \"MagnaDrive\", \"Gearless CVT\", \"Electric CVT\", \"Flexomatic\",\n",
    "    \"Proactive Transmission\", \"SensiDrive\", \"AutoFlex\", \"EcoShift Automatic\", \"GreenShift\",\n",
    "    \"EconoShift\", \"Super Automatic\", \"Dual-Range Transmission\", \"Quadra-Drive\", \"Quadra-Trac\",\n",
    "    \"SynchroMesh\", \"Fluid Drive\", \"Variodrive\", \"Speedmatic\", \"Hydramatic Transmission\",\n",
    "    \"Multispeed Transmission\", \"Supermatic\", \"VarioMatic\", \"HydraMatic\", \"TurboMatic\",\n",
    "    \"Variomatic\", \"HydroMatic\", \"EcoTronic\", \"Twin Clutch Gearbox\", \"Dual Mode Transmission\",\n",
    "    \"ECO Transmission\", \"HyperShift Automatic\", \"ShiftLogic\", \"Performance Shift\", \"TorqueShift\",\n",
    "    \"AutoShift Manual\", \"Hydraulic Gearbox\", \"CVP Transmission\", \"V-Drive\", \"HydroShift\",\n",
    "    \"ElectroShift\", \"PowerFlow Automatic\", \"RoboShift\", \"Adaptive Shift\", \"SmartShift\",\n",
    "    \"DynamicShift\", \"EcoTronic Transmission\", \"ShiftDrive\", \"SelectDrive\", \"SportDrive\",\n",
    "    \"CruiseDrive\", \"SpeedDrive\", \"PowerGlide\", \"Dynaflow\", \"Powershift\",\n",
    "    \"Gearshift\", \"AutoMode\", \"Multi-Speed Automatic\", \"Variable Speed\", \"Electric Shift\",\n",
    "    \"TurboShift\", \"Xtronic CVT\", \"Proactive Automatic\", \"ProShift\", \"EcoLogic Transmission\",\n",
    "    \"ProDrive\", \"GreenDrive\", \"ShiftPoint\", \"SpeedMaster\", \"ControlShift\",\n",
    "    \"PowerTrain\", \"HighTorque Transmission\", \"UltraTorque\", \"EcoTorque\", \"FlexDrive Automatic\",\n",
    "    \"ElectroDrive\", \"AutoTrac\", \"AutoTronic\", \"SpeedLine\", \"EcoLine\",\n",
    "    \"GearMaster\", \"MultiDrive\", \"MultiTrac\", \"FlexShift\", \"SpeedFlex\",\n",
    "    \"ProTrac\", \"FlexTorque\", \"TurboFlex\", \"FlexTrac\", \"FlexShift Automatic\",\n",
    "    \"ProShift Automatic\", \"SuperShift\", \"ShiftMatic\", \"ShiftX\", \"AutoMatic Transmission\",\n",
    "    \"RoboMatic\", \"AutoGearbox\", \"SpeedBox\", \"GearBox Automatic\", \"TracShift\",\n",
    "    \"Shiftmatic Automatic\", \"AutoDrive Transmission\", \"PowerShift Transmission\", \"DriveMaster\", \"ProMaster Transmission\",\n",
    "    \"AutoMaster\", \"SpeedMaster Automatic\", \"TracMaster\", \"EcoMaster\", \"ShiftMaster\",\n",
    "    \"TorqueMaster\", \"ShiftTronic\", \"FlexTronic\", \"Shiftmatic Transmission\", \"RoboDrive\",\n",
    "    \"EcoDrive Automatic\", \"ProShift Gearbox\", \"SmartTronic Automatic\", \"Speedmatic Transmission\", \"GearMatic\",\n",
    "    \"ShiftMaster Automatic\", \"TorqueMaster Transmission\", \"SpeedDrive Automatic\", \"FlexDrive Gearbox\", \"EcoMaster Transmission\",\n",
    "    \"DriveMatic\", \"ShiftDrive Automatic\", \"EcoShift Gearbox\", \"RoboShift Transmission\", \"TracShift Automatic\",\n",
    "    \"PowerShift Gearbox\", \"ProShift Transmission\", \"SmartShift Automatic\", \"TracMaster Automatic\", \"DriveShift\",\n",
    "    \"DriveShift Automatic\", \"FlexTronic Transmission\", \"RoboMatic Automatic\", \"EcoMatic Transmission\", \"Gearmatic Transmission\",\n",
    "    \"Shiftmatic Gearbox\", \"Shiftmatic Gearbox Automatic\", \"DriveMatic Transmission\", \"TorqueShift Gearbox\", \"Shiftmatic Gearbox\",\n",
    "    \"RoboMatic Gearbox\", \"EcoMatic Gearbox\", \"Gearmatic Gearbox\", \"DriveMatic Gearbox\", \"TorqueShift Gearbox\",\n",
    "    \"TracShift Gearbox\", \"FlexShift Gearbox\", \"EcoShift Gearbox\", \"AutoMatic Gearbox\", \"SmartShift Gearbox\",\n",
    "    \"ShiftTronic Gearbox\", \"FlexTronic Gearbox\", \"Shiftmatic Transmission Automatic\", \"RoboMatic Transmission Automatic\", \"EcoMatic Transmission Automatic\",\n",
    "    \"Gearmatic Transmission Automatic\", \"DriveMatic Transmission Automatic\", \"TorqueShift Transmission Automatic\", \"TracShift Transmission Automatic\", \"FlexShift Transmission Automatic\",\n",
    "    \"EcoShift Transmission Automatic\", \"AutoMatic Transmission Automatic\", \"SmartShift Transmission Automatic\", \"ShiftTronic Transmission Automatic\", \"FlexTronic Transmission Automatic\",\n",
    "    \"Shiftmatic Gearbox Automatic\", \"RoboMatic Gearbox Automatic\", \"EcoMatic Gearbox Automatic\", \"Gearmatic Gearbox Automatic\", \"DriveMatic Gearbox Automatic\",\n",
    "    \"TorqueShift Gearbox Automatic\", \"TracShift Gearbox Automatic\", \"FlexShift Gearbox Automatic\", \"EcoShift Gearbox Automatic\", \"AutoMatic Gearbox Automatic\",\n",
    "    \"SmartShift Gearbox Automatic\", \"ShiftTronic Gearbox Automatic\", \"FlexTronic Gearbox Automatic\", \"Shiftmatic Gearbox Transmission\", \"RoboMatic Gearbox Transmission\",\n",
    "    \"EcoMatic Gearbox Transmission\", \"Gearmatic Gearbox Transmission\", \"DriveMatic Gearbox Transmission\", \"TorqueShift Gearbox Transmission\", \"TracShift Gearbox Transmission\",\n",
    "    \"FlexShift Gearbox Transmission\", \"EcoShift Gearbox Transmission\", \"AutoMatic Gearbox Transmission\", \"SmartShift Gearbox Transmission\", \"ShiftTronic Gearbox Transmission\",\n",
    "    \"FlexTronic Gearbox Transmission\", \"Shiftmatic Transmission Gearbox\", \"RoboMatic Transmission Gearbox\", \"EcoMatic Transmission Gearbox\", \"Gearmatic Transmission Gearbox\",\n",
    "    \"DriveMatic Transmission Gearbox\", \"TorqueShift Transmission Gearbox\", \"TracShift Transmission Gearbox\", \"FlexShift Transmission Gearbox\", \"EcoShift Transmission Gearbox\",\n",
    "    \"AutoMatic Transmission Gearbox\", \"SmartShift Transmission Gearbox\", \"ShiftTronic Transmission Gearbox\", \"FlexTronic Transmission Gearbox\",\n",
    "    \"Automatic\", \"Auto Transmission\", \"Manual\", \"Stick Shift\", \"Manual Transmission\",\n",
    "    \"Semi-Automatic\", \"Semi-Auto\", \"Continuously Variable Transmission (CVT)\", \"CVT\", \"Dual-Clutch Transmission (DCT)\",\n",
    "    \"DCT\", \"Tiptronic\", \"Direct Shift Gearbox (DSG)\", \"DSG\", \"Automated Manual Transmission (AMT)\",\n",
    "    \"AMT\", \"Torque Converter\", \"Torque Converter Automatic\", \"Single-Speed Transmission\", \"Single-Speed\",\n",
    "    \"Sequential Manual\", \"Sequential Gearbox\", \"Electro-Hydraulic Manual Transmission\", \"E-Hydraulic Manual\", \"Hydrostatic Transmission\",\n",
    "    \"Hydrostatic\", \"Paddle Shift\", \"Shiftable Automatic\", \"Sport Automatic\", \"Steptronic\",\n",
    "    \"Multitronic\", \"Allison Transmission\", \"ZF Transmission\", \"Automatic Gearbox\", \"Clutchless Manual\",\n",
    "    \"Robotized Transmission\", \"AutoShift\", \"AutoStick\", \"SpeedShift\", \"Easytronic\",\n",
    "    \"i-Shift\", \"Xtronic\", \"G-Tronic\", \"Shiftronic\", \"PowerShift\",\n",
    "    \"Geartronic\", \"SMG (Sequential Manual Gearbox)\", \"Speedtronic\", \"E-gear\", \"iMT (Intelligent Manual Transmission)\",\n",
    "    \"IVT (Intelligent Variable Transmission)\", \"MCT (Multi-Clutch Technology)\", \"CVP (Continuously Variable Platform)\"\n",
    "]\n"
   ]
  },
  {
   "cell_type": "markdown",
   "id": "9d773160-6ec9-48e1-b85b-bfdf351640e9",
   "metadata": {},
   "source": [
    "### Function to extract and apply transmission from description"
   ]
  },
  {
   "cell_type": "code",
   "execution_count": 102,
   "id": "dea56286-8c9e-460b-b124-5269f22cdff4",
   "metadata": {},
   "outputs": [],
   "source": [
    "def extract_transmission(description):\n",
    "    if pd.isnull(description):\n",
    "        return np.nan\n",
    "    for transmission in car_transmissions:\n",
    "        if transmission.lower() in description.lower():\n",
    "            return transmission\n",
    "    return np.nan\n",
    "\n",
    "# Apply function to rows with null transmission but have a description\n",
    "df['transmission'] = df.apply(lambda row: extract_transmission(row['description']) if pd.isnull(row['transmission']) else row['transmission'], axis=1)"
   ]
  },
  {
   "cell_type": "markdown",
   "id": "4b9d226a-0b62-43fc-b250-85dd5687a2ed",
   "metadata": {},
   "source": [
    "### Number of rows with 'NaN' in the 'transmission' column after clean up"
   ]
  },
  {
   "cell_type": "code",
   "execution_count": 104,
   "id": "323b580d-76d3-4212-9b84-65396ec51490",
   "metadata": {},
   "outputs": [
    {
     "name": "stdout",
     "output_type": "stream",
     "text": [
      "Current nulls in 'transmission' column : 67\n"
     ]
    }
   ],
   "source": [
    "print(\"Current nulls in 'transmission' column :\", df['transmission'].isna().sum())"
   ]
  },
  {
   "cell_type": "markdown",
   "id": "3a5db465-2ef8-4d4f-850b-65791391151b",
   "metadata": {},
   "source": [
    "### Further analysis to find out why the 67 rows are not filled in "
   ]
  },
  {
   "cell_type": "code",
   "execution_count": 106,
   "id": "322e1dc9-b402-49f4-9185-8f1f3999b665",
   "metadata": {
    "scrolled": true
   },
   "outputs": [
    {
     "name": "stdout",
     "output_type": "stream",
     "text": [
      "Current nulls in 'transmission' column: 67\n",
      "Descriptions where transmission is null and description is filled:\n",
      "0        nan\n",
      "1        nan\n",
      "2        nan\n",
      "3        nan\n",
      "4        nan\n",
      "5        nan\n",
      "6        nan\n",
      "7        nan\n",
      "8        nan\n",
      "9        nan\n",
      "10       nan\n",
      "11       nan\n",
      "12       nan\n",
      "13       nan\n",
      "14       nan\n",
      "15       nan\n",
      "16       nan\n",
      "17       nan\n",
      "18       nan\n",
      "19       nan\n",
      "20       nan\n",
      "21       nan\n",
      "22       nan\n",
      "23       nan\n",
      "24       nan\n",
      "25       nan\n",
      "26       nan\n",
      "2125     nan\n",
      "2531     nan\n",
      "4903     nan\n",
      "5425     nan\n",
      "5493     nan\n",
      "6316     nan\n",
      "6317     nan\n",
      "6318     nan\n",
      "6319     nan\n",
      "6532     nan\n",
      "7316     nan\n",
      "9426     nan\n",
      "9640     nan\n",
      "11243    nan\n",
      "12038    nan\n",
      "12760    nan\n",
      "12994    nan\n",
      "14726    nan\n",
      "14880    nan\n",
      "14881    nan\n",
      "15841    nan\n",
      "17049    nan\n",
      "20694    nan\n",
      "20855    nan\n",
      "21622    nan\n",
      "22489    nan\n",
      "22510    nan\n",
      "23520    nan\n",
      "23521    nan\n",
      "23522    nan\n",
      "23523    nan\n",
      "23524    nan\n",
      "23525    nan\n",
      "25986    nan\n",
      "26141    nan\n",
      "29550    nan\n",
      "30032    nan\n",
      "30444    nan\n",
      "32711    nan\n",
      "33175    nan\n",
      "Name: description, dtype: object\n"
     ]
    }
   ],
   "source": [
    "# Display rows where transmission is NaN and description is not empty\n",
    "filtered_df = df[df['transmission'].isna() & df['description'].notna()]\n",
    "\n",
    "# Adjust pandas display options to show all rows\n",
    "pd.set_option('display.max_rows', None)  # Show all rows, or set to a specific number if needed\n",
    "\n",
    "# Print only the description column of the filtered DataFrame\n",
    "print(\"Current nulls in 'transmission' column:\", df['transmission'].isna().sum())\n",
    "print(\"Descriptions where transmission is null and description is filled:\")\n",
    "print(filtered_df['description'])"
   ]
  },
  {
   "cell_type": "markdown",
   "id": "5c466b7c-bd28-4e6c-819a-29496fb4bb71",
   "metadata": {},
   "source": [
    "## # 7. VIN "
   ]
  },
  {
   "cell_type": "markdown",
   "id": "84fe5731-818e-467c-82c0-895097666c7b",
   "metadata": {},
   "source": [
    "### Number of rows with 'NaN' in the 'VIN' column "
   ]
  },
  {
   "cell_type": "code",
   "execution_count": 109,
   "id": "74005197-174e-459d-9b3a-c1cb99983728",
   "metadata": {},
   "outputs": [
    {
     "name": "stdout",
     "output_type": "stream",
     "text": [
      "Current nulls in 'VIN' column : 28770\n"
     ]
    }
   ],
   "source": [
    "print(\"Current nulls in 'VIN' column :\", df['VIN'].isna().sum())"
   ]
  },
  {
   "cell_type": "markdown",
   "id": "583ab0ac-66b8-4311-a403-56e4ca3a3f79",
   "metadata": {},
   "source": [
    "### Function to extract and apply VIN from description"
   ]
  },
  {
   "cell_type": "code",
   "execution_count": 111,
   "id": "6adc056f-d53c-4362-9fa2-ff44f295ad5e",
   "metadata": {},
   "outputs": [],
   "source": [
    "def extract_vin(description):\n",
    "    vin_pattern = r'\\b[A-HJ-NPR-Z0-9]{17}\\b'\n",
    "    match = re.search(vin_pattern, description)\n",
    "    return match.group(0) if match else None\n"
   ]
  },
  {
   "cell_type": "code",
   "execution_count": 112,
   "id": "dafb1e68-ff41-4f6a-9ad9-a0f2233387fb",
   "metadata": {},
   "outputs": [],
   "source": [
    "### Applying function to rows with null transmission but have a description"
   ]
  },
  {
   "cell_type": "code",
   "execution_count": 113,
   "id": "808a60f4-b573-4603-aafa-0a70e532cb1a",
   "metadata": {},
   "outputs": [],
   "source": [
    "df['VIN'] = df.apply(lambda row: extract_transmission(row['description']) if pd.isnull(row['VIN']) else row['VIN'], axis=1)"
   ]
  },
  {
   "cell_type": "markdown",
   "id": "9c6df481-690b-4e49-8906-a8e4e7f4a8ae",
   "metadata": {},
   "source": [
    "### Number of rows with 'NaN' in the 'VIN' column after cleaning"
   ]
  },
  {
   "cell_type": "code",
   "execution_count": 115,
   "id": "899f33ba-1908-4c1d-abac-cb813435a4ec",
   "metadata": {},
   "outputs": [
    {
     "name": "stdout",
     "output_type": "stream",
     "text": [
      "Current nulls in 'VIN' column : 23463\n"
     ]
    }
   ],
   "source": [
    "print(\"Current nulls in 'VIN' column :\", df['VIN'].isna().sum())"
   ]
  },
  {
   "cell_type": "markdown",
   "id": "91f38804-2614-4bdc-96e5-b08d7487c2b9",
   "metadata": {},
   "source": [
    "## # 8. Drive"
   ]
  },
  {
   "cell_type": "markdown",
   "id": "6fe352b4-4302-4879-bc08-0726dc58222a",
   "metadata": {},
   "source": [
    "### Number of rows with 'NaN' in the 'drive' column before cleaning"
   ]
  },
  {
   "cell_type": "code",
   "execution_count": 118,
   "id": "705051ce-443a-4af4-8ef6-933317949663",
   "metadata": {},
   "outputs": [
    {
     "name": "stdout",
     "output_type": "stream",
     "text": [
      "Current nulls in 'drive' column : 12893\n"
     ]
    }
   ],
   "source": [
    "print(\"Current nulls in 'drive' column :\", df['drive'].isna().sum())"
   ]
  },
  {
   "cell_type": "markdown",
   "id": "6e4db349-235f-4a46-992e-937a7d7aabbf",
   "metadata": {},
   "source": [
    "### Drive patterns list to help with extracting"
   ]
  },
  {
   "cell_type": "code",
   "execution_count": 120,
   "id": "77276744-b94f-4a2d-9f9c-9108798d806d",
   "metadata": {},
   "outputs": [],
   "source": [
    "drive_patterns = [\n",
    "    r'\\bAll-Wheel Drive\\b', r'\\bFront-Wheel Drive\\b', r'\\bRear-Wheel Drive\\b', r'\\bFour-Wheel Drive\\b',\n",
    "    r'\\b4WD\\b', r'\\bAWD\\b', r'\\bPart-Time 4WD\\b', r'\\bFull-Time 4WD\\b', r'\\bFull-Time All-Wheel Drive\\b',\n",
    "    r'\\bPart-Time All-Wheel Drive\\b', r'\\bManual Locking Hubs\\b', r'\\bAutomatic Locking Hubs\\b', r'\\bDrive-by-Wire\\b',\n",
    "    r'\\bHydraulic Drive\\b', r'\\bElectric Drive\\b', r'\\bFront Drive\\b', r'\\bRear Drive\\b', r'\\bDrive Mode Selector\\b',\n",
    "    r'\\bSelectable Drive\\b', r'\\bActive Drive\\b', r'\\bDynamic Drive\\b', r'\\bIntelligent Drive\\b', r'\\bTorque-On-Demand\\b',\n",
    "    r'\\bSmart Drive\\b', r'\\bE-Drive\\b', r'\\bEco Drive\\b', r'\\bPerformance Drive\\b', r'\\bVariable Drive\\b', r'\\bPower Drive\\b',\n",
    "    r'\\bPart-Time 4WD\\b', r'\\bFull-Time 4WD\\b', r'\\bAuto Locking Hubs\\b', r'\\bManual Locking Hubs\\b', r'\\bFour-Wheel Drive\\b',\n",
    "    r'\\bVariable Torque Distribution\\b', r'\\bTorque Vectoring\\b', r'\\bActive Torque Management\\b', r'\\bPower Distribution\\b',\n",
    "    r'\\bShift-on-the-Fly\\b', r'\\bTorque Split\\b', r'\\bDynamic Torque Control\\b', r'\\bAdaptive Torque\\b',\n",
    "    r'\\bSpeed-Sensitive Steering\\b', r'\\bFull-Time All-Wheel Drive\\b', r'\\bIntelligent All-Wheel Drive\\b',\n",
    "    r'\\bTraction Control\\b', r'\\bLocking Differential\\b', r'\\bLimited-Slip Differential\\b', r'\\bElectronic Differential Lock\\b',\n",
    "    r'\\bAuto-Locking Differential\\b', r'\\bElectronic Traction Control\\b', r'\\bTraction Management\\b',\n",
    "    r'\\bTorque Distribution\\b', r'\\bVariable Torque Distribution\\b', r'\\bElectronic Torque Control\\b',\n",
    "    r'\\bAutoTorque\\b', r'\\bShiftable Drive\\b', r'\\bSelective Drive\\b', r'\\bAutomatic Torque Management\\b',\n",
    "    r'\\bSelectable All-Wheel Drive\\b', r'\\bSelectShift\\b', r'\\bSport Shift\\b', r'\\bAutomatic Drive Mode\\b',\n",
    "    r'\\bTorque Modulation\\b', r'\\bTorque Management System\\b', r'\\bSmart Torque\\b', r'\\bDrive Torque\\b',\n",
    "    r'\\bAdvanced Torque Control\\b', r'\\bElectronic Power Distribution\\b', r'\\bPower Transfer\\b',\n",
    "    r'\\bPower On-Demand\\b', r'\\bDrive System\\b', r'\\bPower Split\\b', r'\\bAdvanced All-Wheel Drive\\b',\n",
    "    r'\\bPowertrain\\b', r'\\bMulti-Mode Drive\\b', r'\\bEnhanced Drive\\b', r'\\bVariable Drive System\\b',\n",
    "    r'\\bIntegrated Drive\\b', r'\\bSmart Torque Distribution\\b', r'\\bTorque Management System\\b',\n",
    "    r'\\bDrive Dynamics\\b', r'\\bElectronic Drive Control\\b', r'\\bDrive Control System\\b', r'\\bActive Power Distribution\\b',\n",
    "    r'\\bDynamic Torque Control\\b', r'\\bEnhanced Traction Control\\b', r'\\bPower Distribution System\\b',\n",
    "    r'\\bAll-Terrain Drive\\b', r'\\bOff-Road Drive\\b', r'\\bPower-On-Demand\\b', r'\\bDrive-by-Wire Technology\\b',\n",
    "    r'\\bVariable Speed Drive\\b', r'\\bAdaptive Torque Control\\b', r'\\bAll-Wheel Traction\\b', r'\\bTorque Split System\\b',\n",
    "    r'\\bEnhanced Torque Distribution\\b', r'\\bIntelligent Torque Management\\b', r'\\bElectronic Power Distribution\\b',\n",
    "    r'\\bActive All-Wheel Drive\\b', r'\\bDynamic Drive Control\\b', r'\\bElectronic Drive Mode\\b', r'\\bSelectable Drive Modes\\b',\n",
    "    r'\\bShift-By-Wire\\b', r'\\bAdvanced Torque Management\\b', r'\\bPower Distribution Control\\b', r'\\bDrive Performance\\b',\n",
    "    r'\\bSelectable Torque Distribution\\b', r'\\bSmart Drive Control\\b', r'\\bDynamic Torque Distribution\\b',\n",
    "    r'\\bVariable Torque Management\\b', r'\\bAdvanced Drive Mode\\b', r'\\bTraction Management System\\b', r'\\bDrive Mode Management\\b',\n",
    "    r'\\bTorque Distribution Control\\b', r'\\bPower Mode Selector\\b', r'\\bAutomatic Torque Split\\b', r'\\bIntelligent Drive System\\b',\n",
    "    r'\\bElectronic Torque Management\\b', r'\\bShiftable Torque Distribution\\b', r'\\bAdaptive Drive Control\\b',\n",
    "    r'\\bDrive Selector\\b', r'\\bTorque Management Control\\b', r'\\bVariable Drive Modes\\b', r'\\bActive Torque Distribution\\b',\n",
    "    r'\\bDrive Mode Control\\b', r'\\bEnhanced Torque Control\\b', r'\\bPower Mode Selector\\b', r'\\bDynamic Drive System\\b',\n",
    "    r'\\bSelectable Torque Control\\b', r'\\bAdvanced Drive Modes\\b', r'\\bSmart Torque Distribution\\b', r'\\bActive Torque Management\\b',\n",
    "    r'\\bElectronic Drive Mode Control\\b', r'\\bAutomatic Drive Modes\\b', r'\\bAdvanced Traction Control\\b',\n",
    "    r'\\bPower Distribution Modes\\b', r'\\bIntelligent Drive Management\\b', r'\\bAdaptive Torque Distribution\\b',\n",
    "    r'\\bTorque Management Modes\\b', r'\\bVariable Power Distribution\\b', r'\\bSelectable Torque Modes\\b', r'\\bSmart Drive Modes\\b',\n",
    "    r'\\bDrive Mode Selector\\b', r'\\bDrive Management System\\b', r'\\bTorque Distribution Management\\b',\n",
    "    r'\\bPower Distribution Control\\b', r'\\bAdvanced Drive Control\\b', r'\\bVariable Drive Management\\b', r'\\bDynamic Drive Management\\b',\n",
    "    r'\\bTorque Split Management\\b', r'\\bElectronic Drive Management\\b', r'\\bDrive Mode Selector System\\b',\n",
    "    r'\\bVariable Torque Modes\\b', r'\\bAdaptive Drive Management\\b', r'\\bIntelligent Torque Distribution\\b',\n",
    "    r'\\bDynamic Power Distribution\\b', r'\\bEnhanced Drive Modes\\b', r'\\bAdvanced Torque Distribution\\b', r'\\bSmart Torque Management\\b',\n",
    "    r'\\bElectronic Torque Distribution\\b', r'\\bAutomatic Drive Management\\b', r'\\bDrive Performance Control\\b',\n",
    "    r'\\bIntelligent Drive Management System\\b', r'\\bDynamic Torque Management\\b', r'\\bAdvanced Drive Modes Management\\b',\n",
    "    r'\\bAdaptive Drive Management System\\b', r'\\bVariable Drive Performance\\b', r'\\bDrive Mode Selector Control\\b',\n",
    "    r'\\bSmart Torque Distribution System\\b', r'\\bAdvanced Drive Mode Selector\\b', r'\\bVariable Torque Management System\\b',\n",
    "    r'\\bDynamic Drive Control System\\b', r'\\bElectronic Drive Control System\\b', r'\\bAdaptive Drive Control System\\b',\n",
    "    r'\\bTorque Management Control System\\b', r'\\bVariable Drive Mode Selector\\b', r'\\bDynamic Torque Distribution System\\b',\n",
    "    r'\\bSmart Drive Management\\b', r'\\bDrive Mode Performance Control\\b', r'\\bVariable Drive Mode Selector System\\b',\n",
    "    r'\\bAdvanced Drive Performance Control\\b', r'\\bElectronic Drive Performance Management\\b', r'\\bAdaptive Torque Management System\\b',\n",
    "    r'\\bIntelligent Drive Control\\b', r'\\bVariable Drive Modes Control\\b', r'\\bDynamic Drive Management System\\b',\n",
    "    r'\\bElectronic Torque Management System\\b', r'\\bAdvanced Drive Mode Management System\\b', r'\\bSmart Drive Performance Control\\b',\n",
    "    r'\\bVariable Drive Mode Performance Control\\b', r'\\bDrive Mode Control System\\b', r'\\bAdaptive Drive Performance Management\\b',\n",
    "    r'\\bAdvanced Drive Management System\\b', r'\\bIntelligent Torque Management System\\b', r'\\bSmart Drive Control System\\b',\n",
    "    r'\\bDynamic Drive Performance Management\\b', r'\\bVariable Drive Performance Management System\\b',\n",
    "    r'\\bAdvanced Torque Management System\\b', r'\\bElectronic Drive Mode Management System\\b', r'\\bAdaptive Drive Performance Management System\\b',\n",
    "    r'\\bSmart Drive Management System\\b', r'\\bIntelligent Drive Performance Control\\b', r'\\bDynamic Drive Management System\\b',\n",
    "    r'\\bVariable Drive Mode Management System\\b', r'\\bElectronic Torque Performance Management System\\b',\n",
    "    r'\\bSmart Drive Mode Performance Control\\b', r'\\bAdaptive Drive Mode Performance Management System\\b', r'\\bIntelligent Drive Mode Management System\\b',\n",
    "    r'\\bElectronic Drive Performance Management System\\b', r'\\bAdvanced Drive Mode Management System\\b', r'\\bVariable Drive Management System\\b',\n",
    "    r'\\bDynamic Torque Performance Management System\\b', r'\\bIntelligent Drive Performance Management System\\b',\n",
    "    r'\\bElectronic Drive Mode Performance Control\\b', r'\\bAdvanced Drive Performance Management System\\b',\n",
    "    r'\\bVariable Drive Mode Performance Management System\\b', r'\\bDynamic Torque Management System\\b', r'\\bSmart Drive Management System\\b',\n",
    "    r'\\bAdaptive Drive Performance Management System\\b', r'\\bIntelligent Drive Management System\\b', r'\\bElectronic Torque Performance Control\\b',\n",
    "    r'\\bAdvanced Drive Mode Performance Management System\\b', r'\\bDynamic Drive Performance Management System\\b',\n",
    "    r'\\bVariable Drive Performance Management System\\b', r'\\bSmart Torque Management System\\b', r'\\bAdaptive Drive Mode Management System\\b',\n",
    "    r'\\bIntelligent Drive Mode Management\\b'\n",
    "]"
   ]
  },
  {
   "cell_type": "markdown",
   "id": "bdb40e12-0bdb-45a7-8e39-efb72cac7fb8",
   "metadata": {},
   "source": [
    "### Function to extract and apply 'drive' from description"
   ]
  },
  {
   "cell_type": "code",
   "execution_count": 122,
   "id": "a9f7d40b-f3d8-4290-bb56-f44a135ab069",
   "metadata": {},
   "outputs": [],
   "source": [
    "def extract_drive(description):\n",
    "    for pattern in drive_patterns:\n",
    "        if re.search(pattern, description, re.IGNORECASE):\n",
    "            return re.search(pattern, description, re.IGNORECASE).group()\n",
    "    return None"
   ]
  },
  {
   "cell_type": "code",
   "execution_count": 123,
   "id": "d4c97011-5d58-484f-9ff8-c4a28a1c0128",
   "metadata": {},
   "outputs": [],
   "source": [
    "df.loc[df['drive'].isna(), 'drive'] = df.loc[df['drive'].isna(), 'description'].apply(extract_drive)\n"
   ]
  },
  {
   "cell_type": "markdown",
   "id": "de9a49b1-6d05-415e-ad05-a685f4342788",
   "metadata": {},
   "source": [
    "### Number of rows with 'NaN' in the 'drive' column after cleaning"
   ]
  },
  {
   "cell_type": "code",
   "execution_count": 125,
   "id": "6cc90663-d872-4bcf-a019-4c078f3c08df",
   "metadata": {},
   "outputs": [
    {
     "name": "stdout",
     "output_type": "stream",
     "text": [
      "Current nulls in 'drive' column : 11923\n"
     ]
    }
   ],
   "source": [
    "print(\"Current nulls in 'drive' column :\", df['drive'].isna().sum())"
   ]
  },
  {
   "cell_type": "markdown",
   "id": "337ea7cb-21a8-40ae-a96e-d26167f5c7a9",
   "metadata": {},
   "source": [
    "## # 9. Size"
   ]
  },
  {
   "cell_type": "code",
   "execution_count": 127,
   "id": "cfd4d4c0-dc15-4500-a113-a68aaf2c4729",
   "metadata": {
    "scrolled": true
   },
   "outputs": [
    {
     "data": {
      "text/plain": [
       "0           NaN\n",
       "1           NaN\n",
       "2           NaN\n",
       "3           NaN\n",
       "4           NaN\n",
       "5           NaN\n",
       "6           NaN\n",
       "7           NaN\n",
       "8           NaN\n",
       "9           NaN\n",
       "10          NaN\n",
       "11          NaN\n",
       "12          NaN\n",
       "13          NaN\n",
       "14          NaN\n",
       "15          NaN\n",
       "16          NaN\n",
       "17          NaN\n",
       "18          NaN\n",
       "19          NaN\n",
       "20          NaN\n",
       "21          NaN\n",
       "22          NaN\n",
       "23          NaN\n",
       "24          NaN\n",
       "25          NaN\n",
       "26          NaN\n",
       "27    full-size\n",
       "28    full-size\n",
       "29    full-size\n",
       "30      compact\n",
       "31      compact\n",
       "32          NaN\n",
       "33          NaN\n",
       "34          NaN\n",
       "35          NaN\n",
       "36     mid-size\n",
       "37    full-size\n",
       "38          NaN\n",
       "39    full-size\n",
       "40    full-size\n",
       "41          NaN\n",
       "42          NaN\n",
       "43          NaN\n",
       "44          NaN\n",
       "45          NaN\n",
       "46          NaN\n",
       "47    full-size\n",
       "48    full-size\n",
       "49     mid-size\n",
       "50     mid-size\n",
       "51    full-size\n",
       "52          NaN\n",
       "53     mid-size\n",
       "54    full-size\n",
       "55          NaN\n",
       "56          NaN\n",
       "57    full-size\n",
       "58          NaN\n",
       "59          NaN\n",
       "Name: size, dtype: object"
      ]
     },
     "execution_count": 127,
     "metadata": {},
     "output_type": "execute_result"
    }
   ],
   "source": [
    "pd.set_option('display.max_colwidth', None)\n",
    "df['size'].head(60)"
   ]
  },
  {
   "cell_type": "markdown",
   "id": "1ce9a9c4-0106-4e2d-8dbc-ce76cab6009b",
   "metadata": {},
   "source": [
    "### Identifying distinct categories"
   ]
  },
  {
   "cell_type": "code",
   "execution_count": 129,
   "id": "0814ab18-c26d-4927-a072-c73e924c4199",
   "metadata": {},
   "outputs": [
    {
     "name": "stdout",
     "output_type": "stream",
     "text": [
      "[nan 'full-size' 'compact' 'mid-size' 'sub-compact']\n"
     ]
    }
   ],
   "source": [
    "df['size'] = df['size'].str.lower()\n",
    "unique_transmission_values = df['size'].unique()\n",
    "print(unique_transmission_values)"
   ]
  },
  {
   "cell_type": "markdown",
   "id": "d30682b1-b220-4b35-b14b-c3899feacc62",
   "metadata": {},
   "source": [
    "### Number of rows with 'NaN' in the 'size' column before cleaning"
   ]
  },
  {
   "cell_type": "code",
   "execution_count": 131,
   "id": "3ae86361-a75a-46a7-89a8-861603d74c0b",
   "metadata": {},
   "outputs": [
    {
     "name": "stdout",
     "output_type": "stream",
     "text": [
      "Current nulls in 'size' column : 18453\n"
     ]
    }
   ],
   "source": [
    "print(\"Current nulls in 'size' column :\", df['size'].isna().sum())"
   ]
  },
  {
   "cell_type": "markdown",
   "id": "fd03311b-564c-40fc-9eb3-07f25506f230",
   "metadata": {},
   "source": [
    "### List of size patterns"
   ]
  },
  {
   "cell_type": "code",
   "execution_count": 133,
   "id": "659bf5be-a988-467d-baae-7b317e68a185",
   "metadata": {},
   "outputs": [],
   "source": [
    "size_patterns = [\n",
    "    r'\\bFull-Size\\b', r'\\bCompact\\b', r'\\bMid-Size\\b', r'\\bSub-Compact\\b', r'\\bMini\\b', r'\\bLarge\\b',\n",
    "    r'\\bIntermediate\\b', r'\\bSuper-Sized\\b', r'\\bExtended\\b', r'\\bStandard\\b', r'\\bEconomy\\b', r'\\bLuxury\\b',\n",
    "    r'\\bPremium\\b', r'\\bOversized\\b', r'\\bCity\\b', r'\\bRegular\\b', r'\\bSmall\\b', r'\\bMedium\\b', r'\\bJumbo\\b',\n",
    "    r'\\bHuge\\b', r'\\bTiny\\b', r'\\bExtra Large\\b', r'\\bExtra Small\\b', r'\\bLarge SUV\\b', r'\\bSmall SUV\\b',\n",
    "    r'\\bMid-SUV\\b', r'\\bFull-Sized SUV\\b', r'\\bCompact SUV\\b', r'\\bSuper Compact\\b', r'\\bLarge Sedan\\b',\n",
    "    r'\\bMid-Size Sedan\\b', r'\\bSmall Sedan\\b', r'\\bSubcompact Sedan\\b', r'\\bFull-Size Truck\\b', r'\\bMid-Size Truck\\b',\n",
    "    r'\\bSmall Truck\\b', r'\\bHeavy Duty Truck\\b', r'\\bLight Duty Truck\\b', r'\\bSuper Heavy Duty\\b', r'\\bUltra Compact\\b',\n",
    "    r'\\bExtended Cab\\b', r'\\bRegular Cab\\b', r'\\bCrew Cab\\b', r'\\bLong Bed\\b', r'\\bShort Bed\\b', r'\\bSuper Crew\\b',\n",
    "    r'\\bMega Cab\\b', r'\\bUtility Vehicle\\b', r'\\bSport Utility Vehicle\\b', r'\\bMicrocar\\b', r'\\bEconomy Car\\b',\n",
    "    r'\\bLuxury Car\\b', r'\\bPremium Car\\b', r'\\bSuburban\\b', r'\\bUrban\\b', r'\\bCompact Car\\b', r'\\bSedan\\b',\n",
    "    r'\\bCoupe\\b', r'\\bConvertible\\b', r'\\bHatchback\\b', r'\\bWagon\\b', r'\\bVan\\b', r'\\bMinivan\\b',\n",
    "    r'\\bFull-Size Van\\b', r'\\bExtended Van\\b', r'\\bShort Van\\b', r'\\bCompact Van\\b', r'\\bLuxury Van\\b',\n",
    "    r'\\bPremium Van\\b', r'\\bHeavy Van\\b', r'\\bLight Van\\b', r'\\bBig Rig\\b', r'\\bSuper Truck\\b', r'\\bHeavy Truck\\b',\n",
    "    r'\\bSmall Pickup\\b', r'\\bFull Pickup\\b', r'\\bCompact Pickup\\b', r'\\bLuxury Pickup\\b', r'\\bSport Pickup\\b',\n",
    "    r'\\bUtility Pickup\\b', r'\\bMini Truck\\b', r'\\bMega Truck\\b', r'\\bSuper SUV\\b', r'\\bUltra SUV\\b', r'\\bFull SUV\\b',\n",
    "    r'\\bCompact Crossover\\b', r'\\bSubcompact Crossover\\b', r'\\bMid-Sized Crossover\\b', r'\\bFull-Sized Crossover\\b',\n",
    "    r'\\bCompact Coupe\\b', r'\\bMid-Size Coupe\\b', r'\\bFull-Size Coupe\\b', r'\\bCompact Convertible\\b',\n",
    "    r'\\bMid-Size Convertible\\b', r'\\bFull-Size Convertible\\b', r'\\bLuxury Convertible\\b', r'\\bPremium Convertible\\b',\n",
    "    r'\\bEconomy Coupe\\b', r'\\bLuxury Coupe\\b', r'\\bSport Coupe\\b', r'\\bCompact Wagon\\b', r'\\bMid-Size Wagon\\b',\n",
    "    r'\\bFull-Size Wagon\\b', r'\\bLuxury Wagon\\b', r'\\bPremium Wagon\\b', r'\\bStandard Wagon\\b', r'\\bEconomy Wagon\\b',\n",
    "    r'\\bCompact Minivan\\b', r'\\bMid-Size Minivan\\b', r'\\bFull-Size Minivan\\b', r'\\bLuxury Minivan\\b',\n",
    "    r'\\bPremium Minivan\\b', r'\\bSubcompact SUV\\b', r'\\bMini SUV\\b', r'\\bLarge SUV\\b', r'\\bMid-Size SUV\\b',\n",
    "    r'\\bFull-Size SUV\\b', r'\\bSuper SUV\\b', r'\\bLuxury SUV\\b', r'\\bPremium SUV\\b', r'\\bHeavy Duty SUV\\b',\n",
    "    r'\\bLight Duty SUV\\b', r'\\bRegular Duty SUV\\b', r'\\bCompact SUV\\b', r'\\bLarge Pickup\\b', r'\\bMid-Size Pickup\\b',\n",
    "    r'\\bSmall Pickup\\b', r'\\bUtility Pickup\\b', r'\\bHeavy Pickup\\b', r'\\bLight Pickup\\b', r'\\bStandard Pickup\\b',\n",
    "    r'\\bMini Pickup\\b', r'\\bFull-Size Car\\b', r'\\bMid-Size Car\\b', r'\\bSmall Car\\b', r'\\bLarge Car\\b',\n",
    "    r'\\bEconomy Car\\b', r'\\bLuxury Car\\b', r'\\bPremium Car\\b', r'\\bSubcompact Car\\b', r'\\bCompact Car\\b',\n",
    "    r'\\bFull-Size Truck\\b', r'\\bMid-Size Truck\\b', r'\\bSmall Truck\\b', r'\\bHeavy Duty Truck\\b', r'\\bLight Duty Truck\\b',\n",
    "    r'\\bUtility Truck\\b', r'\\bService Truck\\b', r'\\bRecreational Vehicle\\b', r'\\bMotorhome\\b', r'\\bCamper\\b',\n",
    "    r'\\bTravel Trailer\\b', r'\\bFifth Wheel\\b', r'\\bToy Hauler\\b', r'\\bHorse Trailer\\b', r'\\bCaravan\\b',\n",
    "    r'\\bPop-Up Trailer\\b', r'\\bPark Model\\b', r'\\bTent Camper\\b', r'\\bVan Conversion\\b', r'\\bBus\\b',\n",
    "    r'\\bMini Bus\\b', r'\\bSchool Bus\\b', r'\\bTour Bus\\b', r'\\bCharter Bus\\b', r'\\bLimousine\\b', r'\\bStretch Limousine\\b',\n",
    "    r'\\bParty Bus\\b', r'\\bExecutive Bus\\b', r'\\bPassenger Van\\b', r'\\bCargo Van\\b', r'\\bDelivery Van\\b',\n",
    "    r'\\bWork Van\\b', r'\\bService Van\\b', r'\\bUtility Van\\b', r'\\bMini Truck\\b', r'\\bMicro Truck\\b',\n",
    "    r'\\bStandard Truck\\b', r'\\bSuper Truck\\b', r'\\bHeavy Duty Truck\\b', r'\\bLight Duty Truck\\b'\n",
    "]\n"
   ]
  },
  {
   "cell_type": "markdown",
   "id": "4b608f5b-8f24-4c27-8d4d-abf89ac10edf",
   "metadata": {},
   "source": [
    "### Functions to extract and update 'size'"
   ]
  },
  {
   "cell_type": "code",
   "execution_count": 135,
   "id": "ab743d19-d74b-4fef-9689-24fda6fdb8eb",
   "metadata": {},
   "outputs": [],
   "source": [
    "def extract_size(description):\n",
    "    for pattern in size_patterns:\n",
    "        match = re.search(pattern, description, re.IGNORECASE)\n",
    "        if match:\n",
    "            return match.group(0)\n",
    "    return None\n",
    "\n",
    "def update_size(row):\n",
    "    if pd.isna(row['size']):\n",
    "        return extract_size(row['description'])\n",
    "    return row['size']\n",
    "\n",
    "# Update the size column where it is NaN\n",
    "df['size'] = df.apply(update_size, axis=1)"
   ]
  },
  {
   "cell_type": "markdown",
   "id": "43177e11-e699-42a6-ad17-d1e51b53c353",
   "metadata": {},
   "source": [
    "### Number of rows with 'NaN' in the 'size' column after cleaning"
   ]
  },
  {
   "cell_type": "code",
   "execution_count": 137,
   "id": "fd7b1262-09e3-4b6e-aca9-9498956ca76c",
   "metadata": {},
   "outputs": [
    {
     "name": "stdout",
     "output_type": "stream",
     "text": [
      "Current nulls in 'size' column : 14420\n"
     ]
    }
   ],
   "source": [
    "print(\"Current nulls in 'size' column :\", df['size'].isna().sum())"
   ]
  },
  {
   "cell_type": "markdown",
   "id": "64a1523a-795e-4b6b-99c4-b54e316f7051",
   "metadata": {},
   "source": [
    "## # 10. Type"
   ]
  },
  {
   "cell_type": "markdown",
   "id": "522c7a93-05b6-40e1-bcd8-35b2df8acd98",
   "metadata": {},
   "source": [
    "### Number of rows with 'NaN' in the 'type' column before cleaning"
   ]
  },
  {
   "cell_type": "code",
   "execution_count": 140,
   "id": "e9243ff2-c41d-4852-86f1-9ad52b774ea9",
   "metadata": {},
   "outputs": [
    {
     "name": "stdout",
     "output_type": "stream",
     "text": [
      "Current nulls in 'type'column : 14125\n"
     ]
    }
   ],
   "source": [
    "print(\"Current nulls in 'type'column :\", df['type'].isna().sum())"
   ]
  },
  {
   "cell_type": "markdown",
   "id": "eeb449f3-0813-4466-849f-45e52bd56a7f",
   "metadata": {},
   "source": [
    "### Displaying the first 60 entries of the 'type' column"
   ]
  },
  {
   "cell_type": "code",
   "execution_count": 142,
   "id": "eb187feb-6b59-40bd-840d-3ff6049fc961",
   "metadata": {
    "scrolled": true
   },
   "outputs": [
    {
     "data": {
      "text/plain": [
       "0             NaN\n",
       "1             NaN\n",
       "2             NaN\n",
       "3             NaN\n",
       "4             NaN\n",
       "5             NaN\n",
       "6             NaN\n",
       "7             NaN\n",
       "8             NaN\n",
       "9             NaN\n",
       "10            NaN\n",
       "11            NaN\n",
       "12            NaN\n",
       "13            NaN\n",
       "14            NaN\n",
       "15            NaN\n",
       "16            NaN\n",
       "17            NaN\n",
       "18            NaN\n",
       "19            NaN\n",
       "20            NaN\n",
       "21            NaN\n",
       "22            NaN\n",
       "23            NaN\n",
       "24            NaN\n",
       "25            NaN\n",
       "26            NaN\n",
       "27          truck\n",
       "28        offroad\n",
       "29         pickup\n",
       "30          sedan\n",
       "31    convertible\n",
       "32            NaN\n",
       "33            NaN\n",
       "34            NaN\n",
       "35            NaN\n",
       "36            SUV\n",
       "37          truck\n",
       "38            NaN\n",
       "39          truck\n",
       "40        offroad\n",
       "41            NaN\n",
       "42            NaN\n",
       "43            van\n",
       "44            NaN\n",
       "45            NaN\n",
       "46            NaN\n",
       "47            SUV\n",
       "48          truck\n",
       "49          sedan\n",
       "50          sedan\n",
       "51          truck\n",
       "52            NaN\n",
       "53            SUV\n",
       "54          truck\n",
       "55            NaN\n",
       "56          sedan\n",
       "57          sedan\n",
       "58            NaN\n",
       "59            NaN\n",
       "Name: type, dtype: object"
      ]
     },
     "execution_count": 142,
     "metadata": {},
     "output_type": "execute_result"
    }
   ],
   "source": [
    "df['type'].head(60)"
   ]
  },
  {
   "cell_type": "code",
   "execution_count": null,
   "id": "2b379c2f-5991-41e9-b721-abff89dbd035",
   "metadata": {},
   "outputs": [],
   "source": []
  },
  {
   "cell_type": "code",
   "execution_count": 143,
   "id": "06768fea-8102-487b-b25d-66de0574c73a",
   "metadata": {},
   "outputs": [
    {
     "name": "stdout",
     "output_type": "stream",
     "text": [
      "[nan 'truck' 'offroad' 'pickup' 'sedan' 'convertible' 'suv' 'van' 'coupe'\n",
      " 'hatchback' 'mini-van' 'other' 'wagon' 'bus']\n"
     ]
    }
   ],
   "source": [
    "df['type'] = df['type'].str.lower()\n",
    "unique_type_values = df['type'].unique()\n",
    "print(unique_type_values)"
   ]
  },
  {
   "cell_type": "markdown",
   "id": "6f49a431-4207-4159-9bb7-4d99507a1e17",
   "metadata": {},
   "source": [
    "### Number of rows with 'NaN' in the 'type' column before cleaning"
   ]
  },
  {
   "cell_type": "code",
   "execution_count": 145,
   "id": "984753f4-b4b8-4d77-9200-ab6ff8267616",
   "metadata": {},
   "outputs": [
    {
     "name": "stdout",
     "output_type": "stream",
     "text": [
      "Current nulls in 'type'column : 14125\n"
     ]
    }
   ],
   "source": [
    "print(\"Current nulls in 'type'column :\", df['type'].isna().sum())"
   ]
  },
  {
   "cell_type": "markdown",
   "id": "953eebf4-00d4-4771-b7b1-df528712afa2",
   "metadata": {},
   "source": [
    "### Function to extract and update vehicle type"
   ]
  },
  {
   "cell_type": "code",
   "execution_count": 147,
   "id": "f38bed46-f76a-4fe0-bd32-cfafeee0c67a",
   "metadata": {},
   "outputs": [],
   "source": [
    "# A list to hold the vehicle types\n",
    "type_patterns = [\n",
    "    r'\\bTruck\\b', r'\\bOffroad\\b', r'\\bPickup\\b', r'\\bSedan\\b', r'\\bConvertible\\b',\n",
    "    r'\\bSUV\\b', r'\\bVan\\b', r'\\bCoupe\\b', r'\\bHatchback\\b', r'\\bMini-Van\\b',\n",
    "    r'\\bWagon\\b', r'\\bBus\\b', r'\\bMotorcycle\\b', r'\\bMoped\\b', r'\\bATV\\b',\n",
    "    r'\\bRV\\b', r'\\bCamper\\b', r'\\bLimo\\b', r'\\bCrossover\\b', r'\\bHybrid\\b',\n",
    "    r'\\bElectric\\b', r'\\bLuxury\\b', r'\\bSports Car\\b', r'\\bMinivan\\b', r'\\bFour-Door\\b',\n",
    "    r'\\bTwo-Door\\b', r'\\bGrand Tourer\\b', r'\\bSupercar\\b', r'\\bClassic Car\\b',\n",
    "    r'\\bCompact\\b', r'\\bFull-Size\\b', r'\\bMid-Size\\b', r'\\bSub-Compact\\b',\n",
    "    r'\\bLuxury SUV\\b', r'\\bSport Utility Vehicle\\b'\n",
    "]\n",
    "\n",
    "def extract_type(description):\n",
    "    for pattern in type_patterns:\n",
    "        match = re.search(pattern, description, re.IGNORECASE)\n",
    "        if match:\n",
    "            return match.group(0)\n",
    "    return np.nan  # Return NaN if no pattern matches\n",
    "\n",
    "def update_type(row):\n",
    "    if pd.isna(row['type']):\n",
    "        return extract_type(row['description'])\n",
    "    return row['type']\n",
    "\n",
    "# Update the type column where it is NaN\n",
    "df['type'] = df.apply(update_type, axis=1)"
   ]
  },
  {
   "cell_type": "markdown",
   "id": "cf18d264-85f1-440e-9668-f2afe39d9dc5",
   "metadata": {},
   "source": [
    "### Number of rows with 'NaN' in the 'type' column after cleaning"
   ]
  },
  {
   "cell_type": "code",
   "execution_count": 149,
   "id": "79e09b29-a72a-4d84-9866-ab72c812eca6",
   "metadata": {},
   "outputs": [
    {
     "name": "stdout",
     "output_type": "stream",
     "text": [
      "Current nulls in 'type' column : 10692\n"
     ]
    }
   ],
   "source": [
    "print(\"Current nulls in 'type' column :\", df['type'].isna().sum())"
   ]
  },
  {
   "cell_type": "markdown",
   "id": "ed6b88ff-3614-45e4-ae41-967c6dde4a27",
   "metadata": {},
   "source": [
    "## # 11. County"
   ]
  },
  {
   "cell_type": "markdown",
   "id": "b2e65671-6bba-472c-8d98-1c8d786775ac",
   "metadata": {},
   "source": [
    "### Number of rows with 'NaN' in the 'county' column before cleaning"
   ]
  },
  {
   "cell_type": "code",
   "execution_count": 152,
   "id": "5cf79ea8-781b-48b7-91ed-d2591d28608a",
   "metadata": {},
   "outputs": [
    {
     "name": "stdout",
     "output_type": "stream",
     "text": [
      "Current nulls in 'county' column : 34236\n"
     ]
    }
   ],
   "source": [
    "print(\"Current nulls in 'county' column :\", df['county' ].isna().sum())"
   ]
  },
  {
   "cell_type": "markdown",
   "id": "684be90f-4ee8-42e6-8e4e-12a04250b18c",
   "metadata": {},
   "source": [
    "### Dropping the 'county' column"
   ]
  },
  {
   "cell_type": "code",
   "execution_count": 154,
   "id": "c6ed8bf9-3ead-418c-9e15-ff7700bcc133",
   "metadata": {},
   "outputs": [],
   "source": [
    "df = df.drop(columns=['county'])"
   ]
  },
  {
   "cell_type": "code",
   "execution_count": 155,
   "id": "a2d8812a-5bb1-4fdc-b368-8e2a2203b27c",
   "metadata": {
    "scrolled": true
   },
   "outputs": [
    {
     "name": "stdout",
     "output_type": "stream",
     "text": [
      "           id  \\\n",
      "0  7222695916   \n",
      "1  7218891961   \n",
      "2  7221797935   \n",
      "3  7222270760   \n",
      "4  7210384030   \n",
      "\n",
      "                                                                                            url  \\\n",
      "0               https://prescott.craigslist.org/cto/d/prescott-2010-ford-ranger/7222695916.html   \n",
      "1        https://fayar.craigslist.org/ctd/d/bentonville-2017-hyundai-elantra-se/7218891961.html   \n",
      "2               https://keys.craigslist.org/cto/d/summerland-key-2005-excursion/7221797935.html   \n",
      "3  https://worcester.craigslist.org/cto/d/west-brookfield-2002-honda-odyssey-ex/7222270760.html   \n",
      "4          https://greensboro.craigslist.org/cto/d/trinity-1965-chevrolet-truck/7210384030.html   \n",
      "\n",
      "                     region                         region_url  price year  \\\n",
      "0                  prescott    https://prescott.craigslist.org   6000  NaN   \n",
      "1              fayetteville       https://fayar.craigslist.org  11900  NaN   \n",
      "2            'florida keys'        https://keys.craigslist.org  21000  NaN   \n",
      "3  'worcester / central MA'   https://worcester.craigslist.org   1500  NaN   \n",
      "4                greensboro  https://greensboro.craigslist.org   4900  NaN   \n",
      "\n",
      "  manufacturer model condition cylinders  ... drive  size type paint_color  \\\n",
      "0         None  None       NaN       NaN  ...  None  None  NaN         NaN   \n",
      "1         None  None       NaN       NaN  ...  None  None  NaN         NaN   \n",
      "2         None  None       NaN       NaN  ...  None  None  NaN         NaN   \n",
      "3         None  None       NaN       NaN  ...  None  None  NaN         NaN   \n",
      "4         None  None       NaN       NaN  ...  None  None  NaN         NaN   \n",
      "\n",
      "  image_url description state  lat long posting_date  \n",
      "0       NaN         nan    az  NaN  NaN          NaN  \n",
      "1       NaN         nan    ar  NaN  NaN          NaN  \n",
      "2       NaN         nan    fl  NaN  NaN          NaN  \n",
      "3       NaN         nan    ma  NaN  NaN          NaN  \n",
      "4       NaN         nan    nc  NaN  NaN          NaN  \n",
      "\n",
      "[5 rows x 25 columns]\n"
     ]
    }
   ],
   "source": [
    "print(df.head())"
   ]
  },
  {
   "cell_type": "markdown",
   "id": "9a4f5ef4-05a0-4b89-9d7f-985a56644733",
   "metadata": {},
   "source": [
    "## # 12. Lat & Long"
   ]
  },
  {
   "cell_type": "code",
   "execution_count": 157,
   "id": "23147e6a-7edd-4f10-b6f9-8967dfcddf8f",
   "metadata": {
    "scrolled": true
   },
   "outputs": [
    {
     "name": "stdout",
     "output_type": "stream",
     "text": [
      "            id  \\\n",
      "0   7222695916   \n",
      "1   7218891961   \n",
      "2   7221797935   \n",
      "3   7222270760   \n",
      "4   7210384030   \n",
      "5   7222379453   \n",
      "6   7221952215   \n",
      "7   7220195662   \n",
      "8   7209064557   \n",
      "9   7219485069   \n",
      "10  7218893038   \n",
      "11  7218325704   \n",
      "12  7217788283   \n",
      "13  7217147606   \n",
      "14  7209027818   \n",
      "15  7223509794   \n",
      "16  7222753076   \n",
      "17  7222206015   \n",
      "18  7220030122   \n",
      "19  7218423006   \n",
      "20  7216672204   \n",
      "21  7215617048   \n",
      "22  7213839225   \n",
      "23  7208549803   \n",
      "24  7213843538   \n",
      "25  7212631321   \n",
      "26  7219973522   \n",
      "27  7316356412   \n",
      "28  7306407989   \n",
      "29  7305082143   \n",
      "30  7302286548   \n",
      "31  7316852517   \n",
      "32  7316673788   \n",
      "33  7316644188   \n",
      "34  7316643987   \n",
      "35  7316643810   \n",
      "36  7316471857   \n",
      "37  7316384231   \n",
      "38  7316307800   \n",
      "39  7316198338   \n",
      "40  7316170760   \n",
      "41  7316005652   \n",
      "42  7315892725   \n",
      "43  7315861135   \n",
      "44  7315832990   \n",
      "45  7315822644   \n",
      "46  7315741039   \n",
      "47  7315603628   \n",
      "48  7315345469   \n",
      "49  7315294251   \n",
      "\n",
      "                                                                                                url  \\\n",
      "0                   https://prescott.craigslist.org/cto/d/prescott-2010-ford-ranger/7222695916.html   \n",
      "1            https://fayar.craigslist.org/ctd/d/bentonville-2017-hyundai-elantra-se/7218891961.html   \n",
      "2                   https://keys.craigslist.org/cto/d/summerland-key-2005-excursion/7221797935.html   \n",
      "3      https://worcester.craigslist.org/cto/d/west-brookfield-2002-honda-odyssey-ex/7222270760.html   \n",
      "4              https://greensboro.craigslist.org/cto/d/trinity-1965-chevrolet-truck/7210384030.html   \n",
      "5                  https://hudsonvalley.craigslist.org/cto/d/westtown-2007-ford-150/7222379453.html   \n",
      "6                 https://hudsonvalley.craigslist.org/cto/d/westtown-silverado-2000/7221952215.html   \n",
      "7       https://hudsonvalley.craigslist.org/cto/d/poughquag-2015-acura-rdx-warranty/7220195662.html   \n",
      "8                 https://medford.craigslist.org/cto/d/grants-pass-two-2002-bmw-tii/7209064557.html   \n",
      "9                            https://erie.craigslist.org/cto/d/erie-2012-suzuki-sx4/7219485069.html   \n",
      "10       https://elpaso.craigslist.org/ctd/d/el-paso-2011-chevy-chevrolet-malibu-ls/7218893038.html   \n",
      "11      https://elpaso.craigslist.org/ctd/d/el-paso-2017-ford-fusion-platinum-sedan/7218325704.html   \n",
      "12             https://elpaso.craigslist.org/ctd/d/el-paso-2013-ford-focus-se-sedan/7217788283.html   \n",
      "13          https://elpaso.craigslist.org/ctd/d/el-paso-2019-toyota-4runner-limited/7217147606.html   \n",
      "14       https://elpaso.craigslist.org/ctd/d/el-paso-2012-buick-enclave-convenience/7209027818.html   \n",
      "15    https://bellingham.craigslist.org/ctd/d/bellingham-2007-mercedes-benz-slk-slk/7223509794.html   \n",
      "16  https://bellingham.craigslist.org/ctd/d/bellingham-2015-mercedes-benz-class-400/7222753076.html   \n",
      "17         https://bellingham.craigslist.org/ctd/d/bellingham-2016-bmw-x1-xdrive28i/7222206015.html   \n",
      "18         https://bellingham.craigslist.org/ctd/d/bellingham-2017-bmw-x3-xdrive28i/7220030122.html   \n",
      "19  https://bellingham.craigslist.org/ctd/d/bellingham-2011-mercedes-benz-class-300/7218423006.html   \n",
      "20  https://bellingham.craigslist.org/ctd/d/bellingham-2015-mercedes-benz-class-400/7216672204.html   \n",
      "21         https://bellingham.craigslist.org/ctd/d/bellingham-2016-bmw-x1-xdrive28i/7215617048.html   \n",
      "22         https://bellingham.craigslist.org/ctd/d/bellingham-2017-bmw-x3-xdrive28i/7213839225.html   \n",
      "23  https://bellingham.craigslist.org/ctd/d/bellingham-2011-mercedes-benz-class-300/7208549803.html   \n",
      "24      https://skagit.craigslist.org/ctd/d/bellingham-2015-mercedes-benz-class-400/7213843538.html   \n",
      "25             https://skagit.craigslist.org/ctd/d/bellingham-2016-bmw-x1-xdrive28i/7212631321.html   \n",
      "26               https://lacrosse.craigslist.org/cto/d/la-crosse-01-pontiac-sunfire/7219973522.html   \n",
      "27                   https://auburn.craigslist.org/cto/d/auburn-university-2013-150/7316356412.html   \n",
      "28            https://auburn.craigslist.org/cto/d/auburn-university-2008-fj-cruiser/7306407989.html   \n",
      "29         https://auburn.craigslist.org/cto/d/tuskegee-institute-1966-chevy-30-ton/7305082143.html   \n",
      "30                     https://auburn.craigslist.org/cto/d/notasulga-2018-acura-tlx/7302286548.html   \n",
      "31        https://bham.craigslist.org/cto/d/tuscumbia-2002-ford-thunderbird-premium/7316852517.html   \n",
      "32                              https://bham.craigslist.org/cto/d/bessemer-1997-150/7316673788.html   \n",
      "33       https://bham.craigslist.org/cto/d/birmingham-1976-chevrolet-malibu-classic/7316644188.html   \n",
      "34                   https://bham.craigslist.org/cto/d/birmingham-2003-toyota-camry/7316643987.html   \n",
      "35                  https://bham.craigslist.org/cto/d/birmingham-1969-mercedes-benz/7316643810.html   \n",
      "36                    https://bham.craigslist.org/cto/d/pell-city-2004-chevy-blazer/7316471857.html   \n",
      "37                       https://bham.craigslist.org/cto/d/montevallo-1978ford-f150/7316384231.html   \n",
      "38         https://bham.craigslist.org/ctd/d/birmingham-2017-ford-f150-4x4-crew-cab/7316307800.html   \n",
      "39          https://bham.craigslist.org/ctd/d/cullman-2017-chevrolet-silverado-2500/7316198338.html   \n",
      "40           https://bham.craigslist.org/cto/d/birmingham-1996-chevrolet-tahoe-scam/7316170760.html   \n",
      "41                https://bham.craigslist.org/cto/d/fayetteville-2011-nissan-altima/7316005652.html   \n",
      "42        https://bham.craigslist.org/ctd/d/birmingham-2018-ram-x4-crew-cab-cummins/7315892725.html   \n",
      "43               https://bham.craigslist.org/cto/d/birmingham-2013-honda-odyssey-ex/7315861135.html   \n",
      "44           https://bham.craigslist.org/ctd/d/birmingham-2015-ford-f350-xlt-diesel/7315832990.html   \n",
      "45         https://bham.craigslist.org/ctd/d/birmingham-2018-ram-1500-hemi-57l-crew/7315822644.html   \n",
      "46                      https://bham.craigslist.org/cto/d/shelby-2011-nissan-murano/7315741039.html   \n",
      "47                    https://bham.craigslist.org/cto/d/birmingham-range-rover-2006/7315603628.html   \n",
      "48                   https://bham.craigslist.org/cto/d/pelham-2019-tundra-trd-sport/7315345469.html   \n",
      "49                        https://bham.craigslist.org/cto/d/birmingham-chevy-impala/7315294251.html   \n",
      "\n",
      "                      region                           region_url  price  \\\n",
      "0                   prescott      https://prescott.craigslist.org   6000   \n",
      "1               fayetteville         https://fayar.craigslist.org  11900   \n",
      "2             'florida keys'          https://keys.craigslist.org  21000   \n",
      "3   'worcester / central MA'     https://worcester.craigslist.org   1500   \n",
      "4                 greensboro    https://greensboro.craigslist.org   4900   \n",
      "5            'hudson valley'  https://hudsonvalley.craigslist.org   1600   \n",
      "6            'hudson valley'  https://hudsonvalley.craigslist.org   1000   \n",
      "7            'hudson valley'  https://hudsonvalley.craigslist.org  15995   \n",
      "8            medford-ashland       https://medford.craigslist.org   5000   \n",
      "9                       erie          https://erie.craigslist.org   3000   \n",
      "10                 'el paso'        https://elpaso.craigslist.org      0   \n",
      "11                 'el paso'        https://elpaso.craigslist.org      0   \n",
      "12                 'el paso'        https://elpaso.craigslist.org      0   \n",
      "13                 'el paso'        https://elpaso.craigslist.org      0   \n",
      "14                 'el paso'        https://elpaso.craigslist.org      0   \n",
      "15                bellingham    https://bellingham.craigslist.org  13995   \n",
      "16                bellingham    https://bellingham.craigslist.org  24999   \n",
      "17                bellingham    https://bellingham.craigslist.org  21850   \n",
      "18                bellingham    https://bellingham.craigslist.org  26850   \n",
      "19                bellingham    https://bellingham.craigslist.org  11999   \n",
      "20                bellingham    https://bellingham.craigslist.org  24999   \n",
      "21                bellingham    https://bellingham.craigslist.org  21850   \n",
      "22                bellingham    https://bellingham.craigslist.org  26850   \n",
      "23                bellingham    https://bellingham.craigslist.org  11999   \n",
      "24   'skagit / island / SJI'        https://skagit.craigslist.org  24999   \n",
      "25   'skagit / island / SJI'        https://skagit.craigslist.org  21850   \n",
      "26               'la crosse'      https://lacrosse.craigslist.org    500   \n",
      "27                    auburn        https://auburn.craigslist.org  15000   \n",
      "28                    auburn        https://auburn.craigslist.org  17500   \n",
      "29                    auburn        https://auburn.craigslist.org   2500   \n",
      "30                    auburn        https://auburn.craigslist.org  28000   \n",
      "31                birmingham          https://bham.craigslist.org  21250   \n",
      "32                birmingham          https://bham.craigslist.org   3750   \n",
      "33                birmingham          https://bham.craigslist.org   2500   \n",
      "34                birmingham          https://bham.craigslist.org   3500   \n",
      "35                birmingham          https://bham.craigslist.org   1300   \n",
      "36                birmingham          https://bham.craigslist.org   3000   \n",
      "37                birmingham          https://bham.craigslist.org   5500   \n",
      "38                birmingham          https://bham.craigslist.org  27995   \n",
      "39                birmingham          https://bham.craigslist.org      0   \n",
      "40                birmingham          https://bham.craigslist.org   3500   \n",
      "41                birmingham          https://bham.craigslist.org   3800   \n",
      "42                birmingham          https://bham.craigslist.org  34995   \n",
      "43                birmingham          https://bham.craigslist.org  11500   \n",
      "44                birmingham          https://bham.craigslist.org  26995   \n",
      "45                birmingham          https://bham.craigslist.org  34995   \n",
      "46                birmingham          https://bham.craigslist.org   6700   \n",
      "47                birmingham          https://bham.craigslist.org   8500   \n",
      "48                birmingham          https://bham.craigslist.org  50000   \n",
      "49                birmingham          https://bham.craigslist.org   1200   \n",
      "\n",
      "      year   manufacturer                   model   condition      cylinders  \\\n",
      "0      NaN           None                    None         NaN            NaN   \n",
      "1      NaN           None                    None         NaN            NaN   \n",
      "2      NaN           None                    None         NaN            NaN   \n",
      "3      NaN           None                    None         NaN            NaN   \n",
      "4      NaN           None                    None         NaN            NaN   \n",
      "5      NaN           None                    None         NaN            NaN   \n",
      "6      NaN           None                    None         NaN            NaN   \n",
      "7      NaN           None                    None         NaN            NaN   \n",
      "8      NaN           None                    None         NaN            NaN   \n",
      "9      NaN           None                    None         NaN            NaN   \n",
      "10     NaN           None                    None         NaN            NaN   \n",
      "11     NaN           None                    None         NaN            NaN   \n",
      "12     NaN           None                    None         NaN            NaN   \n",
      "13     NaN           None                    None         NaN            NaN   \n",
      "14     NaN           None                    None         NaN            NaN   \n",
      "15     NaN           None                    None         NaN            NaN   \n",
      "16     NaN           None                    None         NaN            NaN   \n",
      "17     NaN           None                    None         NaN            NaN   \n",
      "18     NaN           None                    None         NaN            NaN   \n",
      "19     NaN           None                    None         NaN            NaN   \n",
      "20     NaN           None                    None         NaN            NaN   \n",
      "21     NaN           None                    None         NaN            NaN   \n",
      "22     NaN           None                    None         NaN            NaN   \n",
      "23     NaN           None                    None         NaN            NaN   \n",
      "24     NaN           None                    None         NaN            NaN   \n",
      "25     NaN           None                    None         NaN            NaN   \n",
      "26     NaN           None                    None         NaN            NaN   \n",
      "27  2013.0           ford             'f-150 xlt'   excellent  '6 cylinders'   \n",
      "28  2008.0         toyota            'fj cruiser'        good  '6 cylinders'   \n",
      "29  1966.0          Chevy       '1966 C-30 1 ton'        good  '6 cylinders'   \n",
      "30  2018.0          acura                     tlx   excellent            NaN   \n",
      "31  2002.0           ford             thunderbird         new  '8 cylinders'   \n",
      "32  1997.0           Ford                    f150         NaN            NaN   \n",
      "33  1976.0      chevrolet        'malibu classic'         NaN            NaN   \n",
      "34  2003.0         toyota                   camry        good  '4 cylinders'   \n",
      "35  1969.0  mercedes-benz                    benz         NaN            NaN   \n",
      "36  2004.0            gmc                  blazer        good  '6 cylinders'   \n",
      "37  1978.0           ford                   f-150        good  '8 cylinders'   \n",
      "38  2017.0           ford                   f-150         NaN            NaN   \n",
      "39  2017.0      chevrolet  'silverado 2500hd 4x4'  'like new'  '8 cylinders'   \n",
      "40  1996.0            gmc                   tahoe   excellent  '8 cylinders'   \n",
      "41  2011.0         nissan                  altima         NaN            NaN   \n",
      "42  2018.0            gmc                    2500         NaN            NaN   \n",
      "43  2013.0          honda            'odyssey ex'        good            NaN   \n",
      "44  2015.0           ford                   f-350         NaN            NaN   \n",
      "45  2018.0            gmc                    1500         NaN            NaN   \n",
      "46  2011.0         nissan                  murano   excellent  '6 cylinders'   \n",
      "47  2006.0          rover             Range Rover        good  '8 cylinders'   \n",
      "48  2019.0         toyota                  tundra  'like new'  '8 cylinders'   \n",
      "49  2005.0      chevrolet                  impala        fair  '4 cylinders'   \n",
      "\n",
      "    ... drive       size         type paint_color  \\\n",
      "0   ...  None       None          NaN         NaN   \n",
      "1   ...  None       None          NaN         NaN   \n",
      "2   ...  None       None          NaN         NaN   \n",
      "3   ...  None       None          NaN         NaN   \n",
      "4   ...  None       None          NaN         NaN   \n",
      "5   ...  None       None          NaN         NaN   \n",
      "6   ...  None       None          NaN         NaN   \n",
      "7   ...  None       None          NaN         NaN   \n",
      "8   ...  None       None          NaN         NaN   \n",
      "9   ...  None       None          NaN         NaN   \n",
      "10  ...  None       None          NaN         NaN   \n",
      "11  ...  None       None          NaN         NaN   \n",
      "12  ...  None       None          NaN         NaN   \n",
      "13  ...  None       None          NaN         NaN   \n",
      "14  ...  None       None          NaN         NaN   \n",
      "15  ...  None       None          NaN         NaN   \n",
      "16  ...  None       None          NaN         NaN   \n",
      "17  ...  None       None          NaN         NaN   \n",
      "18  ...  None       None          NaN         NaN   \n",
      "19  ...  None       None          NaN         NaN   \n",
      "20  ...  None       None          NaN         NaN   \n",
      "21  ...  None       None          NaN         NaN   \n",
      "22  ...  None       None          NaN         NaN   \n",
      "23  ...  None       None          NaN         NaN   \n",
      "24  ...  None       None          NaN         NaN   \n",
      "25  ...  None       None          NaN         NaN   \n",
      "26  ...  None       None          NaN         NaN   \n",
      "27  ...   rwd  full-size        truck       black   \n",
      "28  ...   4wd  full-size      offroad       black   \n",
      "29  ...   rwd  full-size       pickup       brown   \n",
      "30  ...   fwd    compact        sedan       white   \n",
      "31  ...   fwd    compact  convertible      yellow   \n",
      "32  ...  None   EXTENDED        truck         NaN   \n",
      "33  ...  None       None          NaN         NaN   \n",
      "34  ...  None       None          NaN         NaN   \n",
      "35  ...  None       None          NaN         NaN   \n",
      "36  ...   4wd   mid-size          suv       white   \n",
      "37  ...  None  full-size        truck       green   \n",
      "38  ...   4wd   Crew Cab        truck         NaN   \n",
      "39  ...   4wd  full-size        truck      silver   \n",
      "40  ...   4wd  full-size      offroad       black   \n",
      "41  ...  None       None          NaN         NaN   \n",
      "42  ...   4wd   Crew Cab        truck         NaN   \n",
      "43  ...  None       None          van      silver   \n",
      "44  ...   4wd   Crew Cab        truck         NaN   \n",
      "45  ...   rwd     Luxury        truck         NaN   \n",
      "46  ...  None       None          NaN      silver   \n",
      "47  ...   4wd  full-size          suv       white   \n",
      "48  ...   4wd  full-size        truck       white   \n",
      "49  ...   fwd   mid-size        sedan        blue   \n",
      "\n",
      "                                                              image_url  \\\n",
      "0                                                                   NaN   \n",
      "1                                                                   NaN   \n",
      "2                                                                   NaN   \n",
      "3                                                                   NaN   \n",
      "4                                                                   NaN   \n",
      "5                                                                   NaN   \n",
      "6                                                                   NaN   \n",
      "7                                                                   NaN   \n",
      "8                                                                   NaN   \n",
      "9                                                                   NaN   \n",
      "10                                                                  NaN   \n",
      "11                                                                  NaN   \n",
      "12                                                                  NaN   \n",
      "13                                                                  NaN   \n",
      "14                                                                  NaN   \n",
      "15                                                                  NaN   \n",
      "16                                                                  NaN   \n",
      "17                                                                  NaN   \n",
      "18                                                                  NaN   \n",
      "19                                                                  NaN   \n",
      "20                                                                  NaN   \n",
      "21                                                                  NaN   \n",
      "22                                                                  NaN   \n",
      "23                                                                  NaN   \n",
      "24                                                                  NaN   \n",
      "25                                                                  NaN   \n",
      "26                                                                  NaN   \n",
      "27  https://images.craigslist.org/00404_l4loxHvdQefz_0CI0t2_600x450.jpg   \n",
      "28  https://images.craigslist.org/01616_eNHvoS2tcdRz_0lL0t2_600x450.jpg   \n",
      "29  https://images.craigslist.org/00k0k_fmcpYCNBUGfz_0i30CI_600x450.jpg   \n",
      "30  https://images.craigslist.org/00a0a_lKsILUwW0qrz_0t20CI_600x450.jpg   \n",
      "31   https://images.craigslist.org/01212_i9vpMol0h27_0CI0t2_600x450.jpg   \n",
      "32  https://images.craigslist.org/00101_24F1FVkW5pnz_0fu0bC_600x450.jpg   \n",
      "33   https://images.craigslist.org/00B0B_NcrT4hLRRdz_0CI0lM_600x450.jpg   \n",
      "34  https://images.craigslist.org/00A0A_6HTWIfXnBITz_0CI0lM_600x450.jpg   \n",
      "35   https://images.craigslist.org/00T0T_KljAvpSDdbz_0CI0lM_600x450.jpg   \n",
      "36  https://images.craigslist.org/00f0f_ecV0Trqbl8rz_0lM0t2_600x450.jpg   \n",
      "37  https://images.craigslist.org/00I0I_ayGeOXY8dTCz_0lM0t2_600x450.jpg   \n",
      "38  https://images.craigslist.org/00J0J_jHzCQ7k0Nmpz_0sd0fP_600x450.jpg   \n",
      "39  https://images.craigslist.org/00D0D_8916t1SEDZxz_0CI0t2_600x450.jpg   \n",
      "40  https://images.craigslist.org/00m0m_2CGd7x0zriIz_0jv0t2_600x450.jpg   \n",
      "41  https://images.craigslist.org/00T0T_3enc7ceFnUZz_0i60o8_600x450.jpg   \n",
      "42  https://images.craigslist.org/00202_ckdiOO0cXz9z_0sg0ir_600x450.jpg   \n",
      "43  https://images.craigslist.org/00202_28QrDMbUPmOz_0oo0ww_600x450.jpg   \n",
      "44  https://images.craigslist.org/00y0y_8qOPALhJr9uz_0u80j5_600x450.jpg   \n",
      "45  https://images.craigslist.org/01717_dTVjvvh7SVrz_0nX0gj_600x450.jpg   \n",
      "46  https://images.craigslist.org/00F0F_gWslTqkBBVtz_0ew0jm_600x450.jpg   \n",
      "47  https://images.craigslist.org/01212_92wfsDnAqQiz_0t20fC_600x450.jpg   \n",
      "48  https://images.craigslist.org/00F0F_j8YYOPAMJvCz_0CI0t2_600x450.jpg   \n",
      "49  https://images.craigslist.org/00y0y_8hgidsTyeojz_0CI0t2_600x450.jpg   \n",
      "\n",
      "                                                                                                                                                                                                                                                                                                                                                                                                                                                                                                                                                                                                                                                                                                                                                                                                                                                                                                                                                                                                                                                                                                                                                   description  \\\n",
      "0                                                                                                                                                                                                                                                                                                                                                                                                                                                                                                                                                                                                                                                                                                                                                                                                                                                                                                                                                                                                                                                                                                                                                          nan   \n",
      "1                                                                                                                                                                                                                                                                                                                                                                                                                                                                                                                                                                                                                                                                                                                                                                                                                                                                                                                                                                                                                                                                                                                                                          nan   \n",
      "2                                                                                                                                                                                                                                                                                                                                                                                                                                                                                                                                                                                                                                                                                                                                                                                                                                                                                                                                                                                                                                                                                                                                                          nan   \n",
      "3                                                                                                                                                                                                                                                                                                                                                                                                                                                                                                                                                                                                                                                                                                                                                                                                                                                                                                                                                                                                                                                                                                                                                          nan   \n",
      "4                                                                                                                                                                                                                                                                                                                                                                                                                                                                                                                                                                                                                                                                                                                                                                                                                                                                                                                                                                                                                                                                                                                                                          nan   \n",
      "5                                                                                                                                                                                                                                                                                                                                                                                                                                                                                                                                                                                                                                                                                                                                                                                                                                                                                                                                                                                                                                                                                                                                                          nan   \n",
      "6                                                                                                                                                                                                                                                                                                                                                                                                                                                                                                                                                                                                                                                                                                                                                                                                                                                                                                                                                                                                                                                                                                                                                          nan   \n",
      "7                                                                                                                                                                                                                                                                                                                                                                                                                                                                                                                                                                                                                                                                                                                                                                                                                                                                                                                                                                                                                                                                                                                                                          nan   \n",
      "8                                                                                                                                                                                                                                                                                                                                                                                                                                                                                                                                                                                                                                                                                                                                                                                                                                                                                                                                                                                                                                                                                                                                                          nan   \n",
      "9                                                                                                                                                                                                                                                                                                                                                                                                                                                                                                                                                                                                                                                                                                                                                                                                                                                                                                                                                                                                                                                                                                                                                          nan   \n",
      "10                                                                                                                                                                                                                                                                                                                                                                                                                                                                                                                                                                                                                                                                                                                                                                                                                                                                                                                                                                                                                                                                                                                                                         nan   \n",
      "11                                                                                                                                                                                                                                                                                                                                                                                                                                                                                                                                                                                                                                                                                                                                                                                                                                                                                                                                                                                                                                                                                                                                                         nan   \n",
      "12                                                                                                                                                                                                                                                                                                                                                                                                                                                                                                                                                                                                                                                                                                                                                                                                                                                                                                                                                                                                                                                                                                                                                         nan   \n",
      "13                                                                                                                                                                                                                                                                                                                                                                                                                                                                                                                                                                                                                                                                                                                                                                                                                                                                                                                                                                                                                                                                                                                                                         nan   \n",
      "14                                                                                                                                                                                                                                                                                                                                                                                                                                                                                                                                                                                                                                                                                                                                                                                                                                                                                                                                                                                                                                                                                                                                                         nan   \n",
      "15                                                                                                                                                                                                                                                                                                                                                                                                                                                                                                                                                                                                                                                                                                                                                                                                                                                                                                                                                                                                                                                                                                                                                         nan   \n",
      "16                                                                                                                                                                                                                                                                                                                                                                                                                                                                                                                                                                                                                                                                                                                                                                                                                                                                                                                                                                                                                                                                                                                                                         nan   \n",
      "17                                                                                                                                                                                                                                                                                                                                                                                                                                                                                                                                                                                                                                                                                                                                                                                                                                                                                                                                                                                                                                                                                                                                                         nan   \n",
      "18                                                                                                                                                                                                                                                                                                                                                                                                                                                                                                                                                                                                                                                                                                                                                                                                                                                                                                                                                                                                                                                                                                                                                         nan   \n",
      "19                                                                                                                                                                                                                                                                                                                                                                                                                                                                                                                                                                                                                                                                                                                                                                                                                                                                                                                                                                                                                                                                                                                                                         nan   \n",
      "20                                                                                                                                                                                                                                                                                                                                                                                                                                                                                                                                                                                                                                                                                                                                                                                                                                                                                                                                                                                                                                                                                                                                                         nan   \n",
      "21                                                                                                                                                                                                                                                                                                                                                                                                                                                                                                                                                                                                                                                                                                                                                                                                                                                                                                                                                                                                                                                                                                                                                         nan   \n",
      "22                                                                                                                                                                                                                                                                                                                                                                                                                                                                                                                                                                                                                                                                                                                                                                                                                                                                                                                                                                                                                                                                                                                                                         nan   \n",
      "23                                                                                                                                                                                                                                                                                                                                                                                                                                                                                                                                                                                                                                                                                                                                                                                                                                                                                                                                                                                                                                                                                                                                                         nan   \n",
      "24                                                                                                                                                                                                                                                                                                                                                                                                                                                                                                                                                                                                                                                                                                                                                                                                                                                                                                                                                                                                                                                                                                                                                         nan   \n",
      "25                                                                                                                                                                                                                                                                                                                                                                                                                                                                                                                                                                                                                                                                                                                                                                                                                                                                                                                                                                                                                                                                                                                                                         nan   \n",
      "26                                                                                                                                                                                                                                                                                                                                                                                                                                                                                                                                                                                                                                                                                                                                                                                                                                                                                                                                                                                                                                                                                                                                                         nan   \n",
      "27                                                                                                                                                                                                                                                                                                                                                                                                                                                                                                                                                                                                                                                                                                                                                                                                                                                                                                                                                                                                                                                                                        '2013 F-150 XLT V6 4 Door. Good condition. Leveling kit. New Tires.'   \n",
      "28                                                                                                                                                                                                                                                                                                                                                                                                                                                                                                                                                                                                                                                                                                                                                                                                                                                                                                                                                                                                                                           'Aspects: -Goodyear Wrangler Tires: 33’s  -Cattle Guard  -New Summit Racing control arms  -New clutch  -Lift Kit'   \n",
      "29                                                                                                                                                                                                                                                                                                                                                                                                                                                                                                                                                                                                                                                                                                                                                                                  'Great Chevy Barn Find  Great candidate for restoration.  Complete with all original drivetrain. Truck has been stored for a long period of time . It will need to be serviced . It ran prior to being stored away. Will deliver for fuel and expenses. Southern Truck  Will make and outstanding restoration project. Email for questions or further details . Thank you'   \n",
      "30                                                                                                                                                                                                                                                                                                                                                                                                                                                                                                                                                                                                                                                                                            'bought from King Acura in Birmingham certified! has all new brakes and tires. there is one cosmetic flaw but wouldn’t be hard to get out! no trades or monthly payments! theres everything you need in a car in this one. i’m only trying to sale to get an SUV! only serious inquiries please!  •leather heated seats  •sunroof  •push start •lane departure warning •front crash warning  •blind spot monitors  •navigation •back up camera  •tinted windows'   \n",
      "31                                                                                                                                                                                                                                                                                                                               '2002 FORD THUNDERBIRD DELUXE IN INSPIRATION YELLOW WITH VERY LOW MILEAGE IN INSIRATION YELLOW.  THE CAR WAS PURCHASED FROM A MUSEUM THIS PAST MARCH. IT HAS BEEN GARAGE KEPT AND COVERED. IT IS FULLY LOADED WITH EVERY AVAILABLE OPTION.  I RECENTLY INSTALLED A SONY AV RECEIVER WITH SATELLITE AND BLUE TOOTH CAPABILITIES.  THE ORIGINAL FACTORY INSTALLED RADIO IS INCLUDED> IT COMES WITH A STORM PROOF CUSTOM COVERING CAR COVER. THERE ARE SEVERAL SMALL SCRATCHES ON ON THE ALUMINUM CONSOLE SURFACE ADJACENT TO THE GEAR SHIFT> THIS CAN BE EASILY REPLACED WITH A KIT FROM CARID. IT COMES WITH BOTH A CONVERTIBLE AND HARD PORTHOLE TOP ALONG WITH A COVER AND FOLDABLE STORAGE ROLLER. IN THE PAST I HAVE USED A REPUTABLE TRANSPORT COMPANY MULTIPLE TIMES AND WILL BE GLAD TO SHARE THE NUMBER IF REQUESTED.'   \n",
      "32                                                                                                                                                                                                                                                                                                                                                                                                                                                                                                                                                                                                                                                                                                                                                                                                                                                                                                                                         'Great work truck  No lowballers  Clean and clear Alabama title  Brand new brakes all the way around 3 DOOR EXTENDED CAB PICKUP 5.4L V8 F SOHC 16V GASOLINE REAR WHEEL DRIVE RUNS GREAT ! $3800 no bs or scammers.'   \n",
      "33                                                                                                                                                                                                                                                                                                                                                                                                                                                                                                                                                                                                                                                                                                                                                                                                                                                                                                                                                                                                                                  'Car is complete with a 350 V8. A/C and automatic transmission. Clean title in hand. Call or text me  show contact info .'   \n",
      "34                                                                                                                                                                                                                                                                                                                                                                                                                                                                                                                                                                                                                                                                                                                                                                                                                                                                                                                                                                                                                              'Nice vehicle with sunroof and 4 cylinder engine.  237k and it runs great. Clean title.  Call or text me  show contact info .'   \n",
      "35                                                                                                                                                                                                                                                                                                                                                                                                                                                                                                                                                                                                                                                                                                                                                                                                                                                                                                                                                         'Car has been sitting and everything is still original. Motor condition is not known. Carburetors are missing on the vehicle. Interior is in good condition.  Call or text me  show contact info .'   \n",
      "36                                                                                                                                                                                                                                                                                                                                                                                                                                                                                                                                                                                                                                                                                                                                                                                                                                                                                                                           '2004 S10 blazer has 131500 miles rebuilt transmission with 200 miles on it new tires and new front rotors and brake pads. It runs and drives good but does have check engine light and abs light on. It does have a/c and heat.'   \n",
      "37                                                                                                                                                                                                                                                                                                                                                                                                                                                                                                                                                                                                                                                                                                                                                                                                                                                                                                                                                                                                                                                                                      '1978 Ford F150.  Good condition.  Way too many new parts to mention.'   \n",
      "38                                                                                                                                                                                                                                                                                                                                                                                                                                                                                                                                                                                                     '2017 Ford F150 4x4 Crew Cab FX4   Fleet F150 truck for sale! 151 miles   2017 Ford F150 4x4 Crew Cab FX4 6.5ft bed  This truck is powered by the V8 5.0L engine paired with a smooth shifting transmission -Crew Cab -Easy to clean interior -Running boards -Bed liner -Healthy tires  And much more…  Equipped with tow package  Free Carfax | Clean title  *Financing Options with Tax ID or Social Security *Financiamiento disponible con seguro o tax id  Contact Joe Text or Call 404-495-5393 (SERVICIO EN ESPAñOL)   LOCATED IN JONESBORO GA'   \n",
      "39                                                                                                                                                                                                                                                                                                                                                                                                                                                                                                                                                                                                                                                                                                                                                                                                                                                                                                                                                                                          'SELLJNG THIS AWESOME CHEVY 2500 Z71 4x4 DURAMAX DEISEL FULLY LOADED LOW MILES NEW TIRES LOOKS AND RUNS GREAT!! WE HAVE THE TRUCKS TRUCKCOUNTRYAUTOS 256 734 3362'   \n",
      "40                                                                                                                                                                                                                                                                                                                                                                                                                                                                                                                                                                                                                                                        'SCAM! I am paying $5 to post this to inform buyers of a scam. The person listing this vehicle stole pictures of the vehicle owner\\'s driver license and title. They also have a fake cash app account and they scammed me out of several hundred dollars in deposit money. They will attempt to send you the picture of the Driver License and Title to reassure you in order to get you to send them money.   A POLICE REPORT HAS BEEN FILED ON THIS AND THE POLICE HAVE OPENED AN INVESTIGATION.'   \n",
      "41                                                                                                                                                                                                                                                                                                                                                                                                                                                                                                                                                                                                                                                                                                                                                                                                                                                    '2011 Nissan Altima for sale. Runs & drives great! Strong motor & smooth shifting transmission. The driver side window will need a new regulator in order for it to work. The window motor is fine & all other windows work. It\\'s a nice car with 155k miles. $3800   *This car is located in Georgia.'   \n",
      "42                                                                                                                                                                                                                                                                                                                                                                                                                                                                                                                                                                                                     '2018 Ram 2500 4x4 Crew Cab Cummins Short bed  Diesel truck for sale! 211K miles  2018 Ram 2500 4x4 Crew Cab Cummins Short bed  This truck is powered by the powerful 6.7L Diesel Cummins engine paired with a smooth shifting transmission! No codes or leaks present!!! -4x4 -Chrome package -Clean interior -Full tow package -Gooseneck And much more...  Free Carfax | Clean title  *Financing Options with Tax ID or Social Security *Financiamiento disponible con seguro o tax id  Contact Joe Text or Call 404-495-5393 (SERVICIO EN ESPAñOL)'   \n",
      "43                                                                                                                                                                                                                                                                                                                                                                                                                                                                                                                                                                                                                                                                                                                                                                                                                                                                                                                                                                                                                                                                                '92K miles in good condition with minor cosmetic damage  Text with interest'   \n",
      "44                                                                                                                                                                                                                                                                                                                                                                                                                                                                                                                                                                                                                     '2015 Ford F350 XLT Diesel 4x4 Crew Cab Short bed Single wheel  Single wheel F350 diesel truck for sale! 247K miles  2015 Ford F350 XLT Diesel 4x4 CC SB Single wheel FX4  This truck is powered by the 6.7L diesel engine w/automatic transmission -4x4 -power -Tow Package -New tires -reverse camera And more….  Free Carfax | Clean title  *Financing Options with Tax ID or Social Security *Financiamiento disponible con seguro o tax id  Contact Joe Text or Call 404-495-5393 (SERVICIO EN ESPAñOL)   LOCATED IN JONESBORO GA'   \n",
      "45                                                                                                                                                                                                                                                                                                                                                                                                                                                                                                                                                 '2018 Ram 1500 Hemi 5.7L Crew Cab Laramie RWD  Luxury truck for sale! 104k miles  2018 Ram 1500 Hemi 5.7L CC Laramie RWD   This truck is powered by the 5.7L Hemi engine paired with a smooth shifting transmission!  Truck has no codes or leaks and is loaded with options!!! -Leather Interior -Navigation and backup camera -Running boards  -Fog lights -bed liner _heated and cooled seats And much more….  Free Carfax | Clean title  *Financing Options with Tax ID or Social Security *Financiamiento disponible con seguro o tax id  Contact Joe Text or Call 404-495-5393 (SERVICIO EN ESPAñOL)'   \n",
      "46                                                                                                                                                                                                                                                                                                                                                                                                                                                                                                                                                                                                                                                                                                                                                                                                                                                                                                                                                                                                                                                                                                   'Runs and drive flawlessly Car is in excellent condition'   \n",
      "47                                                                                                                                                                                                                                                                                                                                                                                                                                                                                                                                                                                                                                                                                                                                                                                                                                                                                                                                                                                                                                                                                                                            '2006 Range Rover  Supercharged'   \n",
      "48  'For sale by owner  2019 Toyota Tundra TRD Sport 4X4  Crewmax Cab  SR5 Upgrade package  TRD Sport Convenience package  Hard to find - white exterior with sand beige interior  One owner  No accidents  Meticulously kept  All service performed by Toyota  All service records available   Upgrades  Line X spray in bedliner  Rough country 3 inch lift kit (Toyota dealer installed)  Nitto Terra grapplers 275/65/20 (Toyota dealer installed)  Amp research power running boards WeatherTech floor mats matching interior color front and rear  Driver\\'s side A-post grab handle (see photos - these don\\'t come on the Tundra\\'s from the factory)  Craftsman toolbox - carpet lined  Tinted front windows and strip to match factory tint   This is the last year model before Toyota began using push button start. So this truck still has the reliability of a keyed ignition.   Driven very little but is a daily driver so miles will increase. I bought this truck new and truly hate to sell it. I do not have to and I do not require help selling it. Price is firm - serious buyers only please - thanks for looking.  TJ (2O5)2I2-864O'   \n",
      "49                                                                                                                                                                                                                                                                                                                                                                                                                                                                                                                                                                                                                                                                                                                                                                                                                                                                                                                                                                                                                                                                                                                                      'Needs a transmission'   \n",
      "\n",
      "   state        lat        long              posting_date  \n",
      "0     az        NaN         NaN                       NaN  \n",
      "1     ar        NaN         NaN                       NaN  \n",
      "2     fl        NaN         NaN                       NaN  \n",
      "3     ma        NaN         NaN                       NaN  \n",
      "4     nc        NaN         NaN                       NaN  \n",
      "5     ny        NaN         NaN                       NaN  \n",
      "6     ny        NaN         NaN                       NaN  \n",
      "7     ny        NaN         NaN                       NaN  \n",
      "8     or        NaN         NaN                       NaN  \n",
      "9     pa        NaN         NaN                       NaN  \n",
      "10    tx        NaN         NaN                       NaN  \n",
      "11    tx        NaN         NaN                       NaN  \n",
      "12    tx        NaN         NaN                       NaN  \n",
      "13    tx        NaN         NaN                       NaN  \n",
      "14    tx        NaN         NaN                       NaN  \n",
      "15    wa        NaN         NaN                       NaN  \n",
      "16    wa        NaN         NaN                       NaN  \n",
      "17    wa        NaN         NaN                       NaN  \n",
      "18    wa        NaN         NaN                       NaN  \n",
      "19    wa        NaN         NaN                       NaN  \n",
      "20    wa        NaN         NaN                       NaN  \n",
      "21    wa        NaN         NaN                       NaN  \n",
      "22    wa        NaN         NaN                       NaN  \n",
      "23    wa        NaN         NaN                       NaN  \n",
      "24    wa        NaN         NaN                       NaN  \n",
      "25    wa        NaN         NaN                       NaN  \n",
      "26    wi        NaN         NaN                       NaN  \n",
      "27    al     32.592    -85.5189  2021-05-03T14:02:03-0500  \n",
      "28    al    32.6024    -85.4873  2021-04-13T17:05:44-0500  \n",
      "29    al    32.4169    -85.7094  2021-04-11T07:07:52-0500  \n",
      "30    al  32.562007   -85.66967  2021-04-05T15:53:12-0500  \n",
      "31    al  34.657607  -87.782814  2021-05-04T13:29:51-0500  \n",
      "32    al    33.3224    -86.9657  2021-05-04T08:37:01-0500  \n",
      "33    al    33.5179    -86.8372  2021-05-04T07:11:30-0500  \n",
      "34    al    33.5179    -86.8372  2021-05-04T07:10:46-0500  \n",
      "35    al     33.521    -86.8066  2021-05-04T07:10:04-0500  \n",
      "36    al    33.5979    -86.3432  2021-05-03T17:26:24-0500  \n",
      "37    al    33.1248    -86.8622  2021-05-03T14:47:14-0500  \n",
      "38    al     33.521    -86.8066  2021-05-03T12:46:25-0500  \n",
      "39    al  34.188155  -86.851389  2021-05-03T09:59:43-0500  \n",
      "40    al    33.3813    -86.7046  2021-05-03T09:10:52-0500  \n",
      "41    al    33.4679    -84.4806  2021-05-02T19:11:44-0500  \n",
      "42    al     33.521    -86.8066  2021-05-02T14:48:28-0500  \n",
      "43    al  33.515444  -86.793624  2021-05-02T13:46:52-0500  \n",
      "44    al     33.521    -86.8066  2021-05-02T12:53:51-0500  \n",
      "45    al     33.521    -86.8066  2021-05-02T12:34:27-0500  \n",
      "46    al  33.120694  -86.493482  2021-05-02T09:47:28-0500  \n",
      "47    al    33.3813    -86.7046  2021-05-01T20:17:02-0500  \n",
      "48    al  33.345723  -86.767445  2021-05-01T11:26:30-0500  \n",
      "49    al    33.4816     -86.859  2021-05-01T09:57:28-0500  \n",
      "\n",
      "[50 rows x 25 columns]\n"
     ]
    }
   ],
   "source": [
    "print(df.head(50))"
   ]
  },
  {
   "cell_type": "markdown",
   "id": "e5d7c3da-fb52-42c0-a72b-25193eb57650",
   "metadata": {},
   "source": [
    "### Number of rows with 'NaN' in the 'lat' column before cleaning"
   ]
  },
  {
   "cell_type": "code",
   "execution_count": 159,
   "id": "db210aeb-f4b5-41c4-998c-814637efda80",
   "metadata": {},
   "outputs": [
    {
     "name": "stdout",
     "output_type": "stream",
     "text": [
      "Current nulls in 'lat' column : 124\n"
     ]
    }
   ],
   "source": [
    "print(\"Current nulls in 'lat' column :\", df['lat'].isna().sum())"
   ]
  },
  {
   "cell_type": "code",
   "execution_count": 160,
   "id": "faf55a12-79f6-42d3-a4fd-143552cf0d5a",
   "metadata": {},
   "outputs": [
    {
     "data": {
      "image/png": "[encoded data removed]",
      "text/plain": [
       "<Figure size 1000x600 with 1 Axes>"
      ]
     },
     "metadata": {},
     "output_type": "display_data"
    }
   ],
   "source": [
    "# Convert 'lat' column to numeric (this will turn non-numeric values to NaN)\n",
    "df['lat'] = pd.to_numeric(df['lat'], errors='coerce')\n",
    "\n",
    "# Plotting the distribution using a histogram\n",
    "plt.figure(figsize=(10, 6))\n",
    "sns.histplot(df['lat'], bins=30, kde=True)\n",
    "plt.title('Distribution of \"lat\" Before Imputation')\n",
    "plt.xlabel('Latitude')\n",
    "plt.ylabel('Frequency')\n",
    "plt.show()\n"
   ]
  },
  {
   "cell_type": "markdown",
   "id": "64bfcae7-1a46-4144-a0e7-b27ad0d620d3",
   "metadata": {},
   "source": [
    "The distribution is positively skewed (or right-skewed), meaning that most of the data is concentrated on the left, with a long tail stretching to the right hence __median__ is generally a better measure of central tendency than the mean because it is __less affected by the outliers and skewness.__\n",
    " "
   ]
  },
  {
   "cell_type": "code",
   "execution_count": 162,
   "id": "4efc2e7e-528c-4e86-874f-f619356a23db",
   "metadata": {},
   "outputs": [
    {
     "data": {
      "image/png": "[encoded data removed]",
      "text/plain": [
       "<Figure size 1000x600 with 1 Axes>"
      ]
     },
     "metadata": {},
     "output_type": "display_data"
    }
   ],
   "source": [
    "# Convert 'lat' column to numeric (this will turn non-numeric values to NaN)\n",
    "df['long'] = pd.to_numeric(df['long'], errors='coerce')\n",
    "\n",
    "# Plotting the distribution using a histogram\n",
    "plt.figure(figsize=(10, 6))\n",
    "sns.histplot(df['long'], bins=30, kde=True)\n",
    "plt.title('Distribution of \"long\" Before Imputation')\n",
    "plt.xlabel('Longitude')\n",
    "plt.ylabel('Frequency')\n",
    "plt.show()\n"
   ]
  },
  {
   "cell_type": "markdown",
   "id": "c4feffbb-433c-4664-b238-5c033ff925f0",
   "metadata": {},
   "source": [
    "The distribution of the \"long\" (longitude) variable is __positively skewed (right-skewed)__, with a significant concentration of values on the left and a long tail extending to the right. Given this skewness, similar to the latitude distribution, the __median__ would be a better measure for imputation."
   ]
  },
  {
   "cell_type": "markdown",
   "id": "fd43f0b6-b533-4238-abc3-af3fab5810c8",
   "metadata": {},
   "source": [
    "### Imputing the 'lat' and 'long' missing values"
   ]
  },
  {
   "cell_type": "code",
   "execution_count": 165,
   "id": "caf732ec-167e-42d1-82e2-881325d6f839",
   "metadata": {},
   "outputs": [
    {
     "data": {
      "text/plain": [
       "lat     0\n",
       "long    0\n",
       "dtype: int64"
      ]
     },
     "execution_count": 165,
     "metadata": {},
     "output_type": "execute_result"
    }
   ],
   "source": [
    "# Calculate the median values\n",
    "median_lat = df['lat'].median()\n",
    "median_long = df['long'].median()\n",
    "\n",
    "# Impute the missing values\n",
    "df['lat'] = df['lat'].fillna(median_lat)\n",
    "df['long'] = df['long'].fillna(median_long)\n",
    "\n",
    "# Confirm that there are no more missing values\n",
    "missing_values_after_imputation = df[['lat', 'long']].isnull().sum()\n",
    "missing_values_after_imputation"
   ]
  },
  {
   "cell_type": "markdown",
   "id": "6cd3924d-c951-4c17-bdea-4b7eca411256",
   "metadata": {},
   "source": [
    "## # 13. Paint Color"
   ]
  },
  {
   "cell_type": "code",
   "execution_count": 167,
   "id": "1d7eb1c4-47cc-42f4-a23a-728e820082cd",
   "metadata": {
    "scrolled": true
   },
   "outputs": [
    {
     "data": {
      "text/plain": [
       "0        NaN\n",
       "1        NaN\n",
       "2        NaN\n",
       "3        NaN\n",
       "4        NaN\n",
       "5        NaN\n",
       "6        NaN\n",
       "7        NaN\n",
       "8        NaN\n",
       "9        NaN\n",
       "10       NaN\n",
       "11       NaN\n",
       "12       NaN\n",
       "13       NaN\n",
       "14       NaN\n",
       "15       NaN\n",
       "16       NaN\n",
       "17       NaN\n",
       "18       NaN\n",
       "19       NaN\n",
       "20       NaN\n",
       "21       NaN\n",
       "22       NaN\n",
       "23       NaN\n",
       "24       NaN\n",
       "25       NaN\n",
       "26       NaN\n",
       "27     black\n",
       "28     black\n",
       "29     brown\n",
       "30     white\n",
       "31    yellow\n",
       "32       NaN\n",
       "33       NaN\n",
       "34       NaN\n",
       "35       NaN\n",
       "36     white\n",
       "37     green\n",
       "38       NaN\n",
       "39    silver\n",
       "40     black\n",
       "41       NaN\n",
       "42       NaN\n",
       "43    silver\n",
       "44       NaN\n",
       "45       NaN\n",
       "46    silver\n",
       "47     white\n",
       "48     white\n",
       "49      blue\n",
       "50     brown\n",
       "51     white\n",
       "52       NaN\n",
       "53     white\n",
       "54    silver\n",
       "55       NaN\n",
       "56     white\n",
       "57    silver\n",
       "58       NaN\n",
       "59       NaN\n",
       "Name: paint_color, dtype: object"
      ]
     },
     "execution_count": 167,
     "metadata": {},
     "output_type": "execute_result"
    }
   ],
   "source": [
    "pd.set_option('display.max_colwidth', None)\n",
    "df['paint_color'].head(60)"
   ]
  },
  {
   "cell_type": "code",
   "execution_count": 168,
   "id": "f251912b-dabb-4cd7-b76b-bcc508efd502",
   "metadata": {},
   "outputs": [
    {
     "name": "stdout",
     "output_type": "stream",
     "text": [
      "Current nulls in 'paint_color' column : 12619\n"
     ]
    }
   ],
   "source": [
    "print(\"Current nulls in 'paint_color' column :\", df['paint_color'].isna().sum())"
   ]
  },
  {
   "cell_type": "markdown",
   "id": "7700b420-d6ed-48f2-892a-ac1a114fcef1",
   "metadata": {},
   "source": [
    "### List of Car Colors"
   ]
  },
  {
   "cell_type": "code",
   "execution_count": 170,
   "id": "5e6dc077-79c8-48b6-aa44-726e67c1a733",
   "metadata": {},
   "outputs": [],
   "source": [
    "def extract_color(description):\n",
    "    \"\"\"Extract color from description using predefined patterns.\"\"\"\n",
    "    for pattern in color_patterns:\n",
    "        match = re.search(pattern, description, re.IGNORECASE)\n",
    "        if match:\n",
    "            return match.group(0)\n",
    "    return np.nan  # Return NaN if no pattern matches\n"
   ]
  },
  {
   "cell_type": "code",
   "execution_count": 171,
   "id": "b46068f5-c3ba-4e20-8579-aae48663dca4",
   "metadata": {},
   "outputs": [],
   "source": [
    "color_patterns = [\n",
    "    r'\\bRed\\b', r'\\bBlue\\b', r'\\bGreen\\b', r'\\bBlack\\b', r'\\bWhite\\b',\n",
    "    r'\\bSilver\\b', r'\\bGray\\b', r'\\bYellow\\b', r'\\bOrange\\b', r'\\bBrown\\b',\n",
    "    r'\\bPurple\\b', r'\\bBeige\\b', r'\\bPink\\b', r'\\bGold\\b', r'\\bTurquoise\\b',\n",
    "    r'\\bTeal\\b', r'\\bBronze\\b', r'\\bMaroon\\b', r'\\bCopper\\b', r'\\bChampagne\\b',\n",
    "    r'\\bDark Blue\\b', r'\\bDark Green\\b', r'\\bDark Gray\\b', r'\\bLight Blue\\b',\n",
    "    r'\\bLight Green\\b', r'\\bLight Gray\\b', r'\\bMetallic\\b'\n",
    "]"
   ]
  },
  {
   "cell_type": "markdown",
   "id": "ebc7cc9d-874d-46a2-8a24-e06bc9dca769",
   "metadata": {},
   "source": [
    "Update 'paint_color' column with color extracted from description if it is NaN."
   ]
  },
  {
   "cell_type": "code",
   "execution_count": 173,
   "id": "ce386ad1-7849-48f9-824f-aa3c5ea6be8a",
   "metadata": {},
   "outputs": [],
   "source": [
    "def update_paint_color(row):\n",
    "    if pd.isna(row['paint_color']):\n",
    "        return extract_color(row['description'])\n",
    "    return row['paint_color']\n",
    "\n",
    "df['paint_color'] = df.apply(update_paint_color, axis=1)"
   ]
  },
  {
   "cell_type": "code",
   "execution_count": 174,
   "id": "5d6301ef-ed08-4181-8ca3-ec49996f1126",
   "metadata": {},
   "outputs": [
    {
     "name": "stdout",
     "output_type": "stream",
     "text": [
      "Current nulls in 'paint_color' column : 11137\n"
     ]
    }
   ],
   "source": [
    "print(\"Current nulls in 'paint_color' column :\", df['paint_color'].isna().sum())"
   ]
  },
  {
   "cell_type": "code",
   "execution_count": 175,
   "id": "5eb910cf-3fa8-4b31-aa27-896d59e90db6",
   "metadata": {},
   "outputs": [
    {
     "data": {
      "text/plain": [
       "count     23099\n",
       "unique       51\n",
       "top       white\n",
       "freq       4787\n",
       "Name: paint_color, dtype: object"
      ]
     },
     "execution_count": 175,
     "metadata": {},
     "output_type": "execute_result"
    }
   ],
   "source": [
    "df['paint_color'].describe()"
   ]
  },
  {
   "cell_type": "code",
   "execution_count": 176,
   "id": "a6515bf1-0a85-4383-928b-52a4d0e51d90",
   "metadata": {},
   "outputs": [],
   "source": [
    "### Dropping the 'paint_color' column"
   ]
  },
  {
   "cell_type": "code",
   "execution_count": 177,
   "id": "91f7dcbb-9ed6-4a84-b55f-a19aa261c1b1",
   "metadata": {},
   "outputs": [],
   "source": [
    "df = df.drop(columns=['paint_color'])"
   ]
  },
  {
   "cell_type": "code",
   "execution_count": 178,
   "id": "903db139-8d99-405f-b388-dfe24a323a6d",
   "metadata": {},
   "outputs": [
    {
     "data": {
      "text/plain": [
       "id                  0\n",
       "url                 0\n",
       "region              0\n",
       "region_url          0\n",
       "price               0\n",
       "year               67\n",
       "manufacturer     1026\n",
       "model             199\n",
       "condition        9118\n",
       "cylinders       11094\n",
       "fuel                8\n",
       "odometer           67\n",
       "title_status      121\n",
       "transmission       67\n",
       "VIN             23463\n",
       "drive           11923\n",
       "size            14420\n",
       "type            10692\n",
       "image_url          67\n",
       "description         0\n",
       "state               0\n",
       "lat                 0\n",
       "long                0\n",
       "posting_date       67\n",
       "dtype: int64"
      ]
     },
     "execution_count": 178,
     "metadata": {},
     "output_type": "execute_result"
    }
   ],
   "source": [
    " df.isnull().sum()"
   ]
  },
  {
   "cell_type": "code",
   "execution_count": 179,
   "id": "dddc1437-aec6-40d9-b34c-598f711c85dd",
   "metadata": {},
   "outputs": [],
   "source": [
    "df = df.drop(columns=['VIN'])"
   ]
  },
  {
   "cell_type": "code",
   "execution_count": 180,
   "id": "48745d8e-6d7f-4673-8841-e1d6c4460675",
   "metadata": {},
   "outputs": [
    {
     "name": "stdout",
     "output_type": "stream",
     "text": [
      "drive     587\n",
      "size     2606\n",
      "type      453\n",
      "dtype: int64\n",
      "  drive  size type\n",
      "0  None  None  NaN\n",
      "1  None  None  NaN\n",
      "2  None  None  NaN\n",
      "3  None  None  NaN\n",
      "4  None  None  NaN\n"
     ]
    }
   ],
   "source": [
    "# 1. Define a function to fill missing values based on related columns\n",
    "def fill_missing_values(df):\n",
    "    # For 'drive'\n",
    "    drive_fill = df.groupby(['manufacturer', 'transmission'])['drive'].agg(lambda x: x.mode()[0] if not x.mode().empty else pd.NA)\n",
    "    df['drive'] = df.apply(lambda row: drive_fill.get((row['manufacturer'], row['transmission']), row['drive']), axis=1)\n",
    "\n",
    "    # For 'size'\n",
    "    size_fill = df.groupby(['manufacturer', 'model'])['size'].agg(lambda x: x.mode()[0] if not x.mode().empty else pd.NA)\n",
    "    df['size'] = df.apply(lambda row: size_fill.get((row['manufacturer'], row['model']), row['size']), axis=1)\n",
    "\n",
    "    # For 'type'\n",
    "    type_fill = df.groupby(['manufacturer', 'fuel'])['type'].agg(lambda x: x.mode()[0] if not x.mode().empty else pd.NA)\n",
    "    df['type'] = df.apply(lambda row: type_fill.get((row['manufacturer'], row['fuel']), row['type']), axis=1)\n",
    "\n",
    "    return df\n",
    "\n",
    "# Apply the function\n",
    "df = fill_missing_values(df)\n",
    "\n",
    "# Check the DataFrame to confirm the missing values have been filled\n",
    "print(df[['drive', 'size', 'type']].isna().sum())\n",
    "print(df[['drive', 'size', 'type']].head())"
   ]
  },
  {
   "cell_type": "code",
   "execution_count": 181,
   "id": "e29861c5-2cdb-4879-9d9c-e220fd1287c9",
   "metadata": {},
   "outputs": [
    {
     "data": {
      "text/plain": [
       "id                  0\n",
       "url                 0\n",
       "region              0\n",
       "region_url          0\n",
       "price               0\n",
       "year               67\n",
       "manufacturer     1026\n",
       "model             199\n",
       "condition        9118\n",
       "cylinders       11094\n",
       "fuel                8\n",
       "odometer           67\n",
       "title_status      121\n",
       "transmission       67\n",
       "drive             587\n",
       "size             2606\n",
       "type              453\n",
       "image_url          67\n",
       "description         0\n",
       "state               0\n",
       "lat                 0\n",
       "long                0\n",
       "posting_date       67\n",
       "dtype: int64"
      ]
     },
     "execution_count": 181,
     "metadata": {},
     "output_type": "execute_result"
    }
   ],
   "source": [
    " df.isnull().sum()"
   ]
  },
  {
   "cell_type": "code",
   "execution_count": 182,
   "id": "b617ceab-adc0-40cb-b222-f1d0c43a6277",
   "metadata": {},
   "outputs": [],
   "source": [
    "# Step 1: Create a mapping from model to the most frequent manufacturer\n",
    "model_to_manufacturer = df.groupby('model')['manufacturer'].apply(lambda x: x.mode()[0] if not x.mode().empty else None).to_dict()\n",
    "\n",
    "# Step 2: Define a function to fill in the missing manufacturer based on model\n",
    "def fill_missing_manufacturer(row):\n",
    "    if pd.isna(row['manufacturer']):\n",
    "        return model_to_manufacturer.get(row['model'], row['manufacturer'])\n",
    "    return row['manufacturer']\n",
    "\n",
    "# Step 3: Apply this function to the DataFrame\n",
    "df['manufacturer'] = df.apply(fill_missing_manufacturer, axis=1)"
   ]
  },
  {
   "cell_type": "code",
   "execution_count": 183,
   "id": "f7394177-34fb-408c-a838-86142b5f2cf1",
   "metadata": {},
   "outputs": [
    {
     "data": {
      "text/plain": [
       "id                  0\n",
       "url                 0\n",
       "region              0\n",
       "region_url          0\n",
       "price               0\n",
       "year               67\n",
       "manufacturer     1026\n",
       "model             199\n",
       "condition        9118\n",
       "cylinders       11094\n",
       "fuel                8\n",
       "odometer           67\n",
       "title_status      121\n",
       "transmission       67\n",
       "drive             587\n",
       "size             2606\n",
       "type              453\n",
       "image_url          67\n",
       "description         0\n",
       "state               0\n",
       "lat                 0\n",
       "long                0\n",
       "posting_date       67\n",
       "dtype: int64"
      ]
     },
     "execution_count": 183,
     "metadata": {},
     "output_type": "execute_result"
    }
   ],
   "source": [
    " df.isnull().sum()"
   ]
  },
  {
   "cell_type": "code",
   "execution_count": 184,
   "id": "115090a9-c590-489d-9ee0-b87b6c9e95ee",
   "metadata": {},
   "outputs": [
    {
     "name": "stdout",
     "output_type": "stream",
     "text": [
      "[None 'ford' 'toyota' 'chevy' 'acura' 'chevrolet' 'mercedes-benz' 'gmc'\n",
      " 'nissan' 'honda' 'rover' 'ram' 'harley-davidson' 'pontiac' 'man' 'lexus'\n",
      " 'jeep' 'dodge' 'hyundai' 'lincoln' 'audi' 'infiniti' 'cadillac' 'buick'\n",
      " 'seat' 'volvo' 'saturn' 'bmw' 'suzuki' 'kia' 'chrysler' 'subaru'\n",
      " 'volkswagen' 'mercury' 'mazda' 'isuzu' 'tesla' 'jaguar' 'porsche' 'mini'\n",
      " 'mitsubishi' 'datsun' 'saab' 'fiat' 'oldsmobile' 'ferrari' 'jac' 'hino'\n",
      " 'smart' \"'land rover'\" 'mercedes' 'bentley' 'hummer' 'land rover'\n",
      " 'aston-martin' 'lamborghini' 'alfa-romeo' 'nio' 'morgan' 'opel'\n",
      " 'maserati' 'tvr']\n"
     ]
    }
   ],
   "source": [
    "df['manufacturer'] = df['manufacturer'].str.lower()\n",
    "unique_manufacturer_values = df['manufacturer'].unique()\n",
    "print(unique_manufacturer_values)"
   ]
  },
  {
   "cell_type": "code",
   "execution_count": 185,
   "id": "c9ddc92a-f1f1-43d6-a61f-999de1c36ad3",
   "metadata": {},
   "outputs": [],
   "source": [
    "df['manufacturer'] = df['manufacturer'].fillna('Other')"
   ]
  },
  {
   "cell_type": "code",
   "execution_count": 186,
   "id": "1debfd4a-3764-42b5-a981-a65ec9466f77",
   "metadata": {},
   "outputs": [
    {
     "data": {
      "text/plain": [
       "id                  0\n",
       "url                 0\n",
       "region              0\n",
       "region_url          0\n",
       "price               0\n",
       "year               67\n",
       "manufacturer        0\n",
       "model             199\n",
       "condition        9118\n",
       "cylinders       11094\n",
       "fuel                8\n",
       "odometer           67\n",
       "title_status      121\n",
       "transmission       67\n",
       "drive             587\n",
       "size             2606\n",
       "type              453\n",
       "image_url          67\n",
       "description         0\n",
       "state               0\n",
       "lat                 0\n",
       "long                0\n",
       "posting_date       67\n",
       "dtype: int64"
      ]
     },
     "execution_count": 186,
     "metadata": {},
     "output_type": "execute_result"
    }
   ],
   "source": [
    " df.isnull().sum()"
   ]
  },
  {
   "cell_type": "code",
   "execution_count": 187,
   "id": "fabbd940-7401-467e-96cb-ac4a3403e6d6",
   "metadata": {},
   "outputs": [
    {
     "name": "stdout",
     "output_type": "stream",
     "text": [
      "[nan '2013.0' '2008.0' '1966.0' '2018.0' '2002.0' '1997.0' '1976.0'\n",
      " '2003.0' '1969.0' '2004.0' '1978.0' '2017.0' '1996.0' '2011.0' '2015.0'\n",
      " '2006.0' '2019.0' '2005.0' '2001.0' '2016.0' '1968.0' '2012.0' '2000.0'\n",
      " '2009.0' '2007.0' '2014.0' '2010.0' '1973.0' '1933.0' '1958.0' '1957.0'\n",
      " '1970.0' '1987.0' '1993.0' '1995.0' '1965.0' '1991.0' '1994.0' '1998.0'\n",
      " '1986.0' '1988.0' '1963.0' '1979.0' '1931.0' '1992.0' '1985.0' '1999.0'\n",
      " '1947.0' '1967.0' '1981.0' '1971.0' '1972.0' '2020.0' '1926.0' '1975.0'\n",
      " '1989.0' '1964.0' '2021.0' '1977.0' '1990.0' '1955.0' '1959.0' '1980.0'\n",
      " '1954.0' '1930.0' '1956.0' '1932.0' '1928.0' '1983.0' '1901.0' '1974.0'\n",
      " '1984.0' '1953.0' '1962.0' '1952.0' '1936.0' '1950.0' '1946.0' '1982.0'\n",
      " '1960.0' '1934.0' '1923.0' '1949.0' '1918.0' '1935.0' '1951.0' '1948.0'\n",
      " '1939.0' '1940.0' '1929.0' '1961.0' '1941.0' '2022.0' '1927.0' '1900.0'\n",
      " '1937.0' '1922.0' '1942.0' '1902.0' '1920.0' '1938.0' '1925.0']\n"
     ]
    }
   ],
   "source": [
    "df['year'] = df['year'].str.lower()\n",
    "unique_manufacturer_values = df['year'].unique()\n",
    "print(unique_manufacturer_values)"
   ]
  },
  {
   "cell_type": "code",
   "execution_count": 188,
   "id": "39575d75-3baf-4796-a7c2-b1c393bcc894",
   "metadata": {},
   "outputs": [],
   "source": [
    "df['year'] = df['year'].str.lower()\n",
    "most_frequent_year = df['year'].mode()[0]  # mode() returns the most frequent value\n",
    "df['year'] = df['year'].fillna(most_frequent_year)"
   ]
  },
  {
   "cell_type": "code",
   "execution_count": 189,
   "id": "e3c8d524-51a8-4b9e-9a14-c477957535d8",
   "metadata": {},
   "outputs": [
    {
     "data": {
      "text/plain": [
       "id                  0\n",
       "url                 0\n",
       "region              0\n",
       "region_url          0\n",
       "price               0\n",
       "year                0\n",
       "manufacturer        0\n",
       "model             199\n",
       "condition        9118\n",
       "cylinders       11094\n",
       "fuel                8\n",
       "odometer           67\n",
       "title_status      121\n",
       "transmission       67\n",
       "drive             587\n",
       "size             2606\n",
       "type              453\n",
       "image_url          67\n",
       "description         0\n",
       "state               0\n",
       "lat                 0\n",
       "long                0\n",
       "posting_date       67\n",
       "dtype: int64"
      ]
     },
     "execution_count": 189,
     "metadata": {},
     "output_type": "execute_result"
    }
   ],
   "source": [
    " df.isnull().sum()"
   ]
  },
  {
   "cell_type": "code",
   "execution_count": 190,
   "id": "acc71281-18fd-4965-9791-fa9a30079312",
   "metadata": {},
   "outputs": [
    {
     "name": "stdout",
     "output_type": "stream",
     "text": [
      "[\"'f-150 xlt'\" \"'fj cruiser'\" \"'1966 c-30 1 ton'\" ...\n",
      " \"'1500 longhorn 4x4'\" \"'fusco fec72s'\" \"'2010 f250 super duty'\"]\n"
     ]
    }
   ],
   "source": [
    "# Convert the 'model' column to lowercase (if necessary)\n",
    "df['model'] = df['model'].str.lower()\n",
    "\n",
    "# Drop rows where the 'model' column is NaN\n",
    "df = df.dropna(subset=['model'])\n",
    "\n",
    "# Verify the changes\n",
    "print(df['model'].unique())\n"
   ]
  },
  {
   "cell_type": "code",
   "execution_count": 191,
   "id": "16529918-eeca-4508-a598-624fdf7e2409",
   "metadata": {},
   "outputs": [
    {
     "data": {
      "text/plain": [
       "id                  0\n",
       "url                 0\n",
       "region              0\n",
       "region_url          0\n",
       "price               0\n",
       "year                0\n",
       "manufacturer        0\n",
       "model               0\n",
       "condition        8995\n",
       "cylinders       10956\n",
       "fuel                8\n",
       "odometer            0\n",
       "title_status       54\n",
       "transmission        0\n",
       "drive             520\n",
       "size             2468\n",
       "type              386\n",
       "image_url           0\n",
       "description         0\n",
       "state               0\n",
       "lat                 0\n",
       "long                0\n",
       "posting_date        0\n",
       "dtype: int64"
      ]
     },
     "execution_count": 191,
     "metadata": {},
     "output_type": "execute_result"
    }
   ],
   "source": [
    " df.isnull().sum()"
   ]
  },
  {
   "cell_type": "code",
   "execution_count": 192,
   "id": "2772490f-1737-4bf9-96f4-8708b122b499",
   "metadata": {},
   "outputs": [
    {
     "name": "stdout",
     "output_type": "stream",
     "text": [
      "['excellent' 'good' 'new' nan \"'like new'\" 'fair' 'salvage']\n"
     ]
    }
   ],
   "source": [
    "df['condition'] = df['condition'].str.lower()\n",
    "unique_manufacturer_values = df['condition'].unique()\n",
    "print(unique_manufacturer_values)"
   ]
  },
  {
   "cell_type": "code",
   "execution_count": 193,
   "id": "7eed050f-6dce-45a0-8167-c1cdecacf2f3",
   "metadata": {},
   "outputs": [
    {
     "name": "stdout",
     "output_type": "stream",
     "text": [
      "['excellent' 'good' 'new' \"'like new'\" 'fair' 'salvage']\n"
     ]
    }
   ],
   "source": [
    "condition_mode = df['condition'].mode()[0]\n",
    "# Fill NaN values in the 'condition' column with the mode\n",
    "df['condition'] = df['condition'].fillna(condition_mode)\n",
    "# Verify the changes\n",
    "unique_condition_values = df['condition'].unique()\n",
    "print(unique_condition_values)"
   ]
  },
  {
   "cell_type": "code",
   "execution_count": 194,
   "id": "f3e558cd-b80f-46b8-b1c7-5003b3d58bac",
   "metadata": {},
   "outputs": [
    {
     "data": {
      "text/plain": [
       "id                  0\n",
       "url                 0\n",
       "region              0\n",
       "region_url          0\n",
       "price               0\n",
       "year                0\n",
       "manufacturer        0\n",
       "model               0\n",
       "condition           0\n",
       "cylinders       10956\n",
       "fuel                8\n",
       "odometer            0\n",
       "title_status       54\n",
       "transmission        0\n",
       "drive             520\n",
       "size             2468\n",
       "type              386\n",
       "image_url           0\n",
       "description         0\n",
       "state               0\n",
       "lat                 0\n",
       "long                0\n",
       "posting_date        0\n",
       "dtype: int64"
      ]
     },
     "execution_count": 194,
     "metadata": {},
     "output_type": "execute_result"
    }
   ],
   "source": [
    " df.isnull().sum()"
   ]
  },
  {
   "cell_type": "code",
   "execution_count": 195,
   "id": "e3328cb4-5fac-4871-ae16-a9f8610af396",
   "metadata": {},
   "outputs": [
    {
     "name": "stdout",
     "output_type": "stream",
     "text": [
      "['clean' 'rebuilt' 'missing' 'lien' 'salvage' \"'parts only'\" None 'theft']\n"
     ]
    }
   ],
   "source": [
    "df['title_status'] = df['title_status'].str.lower()\n",
    "unique_title_status_values = df['title_status'].unique()\n",
    "print(unique_title_status_values)"
   ]
  },
  {
   "cell_type": "code",
   "execution_count": 196,
   "id": "493cf2e8-6011-4fbf-b5f1-2149d191396d",
   "metadata": {},
   "outputs": [],
   "source": [
    "df = df.drop(columns=['cylinders'])"
   ]
  },
  {
   "cell_type": "code",
   "execution_count": 197,
   "id": "b4f4fc03-687b-485c-af3e-1a3316baade2",
   "metadata": {},
   "outputs": [
    {
     "data": {
      "text/plain": [
       "id                 0\n",
       "url                0\n",
       "region             0\n",
       "region_url         0\n",
       "price              0\n",
       "year               0\n",
       "manufacturer       0\n",
       "model              0\n",
       "condition          0\n",
       "fuel               8\n",
       "odometer           0\n",
       "title_status      54\n",
       "transmission       0\n",
       "drive            520\n",
       "size            2468\n",
       "type             386\n",
       "image_url          0\n",
       "description        0\n",
       "state              0\n",
       "lat                0\n",
       "long               0\n",
       "posting_date       0\n",
       "dtype: int64"
      ]
     },
     "execution_count": 197,
     "metadata": {},
     "output_type": "execute_result"
    }
   ],
   "source": [
    " df.isnull().sum()"
   ]
  },
  {
   "cell_type": "code",
   "execution_count": 198,
   "id": "e1d8c28b-6648-4d45-a3e8-460c8f5adf0d",
   "metadata": {},
   "outputs": [
    {
     "name": "stdout",
     "output_type": "stream",
     "text": [
      "['4wd' 'fwd' 'rwd' 'Rear-Wheel Drive' 'Front-Wheel Drive'\n",
      " 'Traction Control' 'Four-Wheel Drive']\n"
     ]
    }
   ],
   "source": [
    "drive_mode = df['drive'].mode()[0]\n",
    "# Fill NaN values in the 'condition' column with the mode\n",
    "df['drive'] = df['drive'].fillna(drive_mode)\n",
    "# Verify the changes\n",
    "unique_drive_values = df['drive'].unique()\n",
    "print(unique_drive_values)"
   ]
  },
  {
   "cell_type": "code",
   "execution_count": 199,
   "id": "279d051c-8a79-4594-af78-b67442cfffe0",
   "metadata": {},
   "outputs": [
    {
     "data": {
      "text/plain": [
       "id                 0\n",
       "url                0\n",
       "region             0\n",
       "region_url         0\n",
       "price              0\n",
       "year               0\n",
       "manufacturer       0\n",
       "model              0\n",
       "condition          0\n",
       "fuel               8\n",
       "odometer           0\n",
       "title_status      54\n",
       "transmission       0\n",
       "drive              0\n",
       "size            2468\n",
       "type             386\n",
       "image_url          0\n",
       "description        0\n",
       "state              0\n",
       "lat                0\n",
       "long               0\n",
       "posting_date       0\n",
       "dtype: int64"
      ]
     },
     "execution_count": 199,
     "metadata": {},
     "output_type": "execute_result"
    }
   ],
   "source": [
    " df.isnull().sum()"
   ]
  },
  {
   "cell_type": "code",
   "execution_count": 200,
   "id": "66091e34-a78f-48f9-b1be-d307e7a87c08",
   "metadata": {},
   "outputs": [
    {
     "name": "stdout",
     "output_type": "stream",
     "text": [
      "['full-size' 'compact' 'mid-size' 'Huge' 'Convertible' 'CITY' 'Coupe'\n",
      " 'coupe' 'bus' 'Premium' 'Sedan' 'sub-compact' 'convertible' 'small' 'VAN'\n",
      " 'PREMIUM' 'luxury' 'City' 'Van' 'Camper' 'STANDARD' 'Crew Cab' 'Economy'\n",
      " 'van' 'crew cab' 'sedan' 'extended' 'Luxury' 'standard' 'MOTORHOME'\n",
      " 'SEDAN' 'EXTENDED' 'LUXURY' 'Suburban' 'HUGE' 'Regular' 'Small'\n",
      " 'Standard' 'Mini' 'short bed' 'LONG BED' 'wagon' 'long bed' 'SMALL'\n",
      " 'caravan' 'large' 'MINI' 'premium' 'hatchback' 'REGULAR' 'CONVERTIBLE'\n",
      " 'Extended' 'city' 'WAGON' 'Wagon' 'camper' 'HATCHBACK' 'Long bed'\n",
      " 'suburban' 'Medium' 'Large' 'Crew cab' 'Full-Size' 'Hatchback'\n",
      " 'Super Crew' 'SUBURBAN' 'Fifth wheel' 'Compact' 'Tiny' 'Mid-Size' 'Bus'\n",
      " 'COUPE' 'minivan' 'MINIVAN' 'Minivan' 'Short Bed' 'Long Bed' 'CREW CAB'\n",
      " 'Utility Truck' 'huge' 'Limousine' 'regular' 'urban' 'toy hauler'\n",
      " 'Utility Vehicle' 'Short bed' 'economy' 'UTILITY TRUCK' 'MEDIUM' 'mini'\n",
      " 'Caravan' 'SHORT BED' 'BUS' 'Fifth Wheel']\n"
     ]
    }
   ],
   "source": [
    "size_mode = df['size'].mode()[0]\n",
    "# Fill NaN values in the 'condition' column with the mode\n",
    "df['size'] = df['size'].fillna(size_mode)\n",
    "# Verify the changes\n",
    "unique_size_values = df['size'].unique()\n",
    "print(unique_size_values)"
   ]
  },
  {
   "cell_type": "code",
   "execution_count": 201,
   "id": "812b4b1b-f194-4d52-aa74-099e917f2997",
   "metadata": {},
   "outputs": [
    {
     "data": {
      "text/plain": [
       "id                0\n",
       "url               0\n",
       "region            0\n",
       "region_url        0\n",
       "price             0\n",
       "year              0\n",
       "manufacturer      0\n",
       "model             0\n",
       "condition         0\n",
       "fuel              8\n",
       "odometer          0\n",
       "title_status     54\n",
       "transmission      0\n",
       "drive             0\n",
       "size              0\n",
       "type            386\n",
       "image_url         0\n",
       "description       0\n",
       "state             0\n",
       "lat               0\n",
       "long              0\n",
       "posting_date      0\n",
       "dtype: int64"
      ]
     },
     "execution_count": 201,
     "metadata": {},
     "output_type": "execute_result"
    }
   ],
   "source": [
    " df.isnull().sum()"
   ]
  },
  {
   "cell_type": "code",
   "execution_count": 202,
   "id": "d2385c34-d284-4f4a-80c3-8c1d5028f35a",
   "metadata": {},
   "outputs": [
    {
     "name": "stdout",
     "output_type": "stream",
     "text": [
      "['clean' 'rebuilt' 'missing' 'lien' 'salvage' \"'parts only'\" 'theft']\n"
     ]
    }
   ],
   "source": [
    "title_status_mode = df['title_status'].mode()[0]\n",
    "# Fill NaN values in the 'title_status' column with the mode\n",
    "df['title_status'] = df['title_status'].fillna(title_status_mode)\n",
    "# Verify the changes\n",
    "unique_title_status_values = df['title_status'].unique()\n",
    "print(unique_title_status_values)"
   ]
  },
  {
   "cell_type": "code",
   "execution_count": 203,
   "id": "847fc7a9-1a05-43dd-a12c-93dcc5ded3b4",
   "metadata": {},
   "outputs": [
    {
     "name": "stdout",
     "output_type": "stream",
     "text": [
      "['gas' 'diesel' 'hybrid' 'other' 'electric' 'gasoline']\n"
     ]
    }
   ],
   "source": [
    "fuel_mode = df['fuel'].mode()[0]\n",
    "# Fill NaN values in the 'fuel' column with the mode\n",
    "df['fuel'] = df['fuel'].fillna(fuel_mode)\n",
    "# Verify the changes\n",
    "unique_fuel_values = df['fuel'].unique()\n",
    "print(unique_fuel_values)"
   ]
  },
  {
   "cell_type": "code",
   "execution_count": 204,
   "id": "373ff7ae-a449-417d-b25f-879f26b26c68",
   "metadata": {},
   "outputs": [
    {
     "name": "stdout",
     "output_type": "stream",
     "text": [
      "['truck' 'sedan' 'pickup' 'suv' 'Sedan' 'coupe' 'wagon' 'van' 'TRUCK'\n",
      " 'Bus' 'convertible' 'hatchback' 'Electric' 'other' 'Motorcycle'\n",
      " 'mini-van' 'Truck' 'bus' 'Hybrid' 'PICKUP' 'hybrid' 'RV' 'limo'\n",
      " 'CLASSIC CAR' 'ELECTRIC' 'motorcycle' 'Convertible' 'Hatchback' 'Camper'\n",
      " 'Coupe' 'Luxury' 'full-size' 'SUV' 'camper' 'Wagon' 'Van' 'offroad']\n"
     ]
    }
   ],
   "source": [
    "type_mode = df['type'].mode()[0]\n",
    "# Fill NaN values in the 'type' column with the mode\n",
    "df['type'] = df['type'].fillna(type_mode)\n",
    "# Verify the changes\n",
    "unique_type_values = df['type'].unique()\n",
    "print(unique_type_values)"
   ]
  },
  {
   "cell_type": "code",
   "execution_count": 205,
   "id": "6be8b790-a0bd-4ba2-9ca6-145757184f39",
   "metadata": {},
   "outputs": [
    {
     "data": {
      "text/plain": [
       "id              0\n",
       "url             0\n",
       "region          0\n",
       "region_url      0\n",
       "price           0\n",
       "year            0\n",
       "manufacturer    0\n",
       "model           0\n",
       "condition       0\n",
       "fuel            0\n",
       "odometer        0\n",
       "title_status    0\n",
       "transmission    0\n",
       "drive           0\n",
       "size            0\n",
       "type            0\n",
       "image_url       0\n",
       "description     0\n",
       "state           0\n",
       "lat             0\n",
       "long            0\n",
       "posting_date    0\n",
       "dtype: int64"
      ]
     },
     "execution_count": 205,
     "metadata": {},
     "output_type": "execute_result"
    }
   ],
   "source": [
    " df.isnull().sum()"
   ]
  },
  {
   "cell_type": "code",
   "execution_count": 206,
   "id": "9c6a3df3-5932-4579-bdc8-699463a12e8d",
   "metadata": {},
   "outputs": [
    {
     "name": "stdout",
     "output_type": "stream",
     "text": [
      "<class 'pandas.core.frame.DataFrame'>\n",
      "Index: 34037 entries, 27 to 34235\n",
      "Data columns (total 22 columns):\n",
      " #   Column        Non-Null Count  Dtype  \n",
      "---  ------        --------------  -----  \n",
      " 0   id            34037 non-null  int64  \n",
      " 1   url           34037 non-null  object \n",
      " 2   region        34037 non-null  object \n",
      " 3   region_url    34037 non-null  object \n",
      " 4   price         34037 non-null  int64  \n",
      " 5   year          34037 non-null  object \n",
      " 6   manufacturer  34037 non-null  object \n",
      " 7   model         34037 non-null  object \n",
      " 8   condition     34037 non-null  object \n",
      " 9   fuel          34037 non-null  object \n",
      " 10  odometer      34037 non-null  object \n",
      " 11  title_status  34037 non-null  object \n",
      " 12  transmission  34037 non-null  object \n",
      " 13  drive         34037 non-null  object \n",
      " 14  size          34037 non-null  object \n",
      " 15  type          34037 non-null  object \n",
      " 16  image_url     34037 non-null  object \n",
      " 17  description   34037 non-null  object \n",
      " 18  state         34037 non-null  object \n",
      " 19  lat           34037 non-null  float64\n",
      " 20  long          34037 non-null  float64\n",
      " 21  posting_date  34037 non-null  object \n",
      "dtypes: float64(2), int64(2), object(18)\n",
      "memory usage: 6.0+ MB\n"
     ]
    }
   ],
   "source": [
    "df.info()"
   ]
  },
  {
   "cell_type": "code",
   "execution_count": 207,
   "id": "a7eacadb-2fcd-4462-9906-bc684e5b1a98",
   "metadata": {},
   "outputs": [],
   "source": [
    "df['posting_date'] = pd.to_datetime(df['posting_date'], format='%Y-%m-%dT%H:%M:%S%z', utc=True)"
   ]
  },
  {
   "cell_type": "code",
   "execution_count": 208,
   "id": "3d7ceff1-f78d-4cb2-b1bf-ee19521d5338",
   "metadata": {},
   "outputs": [],
   "source": [
    "df['year'] = df['year'].astype(str).str.replace(r'\\.0$', '', regex=True)  # Remove trailing '.0'\n",
    "df['year'] = pd.to_numeric(df['year'], errors='coerce')  # Conv"
   ]
  },
  {
   "cell_type": "code",
   "execution_count": 209,
   "id": "e6e614a3-8244-4a24-917c-ead42198f62d",
   "metadata": {},
   "outputs": [
    {
     "name": "stdout",
     "output_type": "stream",
     "text": [
      "<class 'pandas.core.frame.DataFrame'>\n",
      "Index: 34037 entries, 27 to 34235\n",
      "Data columns (total 22 columns):\n",
      " #   Column        Non-Null Count  Dtype              \n",
      "---  ------        --------------  -----              \n",
      " 0   id            34037 non-null  int64              \n",
      " 1   url           34037 non-null  object             \n",
      " 2   region        34037 non-null  object             \n",
      " 3   region_url    34037 non-null  object             \n",
      " 4   price         34037 non-null  int64              \n",
      " 5   year          34037 non-null  int64              \n",
      " 6   manufacturer  34037 non-null  object             \n",
      " 7   model         34037 non-null  object             \n",
      " 8   condition     34037 non-null  object             \n",
      " 9   fuel          34037 non-null  object             \n",
      " 10  odometer      34037 non-null  object             \n",
      " 11  title_status  34037 non-null  object             \n",
      " 12  transmission  34037 non-null  object             \n",
      " 13  drive         34037 non-null  object             \n",
      " 14  size          34037 non-null  object             \n",
      " 15  type          34037 non-null  object             \n",
      " 16  image_url     34037 non-null  object             \n",
      " 17  description   34037 non-null  object             \n",
      " 18  state         34037 non-null  object             \n",
      " 19  lat           34037 non-null  float64            \n",
      " 20  long          34037 non-null  float64            \n",
      " 21  posting_date  34037 non-null  datetime64[ns, UTC]\n",
      "dtypes: datetime64[ns, UTC](1), float64(2), int64(3), object(16)\n",
      "memory usage: 6.0+ MB\n"
     ]
    }
   ],
   "source": [
    "df.info()"
   ]
  },
  {
   "cell_type": "markdown",
   "id": "bbe30662-62c8-4141-b672-fc891249792a",
   "metadata": {},
   "source": [
    "### Visualisation"
   ]
  },
  {
   "cell_type": "markdown",
   "id": "715f35d0-b79e-4d12-ade8-87e11990ad83",
   "metadata": {},
   "source": [
    "Histogram: To visualize the distribution of car prices."
   ]
  },
  {
   "cell_type": "code",
   "execution_count": 212,
   "id": "34021eee-eb34-4ee2-a465-3dc5b5c87315",
   "metadata": {},
   "outputs": [
    {
     "data": {
      "image/png": "[encoded data removed]",
      "text/plain": [
       "<Figure size 1000x600 with 1 Axes>"
      ]
     },
     "metadata": {},
     "output_type": "display_data"
    }
   ],
   "source": [
    "plt.figure(figsize=(10, 6))\n",
    "sns.histplot(df['price'], bins=30, kde=True)\n",
    "plt.title('Price Distribution')\n",
    "plt.xlabel('Price')\n",
    "plt.ylabel('Manufacturer')\n",
    "plt.show()"
   ]
  },
  {
   "cell_type": "markdown",
   "id": "07805d06-ab1a-4df7-9fa3-a38a6c1bcbdb",
   "metadata": {},
   "source": [
    "Scatter Plot: To explore the relationship between car prices and the year of the car."
   ]
  },
  {
   "cell_type": "code",
   "execution_count": 214,
   "id": "7b416d38-0571-49a9-abb7-01ae4b7ebc6d",
   "metadata": {},
   "outputs": [
    {
     "data": {
      "image/png": "[encoded data removed]",
      "text/plain": [
       "<Figure size 1200x600 with 1 Axes>"
      ]
     },
     "metadata": {},
     "output_type": "display_data"
    }
   ],
   "source": [
    "plt.figure(figsize=(12, 6))\n",
    "sns.lineplot(x='year', y='price', data=df, marker='o')\n",
    "plt.title('Price Trend Over Years')\n",
    "plt.xlabel('Year')\n",
    "plt.ylabel('Price')\n",
    "plt.xticks(rotation=45)\n",
    "plt.grid(True)\n",
    "plt.show()"
   ]
  },
  {
   "cell_type": "markdown",
   "id": "58710aa3-598c-4e0f-a44c-21af27795bcf",
   "metadata": {},
   "source": [
    "Pie Chart: To visualize the distribution of different fuel types."
   ]
  },
  {
   "cell_type": "code",
   "execution_count": 216,
   "id": "b77aa7c7-360d-454e-a8af-e12983fc28c7",
   "metadata": {},
   "outputs": [
    {
     "data": {
      "image/png": "[encoded data removed]",
      "text/plain": [
       "<Figure size 800x800 with 1 Axes>"
      ]
     },
     "metadata": {},
     "output_type": "display_data"
    }
   ],
   "source": [
    "plt.figure(figsize=(8, 8))  # Reduce the figure size\n",
    "fuel_counts = df['fuel'].value_counts()\n",
    "wedges, texts = plt.pie(fuel_counts, labels=None, startangle=140, wedgeprops={'linewidth': 0.5, 'edgecolor': 'white'})\n",
    "legend_labels = [f\"{fuel}: {pct}\" for fuel, pct in zip(fuel_counts.index, [f\"{count / sum(fuel_counts) * 100:.1f}%\" for count in fuel_counts])]\n",
    "plt.legend(legend_labels, title=\"Fuel Types\", loc=\"center left\", bbox_to_anchor=(1, 0.5))\n",
    "plt.title('Distribution of Fuel Types')\n",
    "plt.show()"
   ]
  },
  {
   "cell_type": "markdown",
   "id": "cb080687-3918-4ea7-a386-d347c0d7c0eb",
   "metadata": {},
   "source": [
    "## Encoding Categorical Variables"
   ]
  },
  {
   "cell_type": "markdown",
   "id": "c5b48867-c776-485f-8654-a1ca5d83e19c",
   "metadata": {},
   "source": [
    "#### One-Hot Encoding"
   ]
  },
  {
   "cell_type": "markdown",
   "id": "cbe87a2a-2956-48cc-9253-b73f2d2e985d",
   "metadata": {},
   "source": [
    "__Advantages:__ It ensures that the model treats each category as distinct and unrelated, avoiding any assumptions about order."
   ]
  },
  {
   "cell_type": "markdown",
   "id": "8d97b0a7-f1fa-4c01-835e-5d43a1d10811",
   "metadata": {},
   "source": [
    "__Limitations:__ One-hot encoding can increase the number of columns in your dataset, which might be a problem if the categorical variable has many unique categories."
   ]
  },
  {
   "cell_type": "markdown",
   "id": "190fc223-c7f7-4650-b107-925c27cfe317",
   "metadata": {},
   "source": [
    "One-Hot Encoding converts categorical data into a binary matrix, where a binary vector represents each category. This method is suitable for nominal data. Use Case: Most appropriate for those situations, where the categories do not have an inherent order, or there is a clear distinction between them.\n"
   ]
  },
  {
   "cell_type": "code",
   "execution_count": 222,
   "id": "f8a2be3f-09a6-4b7e-b765-6db5a90057e4",
   "metadata": {},
   "outputs": [],
   "source": [
    "label_encoder = LabelEncoder()\n",
    "df['condition'] = label_encoder.fit_transform(df['condition'])"
   ]
  },
  {
   "cell_type": "code",
   "execution_count": null,
   "id": "aecf3d59-de74-4cf5-918d-dc71fa764f2e",
   "metadata": {},
   "outputs": [],
   "source": [
    "# Identify categorical columns that are of dtype 'object'\n",
    "categorical_columns = df.select_dtypes(include=['object']).columns\n",
    "\n",
    "# Exclude columns that are numeric (int64 or float64)\n",
    "numeric_columns = df.select_dtypes(include=['int64', 'float64','datetime64']).columns\n",
    "columns_to_encode = categorical_columns.difference(numeric_columns)\n",
    "\n",
    "# Convert the selected columns to string to ensure uniform data types\n",
    "df[columns_to_encode] = df[columns_to_encode].astype(str)\n",
    "\n",
    "# Initialize OneHotEncoder\n",
    "onehot_encoder = OneHotEncoder(sparse_output=False, drop='first')  # drop='first' to avoid multicollinearity\n",
    "\n",
    "# Apply OneHotEncoder to all categorical columns\n",
    "encoded_data = onehot_encoder.fit_transform(df[columns_to_encode])\n",
    "\n",
    "# Convert the result to a DataFrame\n",
    "encoded_df = pd.DataFrame(encoded_data, columns=onehot_encoder.get_feature_names_out(columns_to_encode))\n",
    "\n",
    "# Drop the original categorical columns that were encoded\n",
    "df_encoded = df.drop(columns=columns_to_encode)\n",
    "\n",
    "# Concatenate the original DataFrame (excluding encoded categorical columns) with the encoded DataFrame\n",
    "df_encoded = pd.concat([df_encoded, encoded_df], axis=1)\n",
    "\n",
    "print(df_encoded)"
   ]
  },
  {
   "cell_type": "markdown",
   "id": "4675b2ed-8551-4846-9d72-6c7f084abacf",
   "metadata": {},
   "source": [
    "## Reducing Cardinality in Categorical Features"
   ]
  },
  {
   "cell_type": "code",
   "execution_count": null,
   "id": "de7b0a89-b884-450a-980e-98f8164fcb8e",
   "metadata": {},
   "outputs": [],
   "source": [
    "df.head(10)"
   ]
  },
  {
   "cell_type": "code",
   "execution_count": null,
   "id": "08f10115-5a22-4b6a-9818-33b1e04a3024",
   "metadata": {},
   "outputs": [],
   "source": [
    "# Count unique values for each categorical column\n",
    "unique_counts = df.select_dtypes(include=['object']).nunique()\n",
    "print(unique_counts)"
   ]
  },
  {
   "cell_type": "markdown",
   "id": "fc9a38a2-d0c5-46ab-b9f9-0c3d4b26590a",
   "metadata": {},
   "source": [
    "#### Odometer (10207 unique values)\n",
    "Binning: Convert continuous odometer readings into bins (e.g., 0-10,000, 10,001-50,000, 50,001-100,000, etc.)."
   ]
  },
  {
   "cell_type": "code",
   "execution_count": null,
   "id": "77dc6edf-be19-4f36-83b7-ab949a776f89",
   "metadata": {},
   "outputs": [],
   "source": [
    "bins = [0, 10000, 50000, 100000, 150000, 200000, np.inf]\n",
    "labels = ['0-10K', '10K-50K', '50K-100K', '100K-150K', '150K-200K', '200K+']\n",
    "df['odometer_binned'] = pd.cut(df['odometer'].astype(float), bins=bins, labels=labels)"
   ]
  },
  {
   "cell_type": "markdown",
   "id": "509ba839-30f4-4b6e-88fe-e4af34b3d60d",
   "metadata": {},
   "source": [
    "#### Image_url (28,861 unique values)"
   ]
  },
  {
   "cell_type": "markdown",
   "id": "1d47632b-03be-42af-b930-6b136d8c43fe",
   "metadata": {},
   "source": [
    "Grouping by Image Source"
   ]
  },
  {
   "cell_type": "code",
   "execution_count": null,
   "id": "d5e80018-9b26-4fc5-8b6a-0ab0b20230ad",
   "metadata": {},
   "outputs": [],
   "source": [
    "from urllib.parse import urlparse\n",
    "df['image_domain'] = df['image_url'].apply(lambda x: urlparse(x).netloc)\n",
    "\n",
    "# Checking the distribution of domains\n",
    "print(df['image_domain'].value_counts())\n"
   ]
  },
  {
   "cell_type": "markdown",
   "id": "994d0750-6014-4599-bf33-fb637f00efcf",
   "metadata": {},
   "source": [
    "#### Description (28934 unique values)"
   ]
  },
  {
   "cell_type": "code",
   "execution_count": null,
   "id": "0a8f9b50-c017-48e1-8f0d-bef5c9e3d271",
   "metadata": {},
   "outputs": [],
   "source": [
    "pip install --upgrade spacy"
   ]
  },
  {
   "cell_type": "code",
   "execution_count": null,
   "id": "f68e1b6a-cb4f-4aa6-ae64-b96f66352791",
   "metadata": {},
   "outputs": [],
   "source": [
    "pip install --upgrade spacy pydantic"
   ]
  },
  {
   "cell_type": "code",
   "execution_count": null,
   "id": "e0a147ad-0dc8-4695-9596-3f7622ece97d",
   "metadata": {},
   "outputs": [],
   "source": [
    "!python -m spacy download en_core_web_sm"
   ]
  },
  {
   "cell_type": "code",
   "execution_count": null,
   "id": "e0a2cc5e-9a26-4a07-b715-6560fe14eede",
   "metadata": {},
   "outputs": [],
   "source": [
    "import spacy\n",
    "nlp = spacy.load(\"en_core_web_sm\")\n",
    "print(\"SpaCy model loaded successfully.\")"
   ]
  },
  {
   "cell_type": "markdown",
   "id": "8e6a8d9f-b403-4424-a27c-fda99f277c15",
   "metadata": {},
   "source": [
    "Reducing cardinality through Text Processing"
   ]
  },
  {
   "cell_type": "markdown",
   "id": "10288331-365a-4452-adf9-df269354059a",
   "metadata": {},
   "source": [
    "#### 1. Loading the SpaCy Model"
   ]
  },
  {
   "cell_type": "code",
   "execution_count": null,
   "id": "8f3c14df-4a7a-4962-a5c3-e7a1e5cfbe2a",
   "metadata": {},
   "outputs": [],
   "source": [
    "nlp = spacy.load(\"en_core_web_sm\")"
   ]
  },
  {
   "cell_type": "markdown",
   "id": "d72db785-fc66-4c8c-ae09-91012c58e1c5",
   "metadata": {},
   "source": [
    "#### 2. Defining the extract_entities Function\n",
    "This function takes a text string as input, processes it with the SpaCy model (nlp(text)), and extracts named entities from the text. It returns a list of entity labels found in the text."
   ]
  },
  {
   "cell_type": "code",
   "execution_count": null,
   "id": "a04f401f-e2a0-450b-a2d5-b58105e60518",
   "metadata": {},
   "outputs": [],
   "source": [
    "def extract_entities(text):\n",
    "    try:\n",
    "        doc = nlp(text)\n",
    "        entities = [ent.label_ for ent in doc.ents]\n",
    "        return entities\n",
    "    except Exception as e:\n",
    "        print(f\"Error extracting entities: {e}\")\n",
    "        return []"
   ]
  },
  {
   "cell_type": "markdown",
   "id": "b1818740-fbaf-4f34-b98e-ab9ee2fe6ab9",
   "metadata": {},
   "source": [
    "#### 3. Applying the Entity Extraction to the DataFrame"
   ]
  },
  {
   "cell_type": "code",
   "execution_count": null,
   "id": "facad96e-0bc2-43c1-a1b5-780ffac50332",
   "metadata": {},
   "outputs": [],
   "source": [
    "df['description_entities'] = df['description'].apply(extract_entities)"
   ]
  },
  {
   "cell_type": "markdown",
   "id": "1a5591f2-821e-4817-9af0-e533b314203f",
   "metadata": {},
   "source": [
    "#### 4. Categorizing Descriptions Based on Entities\n",
    "Creates new categorical features based on the presence of specific entities:  \n",
    "__has_damage__: Checks if the entity label DAMAGE is in the list of extracted entities.  \n",
    "__has_parts__: Checks if the entity label PRODUCT is in the list.  \n",
    "__mentions_owner__: Checks if the entity label PERSON is in the list."
   ]
  },
  {
   "cell_type": "code",
   "execution_count": null,
   "id": "eb7413a8-7b4a-4d66-9b11-a43a03b7996c",
   "metadata": {},
   "outputs": [],
   "source": [
    "df['has_damage'] = df['description'].apply(lambda x: 'DAMAGE' in extract_entities(x))\n",
    "df['has_parts'] = df['description'].apply(lambda x: 'PRODUCT' in extract_entities(x))\n",
    "df['mentions_owner'] = df['description'].apply(lambda x: 'PERSON' in extract_entities(x))"
   ]
  },
  {
   "cell_type": "code",
   "execution_count": null,
   "id": "0fa6b35a-bec3-4ab4-b18d-5b8e579b043e",
   "metadata": {},
   "outputs": [],
   "source": []
  }
 ],
 "metadata": {
  "kernelspec": {
   "display_name": "Python 3 (ipykernel)",
   "language": "python",
   "name": "python3"
  },
  "language_info": {
   "codemirror_mode": {
    "name": "ipython",
    "version": 3
   },
   "file_extension": ".py",
   "mimetype": "text/x-python",
   "name": "python",
   "nbconvert_exporter": "python",
   "pygments_lexer": "ipython3",
   "version": "3.12.4"
  }
 },
 "nbformat": 4,
 "nbformat_minor": 5
}
